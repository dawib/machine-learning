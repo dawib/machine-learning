{
 "cells": [
  {
   "cell_type": "markdown",
   "metadata": {},
   "source": [
    "# Exercise 1\n",
    "\n",
    "\n",
    "Calculate:\n",
    "\n",
    "* $6+4⋅10$\n",
    "* $(6+4)⋅10$  \n",
    "* $234\\cdot(45−\\frac{56.0}{34})$ \n",
    "* $3^4$"
   ]
  },
  {
   "cell_type": "code",
   "execution_count": 1,
   "metadata": {},
   "outputs": [
    {
     "name": "stdout",
     "output_type": "stream",
     "text": [
      "46\n",
      "100\n",
      "10144.588235294117\n",
      "81\n"
     ]
    }
   ],
   "source": [
    "print(6+4*10)\n",
    "print((6+4)*10)\n",
    "print(234*(45-56./34))\n",
    "print(3**4)"
   ]
  },
  {
   "cell_type": "markdown",
   "metadata": {},
   "source": [
    "# Exercise\n",
    "\n",
    "Using the example below, create a script which will ask a user about his favourite colour and will print the following result (assuming 'red' is the given colour). Use \"+\" and \"*\". \n",
    "<center>\n",
    "```red red red red red red red red red red red red red red red red red red red red red red red red ```\n",
    "</center>\n",
    "\n",
    "```python\n",
    "b = \"the\"\n",
    "c = \"cat\"\n",
    "d = \" is on the mat\"\n",
    "a = b + \" \" + c + d\n",
    "print(a)\n",
    "b = b + \" \"\n",
    "a = b * 5\n",
    "print(a)\n",
    "print(\"The first character of\", c, \"is\" ,c[0])\n",
    "print(\"The word \\\"\"+ c+ \"\\\" has\", len(c) ,\"characters\")\n",
    "name = input (\"Please, type in your name \")\n",
    "name = (name + \"!\") * 5\n",
    "print(name)\n",
    "```"
   ]
  },
  {
   "cell_type": "code",
   "execution_count": 2,
   "metadata": {},
   "outputs": [
    {
     "name": "stdout",
     "output_type": "stream",
     "text": [
      "What is your favourite colorgreen\n",
      "green green green green green green green green green green green green green green green green green green green green \n"
     ]
    }
   ],
   "source": [
    "color=input(\"What is your favourite color\")\n",
    "print((color+ \" \")*20)"
   ]
  },
  {
   "cell_type": "markdown",
   "metadata": {},
   "source": [
    "# 1. Conditions"
   ]
  },
  {
   "cell_type": "code",
   "execution_count": 3,
   "metadata": {},
   "outputs": [
    {
     "name": "stdout",
     "output_type": "stream",
     "text": [
      "True\n",
      "False\n",
      "False\n"
     ]
    }
   ],
   "source": [
    "x = 17\n",
    "print(x == 17)\n",
    "print(x == 3)\n",
    "print(x < 3) "
   ]
  },
  {
   "cell_type": "markdown",
   "metadata": {},
   "source": [
    "# 1.1 Conditional instructions"
   ]
  },
  {
   "cell_type": "code",
   "execution_count": 4,
   "metadata": {},
   "outputs": [
    {
     "name": "stdout",
     "output_type": "stream",
     "text": [
      "OK\n"
     ]
    }
   ],
   "source": [
    "x=2\n",
    "if x==2: \n",
    "    print(\"OK\")"
   ]
  },
  {
   "cell_type": "code",
   "execution_count": 5,
   "metadata": {},
   "outputs": [
    {
     "name": "stdout",
     "output_type": "stream",
     "text": [
      "2\n"
     ]
    }
   ],
   "source": [
    "a = 2\n",
    "b = 4\n",
    "if a > b:\n",
    "    print(b)\n",
    "else:\n",
    "    print(a)"
   ]
  },
  {
   "cell_type": "code",
   "execution_count": 6,
   "metadata": {},
   "outputs": [
    {
     "name": "stdout",
     "output_type": "stream",
     "text": [
      "This script compares two numbers\n",
      "Type in the first number:5\n",
      "Type in the second number:7\n",
      "The number 5 is smaller than 7\n"
     ]
    }
   ],
   "source": [
    "print(\"This script compares two numbers\")\n",
    "x = input(\"Type in the first number:\")                                 \n",
    "y = input(\"Type in the second number:\")                                    \n",
    "print(\"The number\",x,\"is\",end=' ')\n",
    "if x==y:\n",
    "    print(\"the same as\",y)\n",
    "elif x>y:\n",
    "    print(\"bigger than\", y)\n",
    "else:\n",
    "    print(\"smaller than\", y)"
   ]
  },
  {
   "cell_type": "markdown",
   "metadata": {},
   "source": [
    "# Logic operators"
   ]
  },
  {
   "cell_type": "markdown",
   "metadata": {},
   "source": [
    "# Exercise\n",
    "\n",
    "Create a script which will check whether the circles given by the user have non-empty intersection. The user gives **coordinates of origins** and **radii**\n"
   ]
  },
  {
   "cell_type": "code",
   "execution_count": 7,
   "metadata": {},
   "outputs": [
    {
     "name": "stdout",
     "output_type": "stream",
     "text": [
      "Type in the first coordinate of the first origin:0\n",
      "Type in the second coordinate of the first origin:0\n",
      "Type in the first radius:1\n",
      "Type in the first coordinate of the second origin:1\n",
      "Type in the second coordinate of the second origin:1\n",
      "Type in the second radius:1\n",
      "The circles intersect\n"
     ]
    }
   ],
   "source": [
    "\n",
    "x1=float(input(\"Type in the first coordinate of the first origin:\"))\n",
    "y1=float(input(\"Type in the second coordinate of the first origin:\"))\n",
    "r1=float(input(\"Type in the first radius:\"))\n",
    "x2=float(input(\"Type in the first coordinate of the second origin:\"))\n",
    "y2=float(input(\"Type in the second coordinate of the second origin:\"))\n",
    "r2=float(input(\"Type in the second radius:\"))\n",
    "\n",
    "d2 = (x1-x2)**2 + (y1-y2)**2\n",
    "\n",
    "if (r1+r2)**2<d2:\n",
    "    print(\"The circles are disjoint\")\n",
    "elif (r1+r2)**2 == d2:\n",
    "    print(\"The circles are tangent\")\n",
    "else:\n",
    "    print(\"The circles intersect\")"
   ]
  },
  {
   "cell_type": "markdown",
   "metadata": {},
   "source": [
    "# The \"in\" operator\n",
    "The <b>in</b> operator can be used to check whethera given object exists in the iterable container ie list:"
   ]
  },
  {
   "cell_type": "code",
   "execution_count": 9,
   "metadata": {},
   "outputs": [
    {
     "name": "stdout",
     "output_type": "stream",
     "text": [
      "Type in your name.Dawid\n",
      "Your name is neither John or Rick.\n"
     ]
    }
   ],
   "source": [
    "name = input(\"Type in your name.\")\n",
    "if name in [\"John\", \"Rick\"]:\n",
    "    print(\"Your name is either John or Rick.\")\n",
    "else:\n",
    "    print(\"Your name is neither John or Rick.\")\n"
   ]
  },
  {
   "cell_type": "markdown",
   "metadata": {},
   "source": [
    "# 2. Loops\n",
    "There are two types of loops in python: <b>for<b> and <b>while<b>."
   ]
  },
  {
   "cell_type": "markdown",
   "metadata": {},
   "source": [
    "# 2.1 Loops iterated over elements of a sequence\n",
    "\n",
    "Typical loop over numbers"
   ]
  },
  {
   "cell_type": "code",
   "execution_count": 15,
   "metadata": {},
   "outputs": [
    {
     "name": "stdout",
     "output_type": "stream",
     "text": [
      "3\n",
      "6\n",
      "9\n"
     ]
    }
   ],
   "source": [
    "for x in range(3,10,3):\n",
    "      print(x)"
   ]
  },
  {
   "cell_type": "code",
   "execution_count": 16,
   "metadata": {},
   "outputs": [
    {
     "name": "stdout",
     "output_type": "stream",
     "text": [
      "[0, 1, 2, 3, 4, 5, 6, 7, 8, 9]\n",
      "[3, 4, 5, 6, 7, 8, 9]\n",
      "[1, 3, 5, 7, 9]\n",
      "[4, 3, 2, 1]\n"
     ]
    }
   ],
   "source": [
    "print(list(range(10)))\n",
    "print(list(range(3, 10)))\n",
    "print(list(range(1,10,2)))\n",
    "print(list(range(4,0,-1)))"
   ]
  },
  {
   "cell_type": "markdown",
   "metadata": {},
   "source": [
    "The <b>for</b> loop can also iterate over other types of data i.e. lists or strings:"
   ]
  },
  {
   "cell_type": "code",
   "execution_count": 17,
   "metadata": {},
   "outputs": [
    {
     "name": "stdout",
     "output_type": "stream",
     "text": [
      "Some sequence of letters\n",
      "2 3 5 7 \n",
      "apple orange peach "
     ]
    }
   ],
   "source": [
    "bar = \"Some sequence of letters\"\n",
    "for i in bar:\n",
    "    print(i, end =\"\")\n",
    "print()\n",
    "\n",
    "x = [2, 3, 5, 7]\n",
    "for i in x:\n",
    "    print(i, end =\" \") \n",
    "print()\n",
    "\n",
    "for e in ['apple', 'orange', 'peach']:\n",
    "    print(e, end =\" \")"
   ]
  },
  {
   "cell_type": "markdown",
   "metadata": {},
   "source": [
    "In this kind of loop we don't have an access to indices of elements of the list but we can get it by manipulating the collection with <b>enumerate</b> (generator):"
   ]
  },
  {
   "cell_type": "code",
   "execution_count": 18,
   "metadata": {},
   "outputs": [
    {
     "name": "stdout",
     "output_type": "stream",
     "text": [
      "[(0, 'apple'), (1, 'orange'), (2, 'peach')] \n",
      "\n",
      "0 apple\n",
      "1 orange\n",
      "2 peach\n"
     ]
    }
   ],
   "source": [
    "print(list(enumerate(['apple', 'orange', 'peach'])), \"\\n\")\n",
    "\n",
    "for i, x in enumerate(['apple', 'orange', 'peach']):\n",
    "    print(i, x)"
   ]
  },
  {
   "cell_type": "markdown",
   "metadata": {},
   "source": [
    "# 2.2 The while loop\n",
    "\n",
    "The **while** loop repeats instructions inside of it as long as the given logical condition is fulfilled:"
   ]
  },
  {
   "cell_type": "code",
   "execution_count": 1,
   "metadata": {},
   "outputs": [
    {
     "name": "stdout",
     "output_type": "stream",
     "text": [
      "[1, 2, 3, 4, 5]\n",
      "[1, 2, 3, 4]\n",
      "[1, 2, 3]\n",
      "[1, 2]\n",
      "[1]\n",
      "[]\n"
     ]
    }
   ],
   "source": [
    "x=[1,2,3,4,5,6]\n",
    "while x:\n",
    "    x=x[:len(x)-1] \n",
    "    print(x)"
   ]
  },
  {
   "cell_type": "code",
   "execution_count": 2,
   "metadata": {},
   "outputs": [
    {
     "name": "stdout",
     "output_type": "stream",
     "text": [
      "I'm in while.\n",
      "I'm in while.\n",
      "I'm in while.\n",
      "I'm in while.\n",
      "I'm in while.\n"
     ]
    }
   ],
   "source": [
    "count = 10\n",
    "\n",
    "while count < 15:\n",
    "    count += 1\n",
    "    print(\"I'm in while.\")"
   ]
  },
  {
   "cell_type": "markdown",
   "metadata": {},
   "source": [
    "\n",
    "# Exercise\n",
    "Create a script which will take words and write them down until it reads \"stop\".\n"
   ]
  },
  {
   "cell_type": "code",
   "execution_count": 4,
   "metadata": {},
   "outputs": [
    {
     "name": "stdout",
     "output_type": "stream",
     "text": [
      "a\n",
      "a\n",
      "stop\n",
      "stop\n"
     ]
    }
   ],
   "source": [
    "word = \"\"\n",
    "\n",
    "while(word != \"stop\"):\n",
    "    word = input()\n",
    "    print(word)"
   ]
  },
  {
   "cell_type": "markdown",
   "metadata": {},
   "source": [
    "# Exercise\n",
    "\n",
    "Create a script making a mxn binary table in the format of a chess board. For example\n",
    "<br />\n",
    "<tt>\n",
    "n = 5<br />\n",
    "m = 5\n",
    "</tt>\n",
    "\n",
    "gives\n",
    "\n",
    "<br />\n",
    "<tt>\n",
    "10101<br />\n",
    "01010<br />\n",
    "10101<br />\n",
    "01010<br />\n",
    "10101<br />\n",
    "</tt>"
   ]
  },
  {
   "cell_type": "code",
   "execution_count": 7,
   "metadata": {},
   "outputs": [
    {
     "name": "stdout",
     "output_type": "stream",
     "text": [
      "Type in the x dimension:4\n",
      "Type in the y dimension:3\n",
      "1010\n",
      "0101\n",
      "1010\n"
     ]
    }
   ],
   "source": [
    "m = int(input(\"Type in the x dimension:\"))\n",
    "n = int(input(\"Type in the y dimension:\"))\n",
    "\n",
    "line = [0,0]\n",
    "line[0] = \"10\"*int(m/2)+\"1\"*(m%2)\n",
    "line[1] = \"01\"*int(m/2)+\"0\"*(m%2)\n",
    "\n",
    "for j in range(n):\n",
    "    print(line[j%2])\n",
    "    "
   ]
  },
  {
   "cell_type": "markdown",
   "metadata": {},
   "source": [
    "# 3. Number formatting\n",
    "\n",
    "For numbers to be printed correctly we use the **%** operator together with formatting sequence. \n",
    "\n",
    "The formatting sequence consists of **%**, after which there appear:\n",
    "\n",
    "* formatting options, \n",
    "* number of signs to print \n",
    "* data type of a sign to print \n",
    "(only the third part is necessary)\n",
    "\n",
    "Data type is set by a letter:\n",
    "* **s** is a string"
   ]
  },
  {
   "cell_type": "code",
   "execution_count": 1,
   "metadata": {},
   "outputs": [
    {
     "name": "stdout",
     "output_type": "stream",
     "text": [
      "10\n",
      "[0, 1, 2, 3, 4, 5]\n",
      "txt\n",
      "      test\n",
      "test      \n",
      "xylop\n"
     ]
    }
   ],
   "source": [
    "print(\"%s\" % 10)\n",
    "print(\"%s\" % list(range(6)))\n",
    "print(\"%s\" % \"txt\")\n",
    "print('%10s' % 'test')\n",
    "print('%-10s' % 'test')\n",
    "print('%.5s' % 'xylophone')"
   ]
  },
  {
   "cell_type": "markdown",
   "metadata": {},
   "source": [
    "* **d** is a decimal integer number:"
   ]
  },
  {
   "cell_type": "code",
   "execution_count": 2,
   "metadata": {},
   "outputs": [
    {
     "name": "stdout",
     "output_type": "stream",
     "text": [
      "255\n",
      "2\n",
      "255\n",
      "2\n"
     ]
    }
   ],
   "source": [
    "print(\"%d\" % 0xff)\n",
    "print(\"%d\" % 2)\n",
    "print('{:d}'.format(0xff))\n",
    "print('{:d}'.format(2))"
   ]
  },
  {
   "cell_type": "markdown",
   "metadata": {},
   "source": [
    "* **f** is a floating point number in a decimal form:"
   ]
  },
  {
   "cell_type": "code",
   "execution_count": 3,
   "metadata": {},
   "outputs": [
    {
     "name": "stdout",
     "output_type": "stream",
     "text": [
      "123.000000\n",
      "1.230000\n",
      "123.000000\n",
      "1.230000\n"
     ]
    }
   ],
   "source": [
    "print(\"%f\" % 123)\n",
    "print(\"%f\" % 1.23)\n",
    "\n",
    "print('{:f}'.format(123))\n",
    "print('{:f}'.format(1.23))"
   ]
  },
  {
   "cell_type": "markdown",
   "metadata": {},
   "source": [
    "# Exercise\n",
    "\n",
    "Create a script drawing a \"ruler\" with a given length i.e.:\n",
    "\n",
    "$$|....|....|....|....|....|....|....|....|$$\n",
    "$$0 \\quad \\ 1 \\quad \\ 2 \\quad \\ 3 \\quad \\ 4 \\quad \\ 5 \\quad \\ 6 \\quad \\ 7 \\quad \\ 8$$"
   ]
  },
  {
   "cell_type": "code",
   "execution_count": 22,
   "metadata": {},
   "outputs": [
    {
     "name": "stdout",
     "output_type": "stream",
     "text": [
      "Type the length of a ruler: 15\n",
      "|....|....|....|....|....|....|....|....|....|....|....|....|....|....|....|\n",
      "0    1    2    3    4    5    6    7    8    9   10   11   12   13   14   15"
     ]
    }
   ],
   "source": [
    "d = int(input(\"Type the length of a ruler: \"))\n",
    "\n",
    "line = \"|\"+d*\"....|\"\n",
    "print(line)\n",
    "\n",
    "print('0',end='')\n",
    "for j in range(1,d+1):\n",
    "    print('%5s' % j,end='')"
   ]
  },
  {
   "cell_type": "markdown",
   "metadata": {},
   "source": [
    "# Functions\n",
    "\n",
    "The function's definition must contain:\n",
    "\n",
    "* header:\n",
    "  * name of the function allowing to identify it in the rest of a script,\n",
    "  * list of arguments\n",
    "* body containing list of instructions which are to be done when the function is called\n",
    "  * if the function is supposed to return some value, it must have a **return** instruction\n",
    "\n",
    "The function's syntax is as follows"
   ]
  },
  {
   "cell_type": "code",
   "execution_count": 58,
   "metadata": {
    "collapsed": true
   },
   "outputs": [],
   "source": [
    "def name(args):\n",
    "    instructions"
   ]
  },
  {
   "cell_type": "markdown",
   "metadata": {},
   "source": [
    "Example"
   ]
  },
  {
   "cell_type": "code",
   "execution_count": 23,
   "metadata": {},
   "outputs": [
    {
     "name": "stdout",
     "output_type": "stream",
     "text": [
      "That's how you use the function\n"
     ]
    }
   ],
   "source": [
    "def write(string):\n",
    "    print(string)\n",
    "    \n",
    "write(\"That's how you use the function\")"
   ]
  },
  {
   "cell_type": "code",
   "execution_count": 24,
   "metadata": {},
   "outputs": [
    {
     "name": "stdout",
     "output_type": "stream",
     "text": [
      "12\n",
      "1\n"
     ]
    }
   ],
   "source": [
    "def add(x, y):\n",
    "    return x+y\n",
    "\n",
    "print(add(4,8))\n",
    "x = add(2, -1)\n",
    "print(x)"
   ]
  },
  {
   "cell_type": "markdown",
   "metadata": {},
   "source": [
    "## Many results\n",
    "If we want the function to return more than one variable, we use the notion of a tuple: (var1,var2,...,varn)."
   ]
  },
  {
   "cell_type": "code",
   "execution_count": 25,
   "metadata": {},
   "outputs": [
    {
     "name": "stdout",
     "output_type": "stream",
     "text": [
      "(6, -2)\n",
      "(6, -2)\n"
     ]
    }
   ],
   "source": [
    "def f1(a,b):\n",
    "    return a+b,a-b\n",
    "\n",
    "def f2(a,b):\n",
    "    return (a+b,a-b)\n",
    "\n",
    "print(f1(2, 4))\n",
    "print(f2(2, 4))"
   ]
  },
  {
   "cell_type": "markdown",
   "metadata": {},
   "source": [
    "# Sequential types\n",
    "\n",
    "Sequential types are used to store many values in one variable."
   ]
  },
  {
   "cell_type": "markdown",
   "metadata": {},
   "source": [
    "# 1. Strings"
   ]
  },
  {
   "cell_type": "code",
   "execution_count": 29,
   "metadata": {},
   "outputs": [
    {
     "name": "stdout",
     "output_type": "stream",
     "text": [
      "T\n",
      "h\n",
      "s\n",
      "g\n",
      "n\n",
      "i\n"
     ]
    }
   ],
   "source": [
    "x = \"This is a string\"\n",
    "print(x[0])\n",
    "print(x[1])\n",
    "print(x[3])\n",
    "\n",
    "print(x[-1])\n",
    "print(x[-2])\n",
    "print(x[-3])"
   ]
  },
  {
   "cell_type": "code",
   "execution_count": 30,
   "metadata": {},
   "outputs": [
    {
     "name": "stdout",
     "output_type": "stream",
     "text": [
      "16\n"
     ]
    }
   ],
   "source": [
    "x = \"This is a string\"\n",
    "print(len(x))"
   ]
  },
  {
   "cell_type": "markdown",
   "metadata": {},
   "source": [
    "# 2. Lists"
   ]
  },
  {
   "cell_type": "code",
   "execution_count": 31,
   "metadata": {},
   "outputs": [
    {
     "name": "stdout",
     "output_type": "stream",
     "text": [
      "[1, 2, 3]\n",
      "[1, 'yes', 5]\n"
     ]
    }
   ],
   "source": [
    "x = [1, 2, 3]\n",
    "y = [1, 'yes', 5]\n",
    "\n",
    "print(x)\n",
    "print(y)"
   ]
  },
  {
   "cell_type": "code",
   "execution_count": 32,
   "metadata": {},
   "outputs": [
    {
     "name": "stdout",
     "output_type": "stream",
     "text": [
      "True\n",
      "False\n",
      "True\n"
     ]
    }
   ],
   "source": [
    "x = [1, 2, 3, 4]\n",
    "\n",
    "print(2 in x)\n",
    "print(3 not in x)\n",
    "print(5 not in x)"
   ]
  },
  {
   "cell_type": "code",
   "execution_count": 33,
   "metadata": {},
   "outputs": [
    {
     "name": "stdout",
     "output_type": "stream",
     "text": [
      "[range(0, 5), [8, -7, -1]]\n",
      "range(0, 5)\n",
      "[8, -7, -1]\n",
      "-7\n"
     ]
    }
   ],
   "source": [
    "x = [range(5), [8, -7, -1]]\n",
    "\n",
    "print(x)\n",
    "print(x[0])\n",
    "print(x[1])\n",
    "print(x[1][1])"
   ]
  },
  {
   "cell_type": "markdown",
   "metadata": {},
   "source": [
    "# Exercise\n",
    "\n",
    "Create a scritpt putting a space between every two characters in a string e.g. **'Python' → ' P y t h o n '**. "
   ]
  },
  {
   "cell_type": "code",
   "execution_count": 36,
   "metadata": {},
   "outputs": [
    {
     "name": "stdout",
     "output_type": "stream",
     "text": [
      "Type in the stringpython\n",
      "p y t h o n\n"
     ]
    }
   ],
   "source": [
    "s = input('Type in the string')\n",
    "\n",
    "w1 = ' '.join(s)\n",
    "\n",
    "print(w1)"
   ]
  },
  {
   "cell_type": "markdown",
   "metadata": {},
   "source": [
    "# Exercise\n",
    "Create a function **reverse(string)**, which will return a reversed word i.e. reverse('hello') should return 'olleh'."
   ]
  },
  {
   "cell_type": "code",
   "execution_count": 41,
   "metadata": {},
   "outputs": [
    {
     "name": "stdout",
     "output_type": "stream",
     "text": [
      "olleh\n"
     ]
    }
   ],
   "source": [
    " def reverse(word):\n",
    "        n = len(word)\n",
    "        w = ''.join([word[n-j-1] for j in range(n)])\n",
    "        return w\n",
    "        \n",
    "print(reverse('hello'))"
   ]
  },
  {
   "cell_type": "markdown",
   "metadata": {},
   "source": [
    "## Modules and packages\n",
    "Module is a python file containing definitions of classes, functions, constants and variables. Definitions from the module can be imported to other modules or to the main module.Inside the main module its name is available as a value of global variable <tt>\\__name__</tt>**."
   ]
  },
  {
   "cell_type": "markdown",
   "metadata": {},
   "source": [
    "## Chosen packages and modules:\n",
    "\n",
    "* random - this module contains functions allowing to use the pseudorandom numbers:"
   ]
  },
  {
   "cell_type": "code",
   "execution_count": 42,
   "metadata": {},
   "outputs": [
    {
     "name": "stdout",
     "output_type": "stream",
     "text": [
      "9\n",
      "10\n",
      "1\n"
     ]
    }
   ],
   "source": [
    "import random\n",
    "\n",
    "random.seed() # initialize the generator\n",
    "\n",
    "# taking random integer numbers\n",
    "print(random.randint(1,10))\n",
    "print(random.randint(1,10))\n",
    "print(random.randint(1,10))"
   ]
  },
  {
   "cell_type": "markdown",
   "metadata": {},
   "source": [
    "* **math** - module containing definitions of most commonly used math functions:"
   ]
  },
  {
   "cell_type": "code",
   "execution_count": 43,
   "metadata": {},
   "outputs": [
    {
     "name": "stdout",
     "output_type": "stream",
     "text": [
      "5\n",
      "4\n",
      "3.0\n",
      "(0.5, 2.0)\n",
      "7.38905609893065\n",
      "1.0\n",
      "3.0\n",
      "1.5\n",
      "0.0\n",
      "0.5403023058681398\n"
     ]
    }
   ],
   "source": [
    "from math import *\n",
    "\n",
    "print(ceil(4.7)) # ceiling of a real number\n",
    "print(floor(4.7)) # floor of a real number\n",
    "print(fabs(-3)) # absolute value of a number\n",
    "print(modf(2.5)) # tuple with fractional and integer part of a number\n",
    "print(exp(2)) # e to power x\n",
    "print(log(e)) # natural logarithm\n",
    "print(log(8, 2)) # logarithm with a given base\n",
    "print(sqrt(2.25)) # square root\n",
    "print(acos(1))\n",
    "print(cos(1))"
   ]
  },
  {
   "cell_type": "markdown",
   "metadata": {},
   "source": [
    "\n",
    "# Exercise\n",
    "\n",
    "Find $\\pi$ with a Monte Carlo method"
   ]
  },
  {
   "cell_type": "code",
   "execution_count": 66,
   "metadata": {},
   "outputs": [
    {
     "name": "stdout",
     "output_type": "stream",
     "text": [
      "3.140152\n"
     ]
    }
   ],
   "source": [
    "from numpy.random import rand\n",
    "from numpy.linalg import norm\n",
    "\n",
    "N = 10**6 #number of points\n",
    "\n",
    "points = rand(N,2)\n",
    "\n",
    "is_in_circle = [int(norm(p)<1) for p in points]\n",
    "\n",
    "K = sum(is_in_circle)\n",
    "\n",
    "print(4*K/N)"
   ]
  }
 ],
 "metadata": {
  "kernelspec": {
   "display_name": "Python 3",
   "language": "python",
   "name": "python3"
  },
  "language_info": {
   "codemirror_mode": {
    "name": "ipython",
    "version": 3
   },
   "file_extension": ".py",
   "mimetype": "text/x-python",
   "name": "python",
   "nbconvert_exporter": "python",
   "pygments_lexer": "ipython3",
   "version": "3.8.8"
  }
 },
 "nbformat": 4,
 "nbformat_minor": 2
}
