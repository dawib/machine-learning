{
 "cells": [
  {
   "cell_type": "markdown",
   "metadata": {},
   "source": [
    "# Zadanie 1"
   ]
  },
  {
   "cell_type": "markdown",
   "metadata": {
    "collapsed": true
   },
   "source": [
    "Posługując się danymi z pliku infmort stwórz modele objaśniające czy dany kraj eksportuje rope. \n",
    "Wytrenuj klasyfikacyjne sieci neuronowez jedną ukrytą warstwą zawierającą odpowiednio różne ilości ukrytych węzłów.\n",
    "Wypisz 'confusion matrix' współczynnik f1, procent udanej predykcji. Stwórz krzywą błędu uczącego oraz walidacyjnego w zależności od ilości użytych warstw. Który model jest najskuteczniejszy? Porównaj go z regresją logistyczną."
   ]
  },
  {
   "cell_type": "code",
   "execution_count": 20,
   "metadata": {},
   "outputs": [
    {
     "name": "stdout",
     "output_type": "stream",
     "text": [
      "2 ukryte wezly: \n",
      "              precision    recall  f1-score   support\n",
      "\n",
      "           0       0.91      1.00      0.96        96\n",
      "           1       0.00      0.00      0.00         9\n",
      "\n",
      "    accuracy                           0.91       105\n",
      "   macro avg       0.46      0.50      0.48       105\n",
      "weighted avg       0.84      0.91      0.87       105\n",
      "\n",
      "[[96  0]\n",
      " [ 9  0]]\n"
     ]
    },
    {
     "name": "stderr",
     "output_type": "stream",
     "text": [
      "C:\\Users\\Dawid\\anaconda3\\lib\\site-packages\\sklearn\\metrics\\_classification.py:1272: UndefinedMetricWarning: Precision and F-score are ill-defined and being set to 0.0 in labels with no predicted samples. Use `zero_division` parameter to control this behavior.\n",
      "  _warn_prf(average, modifier, msg_start, len(result))\n"
     ]
    },
    {
     "name": "stdout",
     "output_type": "stream",
     "text": [
      "6 ukrytych wezlow: \n",
      "              precision    recall  f1-score   support\n",
      "\n",
      "           0       0.91      1.00      0.96        96\n",
      "           1       0.00      0.00      0.00         9\n",
      "\n",
      "    accuracy                           0.91       105\n",
      "   macro avg       0.46      0.50      0.48       105\n",
      "weighted avg       0.84      0.91      0.87       105\n",
      "\n",
      "[[96  0]\n",
      " [ 9  0]]\n"
     ]
    },
    {
     "name": "stderr",
     "output_type": "stream",
     "text": [
      "C:\\Users\\Dawid\\anaconda3\\lib\\site-packages\\sklearn\\metrics\\_classification.py:1272: UndefinedMetricWarning: Precision and F-score are ill-defined and being set to 0.0 in labels with no predicted samples. Use `zero_division` parameter to control this behavior.\n",
      "  _warn_prf(average, modifier, msg_start, len(result))\n"
     ]
    },
    {
     "name": "stdout",
     "output_type": "stream",
     "text": [
      "10 ukrytych wezlow: \n",
      "              precision    recall  f1-score   support\n",
      "\n",
      "           0       0.91      1.00      0.96        96\n",
      "           1       0.00      0.00      0.00         9\n",
      "\n",
      "    accuracy                           0.91       105\n",
      "   macro avg       0.46      0.50      0.48       105\n",
      "weighted avg       0.84      0.91      0.87       105\n",
      "\n",
      "[[96  0]\n",
      " [ 9  0]]\n"
     ]
    },
    {
     "name": "stderr",
     "output_type": "stream",
     "text": [
      "C:\\Users\\Dawid\\anaconda3\\lib\\site-packages\\sklearn\\metrics\\_classification.py:1272: UndefinedMetricWarning: Precision and F-score are ill-defined and being set to 0.0 in labels with no predicted samples. Use `zero_division` parameter to control this behavior.\n",
      "  _warn_prf(average, modifier, msg_start, len(result))\n"
     ]
    },
    {
     "name": "stdout",
     "output_type": "stream",
     "text": [
      "20 ukrytych wezlow: \n",
      "              precision    recall  f1-score   support\n",
      "\n",
      "           0       0.91      1.00      0.96        96\n",
      "           1       0.00      0.00      0.00         9\n",
      "\n",
      "    accuracy                           0.91       105\n",
      "   macro avg       0.46      0.50      0.48       105\n",
      "weighted avg       0.84      0.91      0.87       105\n",
      "\n",
      "[[96  0]\n",
      " [ 9  0]]\n"
     ]
    },
    {
     "name": "stderr",
     "output_type": "stream",
     "text": [
      "C:\\Users\\Dawid\\anaconda3\\lib\\site-packages\\sklearn\\metrics\\_classification.py:1272: UndefinedMetricWarning: Precision and F-score are ill-defined and being set to 0.0 in labels with no predicted samples. Use `zero_division` parameter to control this behavior.\n",
      "  _warn_prf(average, modifier, msg_start, len(result))\n"
     ]
    }
   ],
   "source": [
    "import pandas as pd\n",
    "import numpy as np\n",
    "from sklearn.neural_network import MLPClassifier\n",
    "from sklearn.metrics import classification_report as CR, confusion_matrix as CM\n",
    "\n",
    "df = pd.read_csv('infmort.csv')\n",
    "data = pd.get_dummies(df[['region', 'income', 'mortality']])\n",
    "\n",
    "#print(data.isnull().any())\n",
    "        \n",
    "avg_mort = np.mean(data['mortality'].dropna().to_numpy())\n",
    "data['mortality'] = data['mortality'].fillna(avg_mort)\n",
    "#print()\n",
    "#print(data.isnull().any())\n",
    "\n",
    "X = data.to_numpy()\n",
    "y = list(df['oil'].to_numpy())\n",
    "\n",
    "for i in range(len(y)):\n",
    "    if y[i]=='oil exports':\n",
    "        y[i]=1\n",
    "    else:\n",
    "        y[i]=0\n",
    "\n",
    "#2 wezly ukryte-----------------------------------------------\n",
    "mlp2 = MLPClassifier(hidden_layer_sizes=(2,), activation='logistic', max_iter=5000)\n",
    "mlp2.fit(X,y)\n",
    "y_pred2 = mlp2.predict(X)\n",
    "print('2 ukryte wezly: ')\n",
    "print(CR(y,y_pred2))\n",
    "print(CM(y,y_pred2))\n",
    "\n",
    "#6 wezlow ukrytych--------------------------------------------\n",
    "mlp6 = MLPClassifier(hidden_layer_sizes=(6,), activation='logistic', max_iter=5000)\n",
    "mlp6.fit(X,y)\n",
    "y_pred = mlp6.predict(X)\n",
    "print('6 ukrytych wezlow: ')\n",
    "print(CR(y,y_pred))\n",
    "print(CM(y,y_pred))\n",
    "\n",
    "#10 wezlow ukrytych-------------------------------------------\n",
    "mlp10 = MLPClassifier(hidden_layer_sizes=(10,), activation='logistic', max_iter=5000)\n",
    "mlp10.fit(X,y)\n",
    "y_pred = mlp10.predict(X)\n",
    "print('10 ukrytych wezlow: ')\n",
    "print(CR(y,y_pred))\n",
    "print(CM(y,y_pred))\n",
    "\n",
    "#20 wezlow ukrytych-------------------------------------------\n",
    "mlp20 = MLPClassifier(hidden_layer_sizes=(20,), activation='logistic', max_iter=5000)\n",
    "mlp20.fit(X,y)\n",
    "y_pred = mlp20.predict(X)\n",
    "print('20 ukrytych wezlow: ')\n",
    "print(CR(y,y_pred))\n",
    "print(CM(y,y_pred))\n",
    "\n"
   ]
  },
  {
   "cell_type": "code",
   "execution_count": 21,
   "metadata": {},
   "outputs": [
    {
     "data": {
      "image/png": "[encoded data removed]",
      "text/plain": [
       "<Figure size 432x288 with 1 Axes>"
      ]
     },
     "metadata": {
      "needs_background": "light"
     },
     "output_type": "display_data"
    }
   ],
   "source": [
    "from sklearn.model_selection import train_test_split\n",
    "import matplotlib.pyplot as plt\n",
    "\n",
    "params = [(8,),(8,8),(8,8,8),(8,8,8,8)]\n",
    "train_scores, test_scores = validation_curve(estimator=mlp, X=X,\n",
    "                                             y=y, param_name='hidden_layer_sizes',\n",
    "                                             param_range=params, cv=5)\n",
    "train_mean = np.mean(train_scores, axis=1)\n",
    "train_std = np.std(train_scores, axis=1)\n",
    "test_mean = np.mean(test_scores, axis=1)\n",
    "test_std = np.std(test_scores, axis=1)\n",
    "\n",
    "plt.figure()\n",
    "plt.plot([1,2,3,4], train_mean, 'b', label='train')\n",
    "plt.plot([1,2,3,4], test_mean, 'g', label='test')\n",
    "plt.fill_between([1,2,3,4], train_mean-train_std, train_mean+train_std,color='blue', alpha=0.2)\n",
    "plt.fill_between([1,2,3,4], test_mean-test_std, test_mean+test_std, color='green', alpha=0.2)\n",
    "plt.legend()\n",
    "plt.show()"
   ]
  },
  {
   "cell_type": "code",
   "execution_count": 104,
   "metadata": {},
   "outputs": [
    {
     "name": "stdout",
     "output_type": "stream",
     "text": [
      "Regresja logistyczna:\n",
      "              precision    recall  f1-score   support\n",
      "\n",
      "           0       0.90      0.93      0.91        28\n",
      "           1       0.33      0.25      0.29         4\n",
      "\n",
      "    accuracy                           0.84        32\n",
      "   macro avg       0.61      0.59      0.60        32\n",
      "weighted avg       0.83      0.84      0.83        32\n",
      "\n",
      "[[26  2]\n",
      " [ 3  1]]\n",
      "Sieć z 6 warstwami:\n",
      "              precision    recall  f1-score   support\n",
      "\n",
      "           0       0.88      1.00      0.93        28\n",
      "           1       0.00      0.00      0.00         4\n",
      "\n",
      "    accuracy                           0.88        32\n",
      "   macro avg       0.44      0.50      0.47        32\n",
      "weighted avg       0.77      0.88      0.82        32\n",
      "\n",
      "[[28  0]\n",
      " [ 4  0]]\n"
     ]
    },
    {
     "name": "stderr",
     "output_type": "stream",
     "text": [
      "C:\\Users\\Dawid\\anaconda3\\lib\\site-packages\\sklearn\\linear_model\\_logistic.py:940: ConvergenceWarning: lbfgs failed to converge (status=1):\n",
      "STOP: TOTAL NO. of ITERATIONS REACHED LIMIT.\n",
      "\n",
      "Increase the number of iterations (max_iter) or scale the data as shown in:\n",
      "    https://scikit-learn.org/stable/modules/preprocessing.html\n",
      "Please also refer to the documentation for alternative solver options:\n",
      "    https://scikit-learn.org/stable/modules/linear_model.html#logistic-regression\n",
      "  extra_warning_msg=_LOGISTIC_SOLVER_CONVERGENCE_MSG)\n",
      "C:\\Users\\Dawid\\anaconda3\\lib\\site-packages\\sklearn\\metrics\\_classification.py:1272: UndefinedMetricWarning: Precision and F-score are ill-defined and being set to 0.0 in labels with no predicted samples. Use `zero_division` parameter to control this behavior.\n",
      "  _warn_prf(average, modifier, msg_start, len(result))\n"
     ]
    }
   ],
   "source": [
    "from sklearn.linear_model import LogisticRegression as LR\n",
    "\n",
    "logreg = LR(penalty='none').fit(X_train,y_train)\n",
    "y_pred = logreg.predict(X_test)\n",
    "print('Regresja logistyczna:')\n",
    "print(CR(y_test,y_pred))\n",
    "print(CM(y_test,y_pred))\n",
    "\n",
    "y_pred = mlp.predict(X_test)\n",
    "print('Sieć z 6 warstwami:')\n",
    "print(CR(y_test,y_pred))\n",
    "print(CM(y_test,y_pred))"
   ]
  },
  {
   "cell_type": "markdown",
   "metadata": {},
   "source": [
    "# Zadanie 2"
   ]
  },
  {
   "cell_type": "markdown",
   "metadata": {
    "collapsed": true
   },
   "source": [
    "Posługując się danymi z pliku chredlin stwórz modele objaśniające w której części Chicago znajduje się dany dom. \n",
    "Wytrenuj klasyfikacyjne sieci neuronowe z jedną ukrytą warstwą zawierającą odpowiednio różne ilości ukrytych węzłów.\n",
    "Wypisz 'confusion matrix' współczynnik f1, procent udanej predykcji.  Stwórz krzywą błędu uczącego oraz walidacyjnego w zależności od ilości użytych warstw. Który model jest najskuteczniejszy? Porównaj go z regresją logistyczną."
   ]
  },
  {
   "cell_type": "code",
   "execution_count": 15,
   "metadata": {},
   "outputs": [
    {
     "name": "stdout",
     "output_type": "stream",
     "text": [
      "Index(['Unnamed: 0', 'race', 'fire', 'theft', 'age', 'involact', 'income',\n",
      "       'side'],\n",
      "      dtype='object')\n",
      "2 ukryte wezly: \n",
      "              precision    recall  f1-score   support\n",
      "\n",
      "           0       0.54      0.32      0.40        22\n",
      "           1       0.56      0.76      0.64        25\n",
      "\n",
      "    accuracy                           0.55        47\n",
      "   macro avg       0.55      0.54      0.52        47\n",
      "weighted avg       0.55      0.55      0.53        47\n",
      "\n",
      "[[ 7 15]\n",
      " [ 6 19]]\n",
      "0.5531914893617021\n",
      "6 ukrytych wezlow: \n",
      "              precision    recall  f1-score   support\n",
      "\n",
      "           0       0.00      0.00      0.00        22\n",
      "           1       0.51      0.92      0.66        25\n",
      "\n",
      "    accuracy                           0.49        47\n",
      "   macro avg       0.26      0.46      0.33        47\n",
      "weighted avg       0.27      0.49      0.35        47\n",
      "\n",
      "[[ 0 22]\n",
      " [ 2 23]]\n",
      "0.48936170212765956\n",
      "10 ukrytych wezlow: \n",
      "              precision    recall  f1-score   support\n",
      "\n",
      "           0       0.83      0.91      0.87        22\n",
      "           1       0.91      0.84      0.87        25\n",
      "\n",
      "    accuracy                           0.87        47\n",
      "   macro avg       0.87      0.87      0.87        47\n",
      "weighted avg       0.88      0.87      0.87        47\n",
      "\n",
      "[[20  2]\n",
      " [ 4 21]]\n",
      "0.8723404255319149\n",
      "20 ukrytych wezlow: \n",
      "              precision    recall  f1-score   support\n",
      "\n",
      "           0       0.95      0.91      0.93        22\n",
      "           1       0.92      0.96      0.94        25\n",
      "\n",
      "    accuracy                           0.94        47\n",
      "   macro avg       0.94      0.93      0.94        47\n",
      "weighted avg       0.94      0.94      0.94        47\n",
      "\n",
      "[[20  2]\n",
      " [ 1 24]]\n",
      "0.9361702127659575\n",
      "0 0.6666666666666666\n",
      "1 0.4666666666666667\n",
      "2 0.6666666666666666\n",
      "3 0.6666666666666666\n",
      "4 0.6666666666666666\n",
      "5 0.6666666666666666\n",
      "6 0.6666666666666666\n",
      "7 0.6666666666666666\n",
      "8 0.6666666666666666\n",
      "9 0.6666666666666666\n",
      "10 0.6666666666666666\n",
      "11 0.6666666666666666\n",
      "12 0.6666666666666666\n",
      "13 0.6666666666666666\n",
      "14 0.6\n",
      "15 0.6666666666666666\n",
      "16 0.6\n",
      "17 0.6666666666666666\n",
      "18 0.6666666666666666\n",
      "19 0.6666666666666666\n",
      "20 0.6\n",
      "21 0.6\n",
      "22 0.6666666666666666\n",
      "23 0.6\n",
      "24 0.6666666666666666\n",
      "25 0.6666666666666666\n",
      "26 0.6666666666666666\n",
      "27 0.6666666666666666\n",
      "28 0.6\n",
      "29 0.6666666666666666\n"
     ]
    }
   ],
   "source": [
    "import pandas as pd\n",
    "import numpy as np\n",
    "from sklearn.neural_network import MLPClassifier\n",
    "from sklearn.metrics import classification_report as CR, confusion_matrix as CM\n",
    "\n",
    "df = pd.read_csv('chredlin.csv')\n",
    "print(df.columns)\n",
    "\n",
    "data = df[['race', 'fire', 'theft', 'age', 'involact', 'income']]\n",
    "X = data.to_numpy()\n",
    "y = list(df['side'].to_numpy())\n",
    "\n",
    "for i in range(len(y)):\n",
    "    if y[i]=='n':\n",
    "        y[i]=1\n",
    "    else:\n",
    "        y[i]=0\n",
    "\n",
    "#2 wezly ukryte-----------------------------------------------\n",
    "mlp2 = MLPClassifier(hidden_layer_sizes=(2,), activation='logistic', max_iter=5000)\n",
    "mlp2.fit(X,y)\n",
    "y_pred2 = mlp2.predict(X)\n",
    "print('2 ukryte wezly: ')\n",
    "print(CR(y,y_pred2))\n",
    "print(CM(y,y_pred2))\n",
    "print(mlp2.score(X,y))\n",
    "\n",
    "#6 wezlow ukrytych--------------------------------------------\n",
    "mlp6 = MLPClassifier(hidden_layer_sizes=(6,), activation='logistic', max_iter=5000)\n",
    "mlp6.fit(X,y)\n",
    "y_pred = mlp6.predict(X)\n",
    "print('6 ukrytych wezlow: ')\n",
    "print(CR(y,y_pred))\n",
    "print(CM(y,y_pred))\n",
    "print(mlp6.score(X,y))\n",
    "\n",
    "#10 wezlow ukrytych-------------------------------------------\n",
    "mlp10 = MLPClassifier(hidden_layer_sizes=(10,), activation='logistic', max_iter=5000)\n",
    "mlp10.fit(X,y)\n",
    "y_pred = mlp10.predict(X)\n",
    "print('10 ukrytych wezlow: ')\n",
    "print(CR(y,y_pred))\n",
    "print(CM(y,y_pred))\n",
    "print(mlp10.score(X,y))\n",
    "\n",
    "#20 wezlow ukrytych-------------------------------------------\n",
    "mlp20 = MLPClassifier(hidden_layer_sizes=(20,), activation='logistic', max_iter=5000)\n",
    "mlp20.fit(X,y)\n",
    "y_pred = mlp20.predict(X)\n",
    "print('20 ukrytych wezlow: ')\n",
    "print(CR(y,y_pred))\n",
    "print(CM(y,y_pred))\n",
    "print(mlp20.score(X,y))\n",
    "\n",
    "X_train, X_test, y_train, y_test = train_test_split(X,y,test_size=.3)\n",
    "\n",
    "for i in range(30):\n",
    "    mlp = MLPClassifier(hidden_layer_sizes=(i+1,), activation='logistic', max_iter=5000)\n",
    "    mlp.fit(X_train,y_train)\n",
    "    print(i, mlp.score(X_test,y_test))"
   ]
  },
  {
   "cell_type": "code",
   "execution_count": 19,
   "metadata": {},
   "outputs": [
    {
     "data": {
      "image/png": "[encoded data removed]",
      "text/plain": [
       "<Figure size 432x288 with 1 Axes>"
      ]
     },
     "metadata": {
      "needs_background": "light"
     },
     "output_type": "display_data"
    }
   ],
   "source": [
    "from sklearn.model_selection import train_test_split, validation_curve\n",
    "import matplotlib.pyplot as plt\n",
    "\n",
    "X_train, X_test, y_train, y_test = train_test_split(X,y,test_size=.2)\n",
    "\n",
    "# error_train=[]\n",
    "# error_test=[]\n",
    "\n",
    "# l = 10\n",
    "# all_layers = [l,l,l,l,l,l,l,l]\n",
    "# for i in range(len(all_layers)):\n",
    "#     layers = tuple(all_layers[:i+1])\n",
    "    \n",
    "#     mlp = MLPClassifier(hidden_layer_sizes=layers,activation='logistic',max_iter=5000)\n",
    "#     mlp.fit(X_train,y_train)\n",
    "    \n",
    "#     error_train.append(1-mlp.score(X_train,y_train))\n",
    "#     error_test.append(1-mlp.score(X_test,y_test))\n",
    "    \n",
    "# plt.plot(error_train)\n",
    "# plt.plot(error_test)\n",
    "# plt.show()\n",
    "\n",
    "# y_pred = mlp.predict(X_train)\n",
    "# print(CR(y_train,y_pred))\n",
    "# print(CM(y_train,y_pred))\n",
    "\n",
    "params = [(8,),(8,8),(8,8,8),(8,8,8,8)]\n",
    "train_scores, test_scores = validation_curve(estimator=mlp, X=X,\n",
    "                                             y=y, param_name='hidden_layer_sizes',\n",
    "                                             param_range=params, cv=5)\n",
    "train_mean = np.mean(train_scores, axis=1)\n",
    "train_std = np.std(train_scores, axis=1)\n",
    "test_mean = np.mean(test_scores, axis=1)\n",
    "test_std = np.std(test_scores, axis=1)\n",
    "\n",
    "plt.figure()\n",
    "plt.plot([1,2,3,4], train_mean, 'b', label='train')\n",
    "plt.plot([1,2,3,4], test_mean, 'g', label='test')\n",
    "plt.fill_between([1,2,3,4], train_mean-train_std, train_mean+train_std,color='blue', alpha=0.2)\n",
    "plt.fill_between([1,2,3,4], test_mean-test_std, test_mean+test_std, color='green', alpha=0.2)\n",
    "plt.legend()\n",
    "plt.show()"
   ]
  },
  {
   "cell_type": "code",
   "execution_count": 141,
   "metadata": {},
   "outputs": [
    {
     "name": "stdout",
     "output_type": "stream",
     "text": [
      "Regresja logistyczna:\n",
      "              precision    recall  f1-score   support\n",
      "\n",
      "           0       0.80      0.67      0.73         6\n",
      "           1       0.60      0.75      0.67         4\n",
      "\n",
      "    accuracy                           0.70        10\n",
      "   macro avg       0.70      0.71      0.70        10\n",
      "weighted avg       0.72      0.70      0.70        10\n",
      "\n",
      "[[4 2]\n",
      " [1 3]]\n",
      "Sieć z 1 warstwami:\n",
      "              precision    recall  f1-score   support\n",
      "\n",
      "           0       0.80      0.67      0.73         6\n",
      "           1       0.60      0.75      0.67         4\n",
      "\n",
      "    accuracy                           0.70        10\n",
      "   macro avg       0.70      0.71      0.70        10\n",
      "weighted avg       0.72      0.70      0.70        10\n",
      "\n",
      "[[4 2]\n",
      " [1 3]]\n"
     ]
    }
   ],
   "source": [
    "from sklearn.linear_model import LogisticRegression as LR\n",
    "from sklearn.metrics import accuracy_score as AS\n",
    "\n",
    "logreg = LR(penalty='none').fit(X_train,y_train)\n",
    "y_pred = logreg.predict(X_test)\n",
    "print('Regresja logistyczna:')\n",
    "print(CR(y_test,y_pred))\n",
    "print(CM(y_test,y_pred))\n",
    "\n",
    "mlp = MLPClassifier(hidden_layer_sizes=(4,),activation='logistic',max_iter=5000)\n",
    "mlp.fit(X_train,y_train)\n",
    "y_pred = mlp.predict(X_test)\n",
    "print('Sieć z 1 warstwami:')\n",
    "print(CR(y_test,y_pred))\n",
    "print(CM(y_test,y_pred))\n"
   ]
  },
  {
   "cell_type": "markdown",
   "metadata": {},
   "source": [
    "# Zadanie 3"
   ]
  },
  {
   "cell_type": "markdown",
   "metadata": {
    "collapsed": true
   },
   "source": [
    "Posługując się danymi z pliku wbca stwórz modele objaśniające czy dana pacjentka choruje na złośliwego raka piersi.\n",
    "Wytrenuj klasyfikacyjne sieci neuronowez jedną ukrytą warstwą zawierającą odpowiednio różne ilości ukrytych węzłów.\n",
    "Wypisz 'confusion matrix' współczynnik f1, procent udanej predykcji. Który model jest najskuteczniejszy? Porównaj go z regresją logistyczną."
   ]
  },
  {
   "cell_type": "code",
   "execution_count": 2,
   "metadata": {},
   "outputs": [
    {
     "ename": "NameError",
     "evalue": "name 'LR' is not defined",
     "output_type": "error",
     "traceback": [
      "\u001b[1;31m---------------------------------------------------------------------------\u001b[0m",
      "\u001b[1;31mNameError\u001b[0m                                 Traceback (most recent call last)",
      "\u001b[1;32m<ipython-input-2-8d58396edd57>\u001b[0m in \u001b[0;36m<module>\u001b[1;34m\u001b[0m\n\u001b[0;32m     35\u001b[0m     \u001b[0mLAY\u001b[0m\u001b[1;33m.\u001b[0m\u001b[0mappend\u001b[0m\u001b[1;33m(\u001b[0m\u001b[1;33m(\u001b[0m\u001b[0mi\u001b[0m\u001b[1;33m,\u001b[0m\u001b[1;33m)\u001b[0m\u001b[1;33m)\u001b[0m\u001b[1;33m\u001b[0m\u001b[1;33m\u001b[0m\u001b[0m\n\u001b[0;32m     36\u001b[0m \u001b[1;33m\u001b[0m\u001b[0m\n\u001b[1;32m---> 37\u001b[1;33m \u001b[0mlogreg\u001b[0m \u001b[1;33m=\u001b[0m \u001b[0mLR\u001b[0m\u001b[1;33m(\u001b[0m\u001b[0mpenalty\u001b[0m\u001b[1;33m=\u001b[0m\u001b[1;34m'none'\u001b[0m\u001b[1;33m)\u001b[0m\u001b[1;33m.\u001b[0m\u001b[0mfit\u001b[0m\u001b[1;33m(\u001b[0m\u001b[0mX_train\u001b[0m\u001b[1;33m,\u001b[0m\u001b[0my_train\u001b[0m\u001b[1;33m)\u001b[0m\u001b[1;33m\u001b[0m\u001b[1;33m\u001b[0m\u001b[0m\n\u001b[0m\u001b[0;32m     38\u001b[0m \u001b[0my_pred\u001b[0m \u001b[1;33m=\u001b[0m \u001b[0mlogreg\u001b[0m\u001b[1;33m.\u001b[0m\u001b[0mpredict\u001b[0m\u001b[1;33m(\u001b[0m\u001b[0mX_test\u001b[0m\u001b[1;33m)\u001b[0m\u001b[1;33m\u001b[0m\u001b[1;33m\u001b[0m\u001b[0m\n\u001b[0;32m     39\u001b[0m \u001b[0mprint\u001b[0m\u001b[1;33m(\u001b[0m\u001b[1;34m'Regresja logistyczna:'\u001b[0m\u001b[1;33m)\u001b[0m\u001b[1;33m\u001b[0m\u001b[1;33m\u001b[0m\u001b[0m\n",
      "\u001b[1;31mNameError\u001b[0m: name 'LR' is not defined"
     ]
    }
   ],
   "source": [
    "import pandas as pd\n",
    "import numpy as np\n",
    "from sklearn.neural_network import MLPClassifier\n",
    "from sklearn.metrics import classification_report as CR, confusion_matrix as CM\n",
    "from sklearn.model_selection import train_test_split, validation_curve, learning_curve\n",
    "\n",
    "\n",
    "df = pd.read_csv('wbca.csv')\n",
    "#print(df.columns)\n",
    "\n",
    "data = df[['Adhes', 'BNucl', 'Chrom', 'Epith', 'Mitos', 'NNucl', 'Thick', 'UShap', 'USize']]\n",
    "#print(data.isnull().any())\n",
    "\n",
    "X = data.to_numpy()\n",
    "y = list(df['Class'].to_numpy())\n",
    "\n",
    "X_train, X_test, y_train, y_test = train_test_split(X,y,test_size=.2)\n",
    "\n",
    "# acc=[]\n",
    "\n",
    "# for i in range(50):\n",
    "#     mlp = MLPClassifier(hidden_layer_sizes=(i+1,), activation='logistic', max_iter=5000)\n",
    "#     mlp.fit(X_train,y_train)\n",
    "#     acc.append(mlp.score(X_test,y_test))\n",
    "#     y_pred = mlp.predict(X_test)\n",
    "#     print(i+1)\n",
    "#     #print(CM(y_test,y_pred))\n",
    "#     #print(CR(y_test,y_pred))\n",
    "    \n",
    "# plt.plot(acc)\n",
    "# plt.show()\n",
    "\n",
    "LAY = []\n",
    "for i in range(1,40):\n",
    "    LAY.append((i,))\n",
    "\n",
    "logreg = LR(penalty='none').fit(X_train,y_train)\n",
    "y_pred = logreg.predict(X_test)\n",
    "print('Regresja logistyczna:')\n",
    "print(CR(y_test,y_pred))\n",
    "print(CM(y_test,y_pred))\n",
    "\n",
    "params = LAY\n",
    "train_scores, test_scores = validation_curve(estimator=MLPClassifier(activation='logistic', max_iter=5000), X=X,\n",
    "                                             y=y, param_name='hidden_layer_sizes',\n",
    "                                             param_range=params, cv=5)\n",
    "train_mean = np.mean(train_scores, axis=1)\n",
    "train_std = np.std(train_scores, axis=1)\n",
    "test_mean = np.mean(test_scores, axis=1)\n",
    "test_std = np.std(test_scores, axis=1)\n",
    "\n",
    "plt.figure()\n",
    "plt.plot(range(1,40), train_mean, 'b', label='train')\n",
    "plt.plot(range(1,40), test_mean, 'g', label='test')\n",
    "plt.fill_between(range(1,40), train_mean-train_std, train_mean+train_std,color='blue', alpha=0.2)\n",
    "plt.fill_between(range(1,40), test_mean-test_std, test_mean+test_std, color='green', alpha=0.2)\n",
    "plt.legend()\n",
    "plt.show()"
   ]
  },
  {
   "cell_type": "markdown",
   "metadata": {},
   "source": [
    "# Zadanie 4"
   ]
  },
  {
   "cell_type": "markdown",
   "metadata": {},
   "source": [
    "Korzystając ze znanych danych dotyczących Titanica stwórz najlepszy model w oparciu o obecną wiedzę."
   ]
  },
  {
   "cell_type": "code",
   "execution_count": 4,
   "metadata": {},
   "outputs": [],
   "source": [
    "import pandas as pd\n",
    "import numpy as np\n",
    "from sklearn.neural_network import MLPClassifier\n",
    "from sklearn.model_selection import train_test_split, GridSearchCV\n",
    "from sklearn.metrics import confusion_matrix, classification_report\n",
    "\n",
    "df = pd.read_csv('http://stamfordresearch.com/wp-content/uploads/2016/08/Titanic.csv')\n",
    "#print(df.columns)\n",
    "df = df.drop(columns=['PassengerId', 'Name', 'Ticket', 'Cabin'])\n",
    "\n",
    "#print(df.isnull().any())\n",
    "mean_age = df['Age'].dropna().mean()\n",
    "df['Age'] = df['Age'].fillna(mean_age)\n",
    "#print(df.isnull().any())\n",
    "\n",
    "data = df[['Pclass', 'Sex', 'Age', 'SibSp', 'Parch', 'Fare', 'Embarked']]\n",
    "data = pd.get_dummies(data)\n",
    "data = data.drop(columns=['Sex_female', 'Embarked_C'])\n",
    "#print(data.columns)\n",
    "X = data.to_numpy()\n",
    "y = list(df['Survived'].to_numpy())\n",
    "\n",
    "X_train, X_test, y_train, y_test = train_test_split(X,y,test_size=.2)\n",
    "\n"
   ]
  },
  {
   "cell_type": "code",
   "execution_count": 7,
   "metadata": {},
   "outputs": [
    {
     "name": "stdout",
     "output_type": "stream",
     "text": [
      "(17, 17)\n"
     ]
    }
   ],
   "source": [
    "#print(list(range(1,10)))\n",
    "LAYERS = []\n",
    "for knots in range(1,51):\n",
    "    for layers in range(1,3):\n",
    "        LAYER = []\n",
    "        for i in range(layers):\n",
    "            LAYER.append(knots)\n",
    "        LAYERS.append(tuple(LAYER))\n",
    "\n",
    "params = {'hidden_layer_sizes': LAYERS}\n",
    "mlp = GridSearchCV(MLPClassifier(activation='logistic', max_iter=5000),params)\n",
    "mlp.fit(X_train,y_train)\n",
    "\n",
    "layer = mlp.best_params_['hidden_layer_sizes']\n",
    "print(layer)"
   ]
  },
  {
   "cell_type": "code",
   "execution_count": 6,
   "metadata": {},
   "outputs": [
    {
     "name": "stdout",
     "output_type": "stream",
     "text": [
      "0.7988826815642458\n",
      "              precision    recall  f1-score   support\n",
      "\n",
      "           0       0.81      0.86      0.84       107\n",
      "           1       0.77      0.71      0.74        72\n",
      "\n",
      "    accuracy                           0.80       179\n",
      "   macro avg       0.79      0.78      0.79       179\n",
      "weighted avg       0.80      0.80      0.80       179\n",
      "\n",
      "[[92 15]\n",
      " [21 51]]\n"
     ]
    }
   ],
   "source": [
    "from sklearn.metrics import confusion_matrix, classification_report\n",
    "\n",
    "mlp_model = MLPClassifier(hidden_layer_sizes=layer, activation='logistic', max_iter=5000).fit(X_train,y_train)\n",
    "print(mlp_model.score(X_test,y_test))\n",
    "y_pred = mlp_model.predict(X_test)\n",
    "print(classification_report(y_test,y_pred))\n",
    "print(confusion_matrix(y_test,y_pred))"
   ]
  },
  {
   "cell_type": "code",
   "execution_count": 3,
   "metadata": {},
   "outputs": [
    {
     "name": "stdout",
     "output_type": "stream",
     "text": [
      "1\n",
      "2\n"
     ]
    }
   ],
   "source": [
    "for i in range(1,3):\n",
    "    print(i)"
   ]
  }
 ],
 "metadata": {
  "kernelspec": {
   "display_name": "Python 3",
   "language": "python",
   "name": "python3"
  },
  "language_info": {
   "codemirror_mode": {
    "name": "ipython",
    "version": 3
   },
   "file_extension": ".py",
   "mimetype": "text/x-python",
   "name": "python",
   "nbconvert_exporter": "python",
   "pygments_lexer": "ipython3",
   "version": "3.7.6"
  }
 },
 "nbformat": 4,
 "nbformat_minor": 2
}
