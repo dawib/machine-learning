{
 "cells": [
  {
   "cell_type": "markdown",
   "metadata": {},
   "source": [
    "# Zadanie 1"
   ]
  },
  {
   "cell_type": "markdown",
   "metadata": {},
   "source": [
    "Przeklikując:\n",
    "http://playground.tensorflow.org/ \n",
    "proszę dla czterech testowych zbiorów dobrać możliwie naprostrze sieci neuronowe."
   ]
  },
  {
   "cell_type": "code",
   "execution_count": null,
   "metadata": {},
   "outputs": [],
   "source": [
    "http://playground.tensorflow.org/#activation=tanh&batchSize=10&dataset=circle&regDataset=reg-plane&learningRate=0.03&regularizationRate=0&noise=5&networkShape=&seed=0.83235&showTestData=false&discretize=false&percTrainData=50&x=false&y=false&xTimesY=false&xSquared=true&ySquared=true&cosX=false&sinX=false&cosY=false&sinY=false&collectStats=false&problem=classification&initZero=false&hideText=false"
   ]
  },
  {
   "cell_type": "code",
   "execution_count": null,
   "metadata": {},
   "outputs": [],
   "source": [
    "http://playground.tensorflow.org/#activation=tanh&batchSize=10&dataset=xor&regDataset=reg-plane&learningRate=0.03&regularizationRate=0&noise=5&networkShape=&seed=0.59320&showTestData=false&discretize=false&percTrainData=50&x=false&y=false&xTimesY=true&xSquared=false&ySquared=false&cosX=false&sinX=false&cosY=false&sinY=false&collectStats=false&problem=classification&initZero=false&hideText=false"
   ]
  },
  {
   "cell_type": "code",
   "execution_count": null,
   "metadata": {},
   "outputs": [],
   "source": [
    "http://playground.tensorflow.org/#activation=tanh&batchSize=10&dataset=gauss&regDataset=reg-plane&learningRate=0.03&regularizationRate=0&noise=5&networkShape=&seed=0.89697&showTestData=false&discretize=false&percTrainData=50&x=true&y=true&xTimesY=false&xSquared=false&ySquared=false&cosX=false&sinX=false&cosY=false&sinY=false&collectStats=false&problem=classification&initZero=false&hideText=false"
   ]
  },
  {
   "cell_type": "code",
   "execution_count": null,
   "metadata": {},
   "outputs": [],
   "source": [
    "http://playground.tensorflow.org/#activation=tanh&batchSize=10&dataset=spiral&regDataset=reg-plane&learningRate=0.03&regularizationRate=0&noise=0&networkShape=6&seed=0.88121&showTestData=false&discretize=false&percTrainData=50&x=true&y=true&xTimesY=false&xSquared=false&ySquared=false&cosX=false&sinX=true&cosY=false&sinY=true&collectStats=false&problem=classification&initZero=false&hideText=false"
   ]
  },
  {
   "cell_type": "code",
   "execution_count": null,
   "metadata": {},
   "outputs": [],
   "source": [
    "http://playground.tensorflow.org/#activation=tanh&batchSize=10&dataset=gauss&regDataset=reg-plane&learningRate=0.03&regularizationRate=0&noise=0&networkShape=6&seed=0.66750&showTestData=false&discretize=false&percTrainData=50&x=true&y=true&xTimesY=false&xSquared=false&ySquared=false&cosX=false&sinX=true&cosY=false&sinY=true&collectStats=false&problem=classification&initZero=false&hideText=false"
   ]
  },
  {
   "cell_type": "markdown",
   "metadata": {},
   "source": [
    "# Zadanie 2"
   ]
  },
  {
   "cell_type": "markdown",
   "metadata": {},
   "source": [
    "Dla danych z pliku infmort stwórz model najlepiej objaśniający czy dany kraj eksportuje rope. Użyj w tym celu GridsearchCV."
   ]
  },
  {
   "cell_type": "code",
   "execution_count": 1,
   "metadata": {},
   "outputs": [],
   "source": [
    "import pandas as pd\n",
    "import numpy as np\n",
    "from sklearn.neural_network import MLPClassifier\n",
    "from sklearn.metrics import classification_report as CR\n",
    "from sklearn.model_selection import train_test_split, GridSearchCV\n",
    "\n",
    "df = pd.read_csv('infmort.csv')\n",
    "data = pd.get_dummies(df[['region', 'income', 'mortality']])\n",
    "\n",
    "avg_mort = np.mean(data['mortality'].dropna().to_numpy())\n",
    "data['mortality'] = data['mortality'].fillna(avg_mort)\n",
    "\n",
    "X = data.to_numpy()\n",
    "y = list(df['oil'].to_numpy())\n",
    "\n",
    "for i in range(len(y)):\n",
    "    if y[i]=='oil exports':\n",
    "        y[i]=1\n",
    "    else:\n",
    "        y[i]=0"
   ]
  },
  {
   "cell_type": "code",
   "execution_count": 2,
   "metadata": {},
   "outputs": [
    {
     "name": "stdout",
     "output_type": "stream",
     "text": [
      "(5, 5, 5, 5, 5, 5, 5, 5, 5, 5)\n",
      "relu\n"
     ]
    }
   ],
   "source": [
    "LAYERS = []\n",
    "for knots in range(1,21):\n",
    "    for layers in range(1,11):\n",
    "        LAYER = []\n",
    "        for i in range(layers):\n",
    "            LAYER.append(knots)\n",
    "        LAYERS.append(tuple(LAYER))\n",
    "        \n",
    "params = {'hidden_layer_sizes': LAYERS,\n",
    "         'activation': ['logistic', 'tanh', 'relu']}\n",
    "\n",
    "mlp = GridSearchCV(MLPClassifier(max_iter=5000),params)\n",
    "mlp.fit(X,y)\n",
    "\n",
    "layer = mlp.best_params_['hidden_layer_sizes']\n",
    "activation = mlp.best_params_['activation']\n",
    "\n",
    "print(layer)\n",
    "print(activation)"
   ]
  },
  {
   "cell_type": "code",
   "execution_count": 5,
   "metadata": {},
   "outputs": [
    {
     "name": "stdout",
     "output_type": "stream",
     "text": [
      "              precision    recall  f1-score   support\n",
      "\n",
      "           0       0.91      1.00      0.96        96\n",
      "           1       0.00      0.00      0.00         9\n",
      "\n",
      "    accuracy                           0.91       105\n",
      "   macro avg       0.46      0.50      0.48       105\n",
      "weighted avg       0.84      0.91      0.87       105\n",
      "\n",
      "[[96  0]\n",
      " [ 9  0]]\n"
     ]
    },
    {
     "name": "stderr",
     "output_type": "stream",
     "text": [
      "C:\\Users\\Dawid\\anaconda3\\lib\\site-packages\\sklearn\\metrics\\_classification.py:1272: UndefinedMetricWarning: Precision and F-score are ill-defined and being set to 0.0 in labels with no predicted samples. Use `zero_division` parameter to control this behavior.\n",
      "  _warn_prf(average, modifier, msg_start, len(result))\n"
     ]
    }
   ],
   "source": [
    "from sklearn.metrics import confusion_matrix as CM\n",
    "\n",
    "mlp_model = MLPClassifier(hidden_layer_sizes=layer, activation=activation, max_iter=5000).fit(X,y)\n",
    "\n",
    "y_pred = mlp_model.predict(X)\n",
    "print(CR(y,y_pred))\n",
    "print(CM(y,y_pred))"
   ]
  },
  {
   "cell_type": "markdown",
   "metadata": {},
   "source": [
    "# Zadanie 3"
   ]
  },
  {
   "cell_type": "markdown",
   "metadata": {},
   "source": [
    "Dla danych z pliku wbca.csv wytrenuj drzewo decyzyjne DecisionTreeClassifier oraz klasyfikator lasu losowego RandomForestClassifier.\n",
    "\n",
    "Stwórz krzywą walidacji dla parametru n_estimators modelu lasu losowego."
   ]
  },
  {
   "cell_type": "code",
   "execution_count": 19,
   "metadata": {},
   "outputs": [
    {
     "name": "stdout",
     "output_type": "stream",
     "text": [
      "              precision    recall  f1-score   support\n",
      "\n",
      "           0       0.92      1.00      0.96        36\n",
      "           1       1.00      0.97      0.98       101\n",
      "\n",
      "    accuracy                           0.98       137\n",
      "   macro avg       0.96      0.99      0.97       137\n",
      "weighted avg       0.98      0.98      0.98       137\n",
      "\n",
      "              precision    recall  f1-score   support\n",
      "\n",
      "           0       0.92      0.97      0.95        36\n",
      "           1       0.99      0.97      0.98       101\n",
      "\n",
      "    accuracy                           0.97       137\n",
      "   macro avg       0.96      0.97      0.96       137\n",
      "weighted avg       0.97      0.97      0.97       137\n",
      "\n"
     ]
    },
    {
     "data": {
      "image/png": "[encoded data removed]",
      "text/plain": [
       "<Figure size 432x288 with 1 Axes>"
      ]
     },
     "metadata": {
      "needs_background": "light"
     },
     "output_type": "display_data"
    }
   ],
   "source": [
    "from sklearn.tree import DecisionTreeClassifier\n",
    "from sklearn.ensemble import RandomForestClassifier\n",
    "from sklearn.model_selection import validation_curve\n",
    "import matplotlib.pyplot as plt\n",
    "\n",
    "df = pd.read_csv('wbca.csv')\n",
    "data = df[['Adhes', 'BNucl', 'Chrom', 'Epith', 'Mitos', 'NNucl', 'Thick', 'UShap', 'USize']]\n",
    "\n",
    "X = data.to_numpy()\n",
    "y = list(df['Class'].to_numpy())\n",
    "\n",
    "X_train, X_test, y_train, y_test = train_test_split(X,y,test_size=.2)\n",
    "         \n",
    "dtc = DecisionTreeClassifier().fit(X_train,y_train)\n",
    "y_pred_dtc = dtc.predict(X_test)\n",
    "print(CR(y_test,y_pred_dtc))\n",
    "\n",
    "rfc = RandomForestClassifier().fit(X_train,y_train)\n",
    "y_pred_rfc = rfc.predict(X_test)\n",
    "print(CR(y_test,y_pred_rfc))\n",
    "\n",
    "params = range(10,300,10)\n",
    "train_scores, test_scores = validation_curve(estimator=RandomForestClassifier(), X=X,\n",
    "                                            y=y, param_name='n_estimators',\n",
    "                                            param_range=params, cv=5)\n",
    "         \n",
    "train_mean = np.mean(train_scores, axis=1)\n",
    "train_std = np.std(train_scores, axis=1)\n",
    "test_mean = np.mean(test_scores, axis=1)\n",
    "test_std = np.std(test_scores, axis=1)\n",
    "         \n",
    "plt.figure()\n",
    "plt.plot(params, train_mean, 'b', label='train')\n",
    "plt.plot(params, test_mean, 'g', label='test')\n",
    "plt.fill_between(params, train_mean-train_std, train_mean+train_std, color='blue', alpha=.2)\n",
    "plt.fill_between(params, test_mean-test_std, test_mean+test_std, color='green', alpha=.2)\n",
    "plt.legend()\n",
    "plt.show()"
   ]
  }
 ],
 "metadata": {
  "kernelspec": {
   "display_name": "Python 3",
   "language": "python",
   "name": "python3"
  },
  "language_info": {
   "codemirror_mode": {
    "name": "ipython",
    "version": 3
   },
   "file_extension": ".py",
   "mimetype": "text/x-python",
   "name": "python",
   "nbconvert_exporter": "python",
   "pygments_lexer": "ipython3",
   "version": "3.7.6"
  }
 },
 "nbformat": 4,
 "nbformat_minor": 2
}
