{
 "cells": [
  {
   "cell_type": "markdown",
   "metadata": {
    "collapsed": true
   },
   "source": [
    "# NumPy - operacje arytmetyczne w Pythonie\n",
    "\n",
    "Standardowe typy danych i procedury Pythona nie nadają się do poważnych zastosowań numerycznych. Konieczne było opracowanie zoptymalizowanych pod względem typowych operacji numerycznych typów danych i procedur. Stworzony został Numerical Python, zwany w skrócie NumPy. Podczas rozwoju tego pakietu kierowano się podejściem zastosowanym w takich językach jak Basis, MATLAB, rodzina języków APL, FORTRAN i innych. Tak więc NumPy jest biblioteką Pythona służącą do obliczeń naukowych. Dostarcza ona listę matematycznych funkcji użytecznych w takich zagadnieniach jak:\n",
    "  \n",
    "  * algebra liniowa,\n",
    "  * transformacje Fouriera,\n",
    "  * generowanie liczb losowych,\n",
    "  * oraz wszystkie operacje na tablicach i macierzach, które są podstawowymi obiektami w Numpy.\n",
    "  \n",
    "Żeby można korzystać z dobrodziejstwa tej biblioteki należy ją zaimportować:"
   ]
  },
  {
   "cell_type": "code",
   "execution_count": 4,
   "metadata": {},
   "outputs": [],
   "source": [
    "import numpy \n",
    "# lub\n",
    "import numpy as np "
   ]
  },
  {
   "cell_type": "markdown",
   "metadata": {},
   "source": [
    "## Tworzenie macierzy\n",
    "Do stworzenia tablicy jedno-, dwu- i wielowymiarowej używamy funkcji **array**:"
   ]
  },
  {
   "cell_type": "code",
   "execution_count": 5,
   "metadata": {},
   "outputs": [
    {
     "name": "stdout",
     "output_type": "stream",
     "text": [
      "[1 2 3]\n",
      "\n",
      " \n",
      "\n",
      "[[1 2 3]\n",
      " [4 5 6]]\n",
      "\n",
      " \n",
      "\n",
      "[[[1 1 1]\n",
      "  [1 1 1]]\n",
      "\n",
      " [[2 2 2]\n",
      "  [2 2 2]]]\n"
     ]
    }
   ],
   "source": [
    "x = np.array([1,2,3]) # tablica jednowymiarowa\n",
    "A = np.array([[1,2,3] , [4,5,6]]) # tablica dwuwymiarowa\n",
    "B = np.array( [[[1,1,1],[1,1,1]], [[2,2,2],[2,2,2]]]) # trójwymiarowa itd.\n",
    "\n",
    "print(x)\n",
    "print(\"\\n \\n\")\n",
    "print(A)\n",
    "print(\"\\n \\n\")\n",
    "print(B)"
   ]
  },
  {
   "cell_type": "markdown",
   "metadata": {},
   "source": [
    "Przy tworzeniu tablicy istnieje możliwość zadeklarowania jej typu:"
   ]
  },
  {
   "cell_type": "code",
   "execution_count": 6,
   "metadata": {},
   "outputs": [
    {
     "name": "stdout",
     "output_type": "stream",
     "text": [
      "[[1.+0.j 0.+0.j]\n",
      " [0.+0.j 1.+0.j]]\n"
     ]
    }
   ],
   "source": [
    "z = np.array( [[1,0], [0,1]], dtype=complex) # tablica liczb zespolonych\n",
    "print(z) "
   ]
  },
  {
   "cell_type": "markdown",
   "metadata": {},
   "source": [
    "Do tworzenia tablicy jednowymiarowej (wektora) składającego się z elementów z danego zakresu używamy polecenia **arange(start, stop, krok)**:"
   ]
  },
  {
   "cell_type": "code",
   "execution_count": 7,
   "metadata": {},
   "outputs": [
    {
     "name": "stdout",
     "output_type": "stream",
     "text": [
      "[0 1 2 3 4 5 6 7 8 9]\n",
      " \n",
      "[0 2 4 6 8]\n",
      " \n",
      "[0.  0.5 1.  1.5 2.  2.5 3.  3.5 4.  4.5 5.  5.5 6.  6.5 7.  7.5 8.  8.5\n",
      " 9.  9.5]\n"
     ]
    }
   ],
   "source": [
    "print(np.arange(10), end='\\n \\n')\n",
    "print(np.arange(0, 10, 2), end='\\n \\n')\n",
    "print(np.arange(0., 10, 0.5))"
   ]
  },
  {
   "cell_type": "markdown",
   "metadata": {},
   "source": [
    "Jeśli chcemy wygenerować tablicę o określonej liczbie z danego przedziału, używamy funkcji **linspace**:"
   ]
  },
  {
   "cell_type": "code",
   "execution_count": 8,
   "metadata": {},
   "outputs": [
    {
     "ename": "TypeError",
     "evalue": "object of type <class 'float'> cannot be safely interpreted as an integer.",
     "output_type": "error",
     "traceback": [
      "\u001b[1;31m---------------------------------------------------------------------------\u001b[0m",
      "\u001b[1;31mTypeError\u001b[0m                                 Traceback (most recent call last)",
      "\u001b[1;32m~\\anaconda3\\lib\\site-packages\\numpy\\core\\function_base.py\u001b[0m in \u001b[0;36mlinspace\u001b[1;34m(start, stop, num, endpoint, retstep, dtype, axis)\u001b[0m\n\u001b[0;32m    116\u001b[0m     \u001b[1;32mtry\u001b[0m\u001b[1;33m:\u001b[0m\u001b[1;33m\u001b[0m\u001b[1;33m\u001b[0m\u001b[0m\n\u001b[1;32m--> 117\u001b[1;33m         \u001b[0mnum\u001b[0m \u001b[1;33m=\u001b[0m \u001b[0moperator\u001b[0m\u001b[1;33m.\u001b[0m\u001b[0mindex\u001b[0m\u001b[1;33m(\u001b[0m\u001b[0mnum\u001b[0m\u001b[1;33m)\u001b[0m\u001b[1;33m\u001b[0m\u001b[1;33m\u001b[0m\u001b[0m\n\u001b[0m\u001b[0;32m    118\u001b[0m     \u001b[1;32mexcept\u001b[0m \u001b[0mTypeError\u001b[0m\u001b[1;33m:\u001b[0m\u001b[1;33m\u001b[0m\u001b[1;33m\u001b[0m\u001b[0m\n",
      "\u001b[1;31mTypeError\u001b[0m: 'float' object cannot be interpreted as an integer",
      "\nDuring handling of the above exception, another exception occurred:\n",
      "\u001b[1;31mTypeError\u001b[0m                                 Traceback (most recent call last)",
      "\u001b[1;32m<ipython-input-8-5bddabfa999b>\u001b[0m in \u001b[0;36m<module>\u001b[1;34m\u001b[0m\n\u001b[1;32m----> 1\u001b[1;33m \u001b[0mprint\u001b[0m\u001b[1;33m(\u001b[0m\u001b[0mnp\u001b[0m\u001b[1;33m.\u001b[0m\u001b[0mlinspace\u001b[0m\u001b[1;33m(\u001b[0m\u001b[1;36m0.\u001b[0m\u001b[1;33m,\u001b[0m \u001b[1;36m10.\u001b[0m\u001b[1;33m,\u001b[0m \u001b[1;36m3.\u001b[0m\u001b[1;33m)\u001b[0m\u001b[1;33m,\u001b[0m \u001b[0mend\u001b[0m\u001b[1;33m=\u001b[0m\u001b[1;34m'\\n \\n'\u001b[0m\u001b[1;33m)\u001b[0m\u001b[1;33m\u001b[0m\u001b[1;33m\u001b[0m\u001b[0m\n\u001b[0m\u001b[0;32m      2\u001b[0m \u001b[0mprint\u001b[0m\u001b[1;33m(\u001b[0m\u001b[0mnp\u001b[0m\u001b[1;33m.\u001b[0m\u001b[0mlinspace\u001b[0m\u001b[1;33m(\u001b[0m\u001b[1;36m0.\u001b[0m\u001b[1;33m,\u001b[0m \u001b[1;36m1\u001b[0m\u001b[1;33m,\u001b[0m \u001b[1;36m5\u001b[0m\u001b[1;33m)\u001b[0m\u001b[1;33m)\u001b[0m\u001b[1;33m\u001b[0m\u001b[1;33m\u001b[0m\u001b[0m\n",
      "\u001b[1;32m<__array_function__ internals>\u001b[0m in \u001b[0;36mlinspace\u001b[1;34m(*args, **kwargs)\u001b[0m\n",
      "\u001b[1;32m~\\anaconda3\\lib\\site-packages\\numpy\\core\\function_base.py\u001b[0m in \u001b[0;36mlinspace\u001b[1;34m(start, stop, num, endpoint, retstep, dtype, axis)\u001b[0m\n\u001b[0;32m    119\u001b[0m         raise TypeError(\n\u001b[0;32m    120\u001b[0m             \u001b[1;34m\"object of type {} cannot be safely interpreted as an integer.\"\u001b[0m\u001b[1;33m\u001b[0m\u001b[1;33m\u001b[0m\u001b[0m\n\u001b[1;32m--> 121\u001b[1;33m                 .format(type(num)))\n\u001b[0m\u001b[0;32m    122\u001b[0m \u001b[1;33m\u001b[0m\u001b[0m\n\u001b[0;32m    123\u001b[0m     \u001b[1;32mif\u001b[0m \u001b[0mnum\u001b[0m \u001b[1;33m<\u001b[0m \u001b[1;36m0\u001b[0m\u001b[1;33m:\u001b[0m\u001b[1;33m\u001b[0m\u001b[1;33m\u001b[0m\u001b[0m\n",
      "\u001b[1;31mTypeError\u001b[0m: object of type <class 'float'> cannot be safely interpreted as an integer."
     ]
    }
   ],
   "source": [
    "print(np.linspace(0., 10., 3.), end='\\n \\n')\n",
    "print(np.linspace(0., 1, 5))"
   ]
  },
  {
   "cell_type": "markdown",
   "metadata": {},
   "source": [
    "Biblioteka Numpy oferuje wiele możliwości budowania typowych tablic:"
   ]
  },
  {
   "cell_type": "code",
   "execution_count": null,
   "metadata": {},
   "outputs": [],
   "source": [
    "import numpy as np\n",
    "print(np.ones((3,3)), '\\n') # dwuwymiarowa tablica (3x3) wypełniona jedynkami\n",
    "print(np.zeros((3,2)), '\\n') # dwuwymiarowa tablica (3x2) wypełniona zerami\n",
    "print(np.eye(4)) # macierz jednostkowa 4x4"
   ]
  },
  {
   "cell_type": "markdown",
   "metadata": {},
   "source": [
    "Korzystając z powyższych funkcji możemy w łatwy sposób tworzyć dowolne macierze, zmieniając ich rozmiary."
   ]
  },
  {
   "cell_type": "code",
   "execution_count": null,
   "metadata": {},
   "outputs": [],
   "source": [
    "A=np.arange(15) #tablic jednowymiarowa\n",
    "print(A.reshape(5,3), '\\n')  # zmiana wymiarów tablicy\n",
    "\n",
    "#śmiało można składać funkcje upraszczając zapis:\n",
    "\n",
    "print(np.arange(15).reshape(5,3), '\\n')\n",
    "print(np.linspace(0., 1, 15).reshape(5,3))"
   ]
  },
  {
   "cell_type": "markdown",
   "metadata": {},
   "source": [
    "# Operacje na indeksach tablicy\n",
    "Żeby odwołać się do konkretnej wartości tablicy należy użyć **[]** z odpowiednim indeksem (pamiętamy, że w Pythonie zaczynamy indeksować od 0)."
   ]
  },
  {
   "cell_type": "code",
   "execution_count": null,
   "metadata": {},
   "outputs": [],
   "source": [
    "x = np.arange(15)\n",
    "print(x, '\\n')\n",
    "print(x[3], '\\n')\n",
    "\n",
    "A = np.arange(20).reshape(5,4)\n",
    "print(A, '\\n')\n",
    "print(A[:,:]) # alternatywnie\n",
    "print(A[2, 3])\n",
    "print(A[2][3], '\\n') # równoważnie\n",
    "print(A[2], '\\n') # trzeci wiersz\n",
    "print(A[2, :]) # trzeciwiersz raz jeszcze\n",
    "print(A[:, 2]) # trzecia kolumna\n",
    "print(A[:, -3]) # trzecia kolumna liczona od tyłu\n",
    "\n"
   ]
  },
  {
   "cell_type": "markdown",
   "metadata": {},
   "source": [
    "Aby wyświetlić fragment tablicy od  $n-1$  do  $m-1$  elementów używamy składni: **tablica[n:m]**, analogicznie aby wyświetlić elementy tablicy pomiędzy  $n-1$ , a  $m-1$  przesuwając się o wartość  $k$  używamy składni **tablica[n:m:k]**. \n"
   ]
  },
  {
   "cell_type": "code",
   "execution_count": null,
   "metadata": {},
   "outputs": [],
   "source": [
    "x = np.arange(15)\n",
    "print(x, '\\n')\n",
    "print(x[3:11])\n",
    "print(x[3:11:2], '\\n')\n",
    "\n",
    "A = np.arange(20).reshape(5,4)\n",
    "print(A[2:4], '\\n') # wiersze od trzeciego do czwartego\n",
    "print(A[:,2:4], '\\n') # trzecia i czwarta kolumnę\n",
    "print(A[:,[2,3]]) # równoważnie"
   ]
  },
  {
   "cell_type": "markdown",
   "metadata": {},
   "source": [
    "Jak widać z powyższych przykładów, przecinek w nawiasach **[]** rozdziela poszczególne wymiary tablic."
   ]
  },
  {
   "cell_type": "code",
   "execution_count": null,
   "metadata": {},
   "outputs": [],
   "source": [
    "print(A[1,1:5], '\\n') # elementy z drugiego wiersza i od drugiej do piątej kolumny \n",
    "print(A[1:3, :2], '\\n') # elementy od drugiego do trzeciego wiersza, \n",
    "                 # znajdujące się w kolumnach od pierwszej do drugiej\n",
    "print(A[1,0:5:2]) # elementy drugiego wiersza i kolumny od pierwszej do piątej co dwie"
   ]
  },
  {
   "cell_type": "markdown",
   "metadata": {},
   "source": [
    "Tablice można też budować w oparciu o już istniejące:"
   ]
  },
  {
   "cell_type": "code",
   "execution_count": null,
   "metadata": {},
   "outputs": [],
   "source": [
    "A = np.arange(20).reshape(5,4)\n",
    "print(A, '\\n')\n",
    "\n",
    "B = A[2:4, 2:]\n",
    "print(B)"
   ]
  },
  {
   "cell_type": "markdown",
   "metadata": {},
   "source": [
    "# Zmiana rozmiaru, kształtu tablicy\n",
    "Do zmiany rozmiaru tablicy już utworzonej służy funkcja: reshape. Operacja ta nie zmieni zawartości oryginalnej tablicy, pokaże jedynie jej elementy w zadanej postaci."
   ]
  },
  {
   "cell_type": "code",
   "execution_count": null,
   "metadata": {},
   "outputs": [],
   "source": [
    "A = np.arange(8)\n",
    "print(A,'\\n')\n",
    "print(A.reshape((2, 4)), '\\n')\n",
    "print(A)"
   ]
  },
  {
   "cell_type": "markdown",
   "metadata": {},
   "source": [
    "Aby zmienić kształt tablicy za pomocą funkcji reshape możemy zrobić tak:"
   ]
  },
  {
   "cell_type": "code",
   "execution_count": null,
   "metadata": {},
   "outputs": [],
   "source": [
    "A = np.arange(8)\n",
    "print(A,'\\n')\n",
    "A = A.reshape((2, 4))\n",
    "print(A)"
   ]
  },
  {
   "cell_type": "markdown",
   "metadata": {},
   "source": [
    "lub użyć funkcję **resize**:"
   ]
  },
  {
   "cell_type": "code",
   "execution_count": null,
   "metadata": {},
   "outputs": [],
   "source": [
    "A = np.arange(8)\n",
    "print(A,'\\n')\n",
    "A.resize(2, 4)\n",
    "# print A.resize(2, 4), '\\n'\n",
    "print(A)"
   ]
  },
  {
   "cell_type": "markdown",
   "metadata": {},
   "source": [
    "Do sprawdzenia wymiaru tablicy służy funkcja **shape**:"
   ]
  },
  {
   "cell_type": "code",
   "execution_count": null,
   "metadata": {},
   "outputs": [],
   "source": [
    "A = np.arange(20).reshape(5,4)\n",
    "print(A.shape, '\\n') # wymiar tablicy\n",
    "print(A.shape[0], '\\n') # pierwszy wymiar\n",
    "print(A.shape[1], '\\n') # drugi wymiar\n",
    "print(A.size) # liczba wszystkich elementów w tablicy "
   ]
  },
  {
   "cell_type": "markdown",
   "metadata": {},
   "source": [
    "Transpozycja macierzy:"
   ]
  },
  {
   "cell_type": "code",
   "execution_count": 9,
   "metadata": {},
   "outputs": [
    {
     "name": "stdout",
     "output_type": "stream",
     "text": [
      "[[0 1 2 3]\n",
      " [4 5 6 7]] \n",
      "\n",
      "[[0 4]\n",
      " [1 5]\n",
      " [2 6]\n",
      " [3 7]] \n",
      "\n",
      "[[0 4]\n",
      " [1 5]\n",
      " [2 6]\n",
      " [3 7]]\n"
     ]
    }
   ],
   "source": [
    "A = np.arange(8).reshape(2,4)\n",
    "print(A, '\\n')\n",
    "print(A.T, '\\n')\n",
    "print(np.transpose(A))\n"
   ]
  },
  {
   "cell_type": "markdown",
   "metadata": {},
   "source": [
    "Podobnie jak przy funkcji reshape aby zachować wynik transpozycji macierzy musimy go przypisać do nowej zmiennej."
   ]
  },
  {
   "cell_type": "code",
   "execution_count": 10,
   "metadata": {},
   "outputs": [
    {
     "name": "stdout",
     "output_type": "stream",
     "text": [
      "[[0 1 2 3]\n",
      " [4 5 6 7]] \n",
      "\n",
      "[[0 4]\n",
      " [1 5]\n",
      " [2 6]\n",
      " [3 7]]\n"
     ]
    }
   ],
   "source": [
    "print(A, '\\n')\n",
    "A = A.T\n",
    "print(A)"
   ]
  },
  {
   "cell_type": "markdown",
   "metadata": {},
   "source": [
    "Podobnie jest z poleceniem **swapaxes(tablica, oś1, oś2)**, które wyświetli zmienione wiersze z kolumnami dla tablicy dwuwymiarowej. Dla wielowymiarowych tablic zmieni ono elementy dla zadanych osi."
   ]
  },
  {
   "cell_type": "code",
   "execution_count": 11,
   "metadata": {},
   "outputs": [
    {
     "name": "stdout",
     "output_type": "stream",
     "text": [
      "[[1 2 3]\n",
      " [4 5 6]] \n",
      "\n",
      "[[1 4]\n",
      " [2 5]\n",
      " [3 6]] \n",
      "\n",
      "[[1 4]\n",
      " [2 5]\n",
      " [3 6]] \n",
      "\n",
      "[[[0 1]\n",
      "  [2 3]]\n",
      "\n",
      " [[4 5]\n",
      "  [6 7]]] \n",
      "\n",
      "[[[0 4]\n",
      "  [2 6]]\n",
      "\n",
      " [[1 5]\n",
      "  [3 7]]]\n"
     ]
    }
   ],
   "source": [
    "x = np.array([[1,2,3],[4,5,6]])\n",
    "print(x, '\\n')\n",
    "print(np.swapaxes(x,1,0), '\\n')\n",
    "print(np.swapaxes(x,0,1), '\\n')\n",
    "\n",
    "\n",
    "x = np.array([[[0,1],[2,3]],[[4,5],[6,7]]])\n",
    "print(x, '\\n')\n",
    "print(np.swapaxes(x, 0, 2))"
   ]
  },
  {
   "cell_type": "markdown",
   "metadata": {},
   "source": [
    "Aby zmienić tablicę na jednowymiarową, możemy użyć poleceń:"
   ]
  },
  {
   "cell_type": "code",
   "execution_count": 12,
   "metadata": {},
   "outputs": [
    {
     "name": "stdout",
     "output_type": "stream",
     "text": [
      "[[0 1 2 3]\n",
      " [4 5 6 7]] \n",
      "\n",
      "[0 1 2 3 4 5 6 7] \n",
      "\n",
      "[0 1 2 3 4 5 6 7]\n"
     ]
    }
   ],
   "source": [
    "A = np.arange(8).reshape(2,4)\n",
    "print(A, '\\n')\n",
    "print(np.ravel(A), '\\n')\n",
    "print(A.reshape(-1,))"
   ]
  },
  {
   "cell_type": "markdown",
   "metadata": {},
   "source": [
    "# Podstawowe operacje na tablicach\n",
    "\n",
    "  * dodawanie:"
   ]
  },
  {
   "cell_type": "code",
   "execution_count": 13,
   "metadata": {},
   "outputs": [
    {
     "name": "stdout",
     "output_type": "stream",
     "text": [
      "[1 5 8 5 9]\n",
      "[1 5 8 5 9] \n",
      "\n",
      "[2 5 7 3 6] \n",
      "\n",
      "[[15 17 19]\n",
      " [21 23 25]\n",
      " [27 29 31]\n",
      " [33 35 37]\n",
      " [39 41 43]]\n",
      "[[15 17 19]\n",
      " [21 23 25]\n",
      " [27 29 31]\n",
      " [33 35 37]\n",
      " [39 41 43]] \n",
      "\n",
      "[[20 21 22]\n",
      " [23 24 25]\n",
      " [26 27 28]\n",
      " [29 30 31]\n",
      " [32 33 34]] \n",
      "\n",
      "[[15 16 17]\n",
      " [18 19 20]\n",
      " [21 22 23]\n",
      " [24 25 26]\n",
      " [27 28 29]] \n",
      "\n",
      "[1 2 3] \n",
      "\n",
      "[[16 18 20]\n",
      " [19 21 23]\n",
      " [22 24 26]\n",
      " [25 27 29]\n",
      " [28 30 32]]\n"
     ]
    }
   ],
   "source": [
    "x = np.array([1,4,6,2,5])\n",
    "v = np.arange(5)\n",
    "print(x+v)\n",
    "print(np.add(x, v), '\\n') # równoważnie\n",
    "print(x+1, '\\n')\n",
    "\n",
    "A = np.arange(15, 30).reshape((5, 3))\n",
    "B = np.arange(15).reshape((5, 3))\n",
    "\n",
    "print(A+B)\n",
    "print(np.add(A, B), '\\n')\n",
    "print(A+5, '\\n')\n",
    "\n",
    "x = np.array([1,2,3])\n",
    "print(A, '\\n')\n",
    "print(x, '\\n')\n",
    "print(np.add(A, x)) # dodawanie do każdego wiersza wektora x"
   ]
  },
  {
   "cell_type": "markdown",
   "metadata": {},
   "source": [
    "* odejmowanie:"
   ]
  },
  {
   "cell_type": "code",
   "execution_count": 14,
   "metadata": {},
   "outputs": [
    {
     "name": "stdout",
     "output_type": "stream",
     "text": [
      "[ 1  3  4 -1  1]\n",
      "[ 1  3  4 -1  1] \n",
      "\n",
      "[0 3 5 1 4]\n",
      "[[15 15 15]\n",
      " [15 15 15]\n",
      " [15 15 15]\n",
      " [15 15 15]\n",
      " [15 15 15]]\n",
      "[[15 15 15]\n",
      " [15 15 15]\n",
      " [15 15 15]\n",
      " [15 15 15]\n",
      " [15 15 15]] \n",
      "\n",
      "[[14 15 16]\n",
      " [17 18 19]\n",
      " [20 21 22]\n",
      " [23 24 25]\n",
      " [26 27 28]] \n",
      "\n",
      "[[14 14 14]\n",
      " [17 17 17]\n",
      " [20 20 20]\n",
      " [23 23 23]\n",
      " [26 26 26]]\n"
     ]
    }
   ],
   "source": [
    "x = np.array([1,4,6,2,5])\n",
    "v = np.arange(5)\n",
    "print(x-v)\n",
    "print(np.subtract(x, v), '\\n') # równoważnie\n",
    "print(x-1)\n",
    "\n",
    "A = np.arange(15, 30).reshape((5, 3))\n",
    "B = np.arange(15).reshape((5, 3))\n",
    "print(A-B)\n",
    "print(np.subtract(A, B), '\\n')\n",
    "print(A-1, '\\n')\n",
    "\n",
    "x = np.array([1,2,3])\n",
    "print(np.subtract(A, x)) # odjęcie od każdego wiersza wektora x"
   ]
  },
  {
   "cell_type": "markdown",
   "metadata": {},
   "source": [
    "* mnożenie:"
   ]
  },
  {
   "cell_type": "code",
   "execution_count": 15,
   "metadata": {},
   "outputs": [
    {
     "name": "stdout",
     "output_type": "stream",
     "text": [
      "[ 5 20 30 10 25] \n",
      "\n",
      "42 \n",
      "\n",
      "[ 0  4 12  6 20] \n",
      "\n",
      "[[ 5 15]\n",
      " [ 0 30]] \n",
      "\n",
      "[[ 22   0]\n",
      " [ 48 -12]] \n",
      "\n",
      "[[ -2  18]\n",
      " [  0 -12]]\n",
      "[[42]]\n"
     ]
    }
   ],
   "source": [
    "x = np.array([1,4,6,2,5])\n",
    "v = np.arange(5)\n",
    "print(x*5, '\\n')\n",
    "print(np.dot(x,v), '\\n') # iloczyn skalarny\n",
    "print(x*v, '\\n' )# to jest mnożenie element przez element! \n",
    "\n",
    "A = np.array([[1, 3], [0, 6]])\n",
    "print(A*5, '\\n')\n",
    "\n",
    "B = np.array([[-2, 6], [8, -2]])\n",
    "print(np.dot(A, B), '\\n') # mnożenie macierzy\n",
    "print(A*B) # to nadal jest mnożenie element przez element! \n",
    "\n",
    "## notacja jest dosc zgodna, bo iloczyn skalrny to mnożene wiersza z kolumna:\n",
    "v=(v.reshape(5,1))\n",
    "x=x.reshape(1,5)\n",
    "print(np.dot(x,v))"
   ]
  },
  {
   "cell_type": "markdown",
   "metadata": {},
   "source": [
    "NumPy ma możliwość deklarowania macierzy, różnią się one w tym środowisku od tablic tym, że operacja mnożenia nie dotyczy mnożenia elementów, tylko klasycznego mnożenia macierzy:"
   ]
  },
  {
   "cell_type": "code",
   "execution_count": 16,
   "metadata": {},
   "outputs": [
    {
     "name": "stdout",
     "output_type": "stream",
     "text": [
      "[[17  1]\n",
      " [28  1]] \n",
      "\n",
      "[[17  1]\n",
      " [28  1]]\n",
      "[[13 21]\n",
      " [21 34]]\n"
     ]
    }
   ],
   "source": [
    "A = np.matrix( ((2,3), (3, 5)) )\n",
    "B = np.matrix( ((1,2), (5, -1)) )\n",
    "\n",
    "print(A * B, '\\n')\n",
    "print(np.dot(A, B))\n",
    "print(A**2) # kwadrat macierzy\n"
   ]
  },
  {
   "cell_type": "markdown",
   "metadata": {},
   "source": [
    "  * potęgowanie:"
   ]
  },
  {
   "cell_type": "code",
   "execution_count": 17,
   "metadata": {},
   "outputs": [
    {
     "name": "stdout",
     "output_type": "stream",
     "text": [
      "[1 4 6 2 5] \n",
      "\n",
      "[ 1 16 36  4 25]\n",
      "[ 1 16 36  4 25] \n",
      "\n",
      "[[0 1 2]\n",
      " [3 4 5]\n",
      " [6 7 8]] \n",
      "\n",
      "[[ 0  1  4]\n",
      " [ 9 16 25]\n",
      " [36 49 64]] \n",
      "\n",
      "[[ 0  1  4]\n",
      " [ 9 16 25]\n",
      " [36 49 64]]\n",
      "[[ 15  18  21]\n",
      " [ 42  54  66]\n",
      " [ 69  90 111]] \n",
      "\n"
     ]
    }
   ],
   "source": [
    "x = np.array([1,4,6,2,5])\n",
    "print(x, '\\n')\n",
    "\n",
    "print(x**2)\n",
    "print(np.power(x, 2), '\\n') # równoważnie\n",
    "\n",
    "A = np.arange(9).reshape((3, 3))\n",
    "print(A, '\\n')\n",
    "print(A**2, '\\n') # kwadrat elementów tablicy\n",
    "print(np.power(A, 2)) # równoważnie\n",
    "\n",
    "#i nie jest to kwadrat macierzy:\n",
    "print(np.dot(A,A), '\\n') # kwadrat macierzwy\n",
    "\n",
    "\n"
   ]
  },
  {
   "cell_type": "markdown",
   "metadata": {},
   "source": [
    "Więcej funkcji można znaleźć tutaj: [https://docs.scipy.org/doc/numpy/reference/routines.math.html]."
   ]
  },
  {
   "cell_type": "markdown",
   "metadata": {},
   "source": [
    "## Porównania elementów tablic"
   ]
  },
  {
   "cell_type": "code",
   "execution_count": 18,
   "metadata": {},
   "outputs": [
    {
     "name": "stdout",
     "output_type": "stream",
     "text": [
      "[[False False False]\n",
      " [False False False]\n",
      " [False False False]\n",
      " [False False False]\n",
      " [False False False]] \n",
      "\n",
      "[[ True  True  True]\n",
      " [ True  True  True]\n",
      " [ True  True  True]\n",
      " [ True  True  True]\n",
      " [ True  True  True]] \n",
      "\n",
      "[[False False False]\n",
      " [False False False]\n",
      " [False False False]\n",
      " [False False False]\n",
      " [ True False False]] \n",
      "\n",
      "True \n",
      "\n",
      "False\n"
     ]
    }
   ],
   "source": [
    "A = np.arange(5, 20).reshape((5, 3))\n",
    "B = np.arange(15).reshape((5, 3))\n",
    "\n",
    "print(A < B, '\\n')\n",
    "print(A == A, '\\n')\n",
    "print(A == 17, '\\n')\n",
    "print(np.any( A > 17 ), '\\n') # prawdziwe, jeśli któryś element z osobna spełnia warunek \n",
    "print(np.all( A > 17 )) # prawdziwe jeśli wszystkie elementy spełniają warunek"
   ]
  },
  {
   "cell_type": "markdown",
   "metadata": {},
   "source": [
    "## Łączenie i dzielenie tablic\n",
    "Biblioteka <i>NumPy</i> daje nam narzędzia dzięki, którym możemy łączyć i dzielić tablice. Zaczniemy od omówienia problemu łączenia tablic:"
   ]
  },
  {
   "cell_type": "code",
   "execution_count": 19,
   "metadata": {},
   "outputs": [
    {
     "name": "stdout",
     "output_type": "stream",
     "text": [
      "[[1 2]\n",
      " [3 4]] \n",
      "\n",
      "[[5 6]] \n",
      "\n",
      "[[1 2]\n",
      " [3 4]\n",
      " [5 6]] \n",
      "\n",
      "[[1 2]\n",
      " [3 4]\n",
      " [5 6]] \n",
      "\n",
      "[[1 2 5]\n",
      " [3 4 6]] \n",
      "\n",
      "[[1 2 5]\n",
      " [3 4 6]]\n"
     ]
    }
   ],
   "source": [
    "import numpy as np\n",
    "x = np.array([[1, 2], [3, 4]])\n",
    "y = np.array([[5, 6]])\n",
    "\n",
    "print(x, '\\n')\n",
    "print(y, '\\n')\n",
    "\n",
    "# łączenie wierszowe\n",
    "print(np.concatenate((x, y), axis=0), '\\n')\n",
    "print(np.vstack((x,y)), '\\n')\n",
    "\n",
    "# łączenie kolumnowe\n",
    "print(np.concatenate((x,y.T), axis=1), '\\n')\n",
    "print(np.hstack((x,y.T)))"
   ]
  },
  {
   "cell_type": "markdown",
   "metadata": {},
   "source": [
    "## Wybrane metody z algebry linowej\n",
    "Do części funkcji typowych dla algebry liniowej możemy się odwołać po zaimportowaniu biblioteki **linalg** będącej integralną częścią biblioteki NumPy."
   ]
  },
  {
   "cell_type": "code",
   "execution_count": 20,
   "metadata": {},
   "outputs": [],
   "source": [
    "import numpy.linalg as alg "
   ]
  },
  {
   "cell_type": "markdown",
   "metadata": {},
   "source": [
    "Można tam znaleźć funkcję obliczającą:\n",
    "\n",
    "* macierz odwrotną:"
   ]
  },
  {
   "cell_type": "code",
   "execution_count": 21,
   "metadata": {},
   "outputs": [
    {
     "name": "stdout",
     "output_type": "stream",
     "text": [
      "[[-2.   1. ]\n",
      " [ 1.5 -0.5]] \n",
      "\n",
      "[[1.00000000e+00 1.11022302e-16]\n",
      " [0.00000000e+00 1.00000000e+00]]\n"
     ]
    }
   ],
   "source": [
    "A = np.array([[1., 2.], [3., 4.]])\n",
    "invA = alg.inv(A)\n",
    "print(invA, '\\n')\n",
    "print(np.dot(A, invA))"
   ]
  },
  {
   "cell_type": "markdown",
   "metadata": {},
   "source": [
    "  * wyznacznik:"
   ]
  },
  {
   "cell_type": "code",
   "execution_count": 22,
   "metadata": {},
   "outputs": [
    {
     "name": "stdout",
     "output_type": "stream",
     "text": [
      "[[1. 2.]\n",
      " [3. 4.]] \n",
      "\n",
      "-2.0000000000000004\n"
     ]
    }
   ],
   "source": [
    "print(A, '\\n')\n",
    "print(alg.det(A))"
   ]
  },
  {
   "cell_type": "markdown",
   "metadata": {},
   "source": [
    "  * ślad:"
   ]
  },
  {
   "cell_type": "code",
   "execution_count": 23,
   "metadata": {},
   "outputs": [
    {
     "name": "stdout",
     "output_type": "stream",
     "text": [
      "[[1. 2.]\n",
      " [3. 4.]] \n",
      "\n",
      "5.0\n"
     ]
    }
   ],
   "source": [
    "print(A, '\\n')\n",
    "print(np.trace(A))"
   ]
  },
  {
   "cell_type": "markdown",
   "metadata": {},
   "source": [
    "  * normę dla macierz lub wektora:"
   ]
  },
  {
   "cell_type": "code",
   "execution_count": 24,
   "metadata": {},
   "outputs": [
    {
     "name": "stdout",
     "output_type": "stream",
     "text": [
      "5.477225575051661 \n",
      "\n",
      "5.477225575051661 \n",
      "\n",
      "7.0 \n",
      "\n",
      "[3.16227766 4.47213595] \n",
      "\n",
      "[2.23606798 5.        ] \n",
      "\n"
     ]
    }
   ],
   "source": [
    "print(alg.norm(A), '\\n') # Euklidesowa\n",
    "print(alg.norm(A, 'fro'), '\\n') # Frobeniusa\n",
    "print(alg.norm(A, np.inf), '\\n') # maksimum\n",
    "\n",
    "print(alg.norm(A, axis=0), '\\n') # wierszy\n",
    "print(alg.norm(A, axis=1), '\\n') # kolumn"
   ]
  },
  {
   "cell_type": "markdown",
   "metadata": {},
   "source": [
    "  * rozwiązywanie układów równań:"
   ]
  },
  {
   "cell_type": "code",
   "execution_count": 25,
   "metadata": {},
   "outputs": [
    {
     "name": "stdout",
     "output_type": "stream",
     "text": [
      "[2.33333333 0.66666667]\n"
     ]
    }
   ],
   "source": [
    "# 4*x_1 + x_2 = 10\n",
    "# 3*x_1 = 7\n",
    "A = np.array([[4,1], [3,0]])\n",
    "b = np.array([10,7])\n",
    "print(np.linalg.solve(A, b))"
   ]
  },
  {
   "cell_type": "markdown",
   "metadata": {},
   "source": [
    "## Statystyka\n",
    "<i>NumPy</i> oferuje dużo możliwości generacji liczb losowych. Poniżej podaję niektóre z nich, więcej można znaleźć tu:\n",
    "https://docs.scipy.org/doc/numpy-1.15.0/reference/routines.random.html"
   ]
  },
  {
   "cell_type": "code",
   "execution_count": 26,
   "metadata": {},
   "outputs": [
    {
     "name": "stdout",
     "output_type": "stream",
     "text": [
      "[[0.30524357 0.26544031]\n",
      " [0.83429761 0.75837993]\n",
      " [0.08287803 0.60970568]] \n",
      "\n",
      "[[1.41088956 1.3929774  0.99071472]\n",
      " [1.00132421 1.3453428  4.2044132 ]] \n",
      "\n",
      "[[4 0 4]\n",
      " [3 1 4]\n",
      " [4 4 1]] \n",
      "\n",
      "[0 4 1] \n",
      "\n",
      "[[0.30150086 5.90567685 1.83609293]\n",
      " [0.01870122 1.64771335 0.53276058]] \n",
      "\n",
      "[[1 1 1 2]\n",
      " [2 1 4 5]] \n",
      "\n",
      "[ 1.2098205  -0.04522024  0.99885319  0.21330831 -1.38517371 -0.68371277\n",
      " -0.67503414] \n",
      "\n",
      "[5 2 3 7 6 4 6 6 4 2] \n",
      "\n",
      "[[ 5.23777429 -4.18787138]\n",
      " [ 2.60137646 -2.92323157]\n",
      " [ 4.5750671  -7.93762855]\n",
      " [ 4.70323081 -3.47367769]\n",
      " [ 3.9631444  -3.46292351]\n",
      " [ 3.98972372 -4.41937662]\n",
      " [10.59664926 -7.88893049]] \n",
      "\n"
     ]
    }
   ],
   "source": [
    "# macierz losowa 3x2 (liczby z przedziału [0, 1)) \n",
    "print(np.random.rand(3,2), '\\n')\n",
    "\n",
    "# macierz losowa 2x3 o elementach z rozkładu N(mu, sigma^2) = N(1, 4)\n",
    "print(2 * np.random.randn(2, 3) + 1, '\\n')\n",
    "\n",
    "# macierz losowa 3x3 o elementach całkowitych z przedziału [0, 5)\n",
    "print(np.random.randint(5, size=(3, 3)), '\\n')\n",
    "\n",
    "# losowe wybranie 3 liczb z [0, 1, 2, 3, 4]\n",
    "print(np.random.choice(5, 3, replace=False), '\\n')\n",
    "\n",
    "# rozkład wykładniczy (scale = 1/lambda)\n",
    "print(numpy.random.exponential(scale=1.0, size=(2, 3)), '\\n')\n",
    "\n",
    "# rozkład geometryczny\n",
    "print(np.random.geometric(p=0.35, size=(2,4)), '\\n')\n",
    "\n",
    "# rozkład normalny N(mu, sigma)\n",
    "print(np.random.normal(0.0, 1, size=7), '\\n')\n",
    "\n",
    "# rozkład Poissona\n",
    "print(np.random.poisson(5, 10), '\\n')\n",
    "\n",
    "# rozkład wielowymiarowy rozkład normalny\n",
    "mean = [5, -5]\n",
    "cov = [[10, -6], [-6, 5]]\n",
    "print(np.random.multivariate_normal(mean, cov, 7), '\\n')"
   ]
  },
  {
   "cell_type": "markdown",
   "metadata": {},
   "source": [
    "Proste statystyki:"
   ]
  },
  {
   "cell_type": "code",
   "execution_count": 27,
   "metadata": {},
   "outputs": [
    {
     "name": "stdout",
     "output_type": "stream",
     "text": [
      "7.191130469385711 \n",
      "\n",
      "7.191130469385711 \n",
      "\n",
      "0.24548721098831816 \n",
      "\n",
      "23.120476868285007 \n",
      "\n",
      "71.35089643751371 \n",
      "\n",
      "3.302925266897858\n",
      "3.302925266897858 \n",
      "\n",
      "3.2697074343134807 \n",
      "\n",
      "2.5969126172855614\n",
      "2.5969126172855614 \n",
      "\n",
      "6.7439551418169446\n",
      "6.7439551418169446\n"
     ]
    }
   ],
   "source": [
    "x = np.random.normal(2.0, 2.5, size=7)\n",
    "\n",
    "print(np.max(x),'\\n') #maksymalna wartość\n",
    "print(x.max(),'\\n') # tak też można zapisać to polecenie \n",
    "\n",
    "print(x.min(),'\\n') # minimalna wartość \n",
    "\n",
    "print(x.sum(),'\\n') # suma wszystkich elementów \n",
    "\n",
    "print(x.prod(),'\\n') # iloczyn wszystkich elementów \n",
    "\n",
    "print(x.mean()) # średnia z wszystkich elementów\n",
    "print(np.mean(x),'\\n')\n",
    "\n",
    "print(np.median(x),'\\n') # mediana\n",
    "\n",
    "print(x.std()) # odchylenie standardowe \n",
    "print(np.std(x),'\\n')\n",
    "\n",
    "print(x.var()) # wariancja\n",
    "print(np.var(x))"
   ]
  },
  {
   "cell_type": "markdown",
   "metadata": {},
   "source": [
    "# Zadanie 1\n",
    "Wygeneruj losową tablice 100 x 10, która będzie reprezentować 100 punktów w 10 wymiarowej przestrzeni. Napisz funkcję, która policzy odległość euklidesową pomiędzy każdą parą punktów, czy potrafisz zrobić to w jednej linijce, bez użycia żadnych pętli/wytworników pętli? Przypomnienie, dla dwóch wektorów  xx  i  yy  odległość euklidesową liczymy ze wzoru: \n",
    "\n",
    "$$\n",
    "d(x,y)=\\|x-y\\|_2^2=\\sum_{i=1}^n |x_i-y_i|^2.\n",
    "$$"
   ]
  },
  {
   "cell_type": "code",
   "execution_count": 28,
   "metadata": {},
   "outputs": [
    {
     "name": "stdout",
     "output_type": "stream",
     "text": [
      "[[6.85167163e-01 4.04136881e-01 1.67507567e-01 8.53228136e-01\n",
      "  7.90592810e-01 4.71383580e-01 1.44946441e-01 8.92788788e-01\n",
      "  8.38493041e-01 7.39063334e-01]\n",
      " [6.55670459e-01 3.11032819e-01 3.23087312e-01 8.11348699e-01\n",
      "  6.66192631e-01 4.97496331e-01 2.46189368e-01 4.91423772e-02\n",
      "  6.13999313e-01 5.21728598e-02]\n",
      " [5.38834097e-01 6.75868936e-01 8.94923260e-01 2.01330435e-01\n",
      "  8.04929773e-01 5.02111895e-01 7.85523028e-01 7.72978095e-01\n",
      "  4.09825948e-01 8.14190636e-01]\n",
      " [5.51576265e-02 6.23555173e-01 9.40662606e-01 5.69286285e-01\n",
      "  4.95899008e-01 5.17682016e-01 1.34172787e-01 7.25438215e-01\n",
      "  8.00891275e-01 7.18567426e-01]\n",
      " [5.02437736e-01 2.07674583e-01 9.61765202e-01 2.40776882e-01\n",
      "  5.23082055e-01 6.01394672e-02 1.52001784e-01 8.26571819e-01\n",
      "  7.44855166e-01 7.58831257e-01]\n",
      " [9.31721073e-01 1.26966167e-01 1.34765078e-02 9.91327895e-01\n",
      "  8.91112400e-01 5.13082796e-01 3.49659389e-01 6.96520826e-01\n",
      "  3.72938925e-01 2.58108545e-02]\n",
      " [9.04090678e-01 6.93649589e-01 4.30166238e-01 5.48698377e-01\n",
      "  2.92430909e-01 1.57839275e-01 6.67127878e-01 8.25263812e-01\n",
      "  4.79702910e-01 2.78419861e-01]\n",
      " [9.24578872e-01 9.96750526e-01 8.67263800e-01 9.55109262e-01\n",
      "  6.90013423e-02 5.01328138e-01 9.08283013e-01 3.69499479e-01\n",
      "  5.59091815e-01 9.22565709e-01]\n",
      " [3.79367415e-01 4.54973631e-01 1.27664531e-01 6.99737214e-01\n",
      "  4.50800754e-01 3.14843822e-01 8.84143323e-02 8.14686995e-01\n",
      "  5.03818235e-01 1.87183962e-01]\n",
      " [7.63171056e-01 1.08672631e-01 7.79358346e-02 1.08343489e-01\n",
      "  4.70090892e-01 8.84696101e-01 2.50701084e-01 9.17847021e-01\n",
      "  7.45460384e-01 6.98307897e-01]\n",
      " [8.78973564e-01 8.78513785e-01 9.50789983e-01 4.71731255e-01\n",
      "  3.92360368e-02 7.52476547e-01 1.91432670e-01 6.11748739e-01\n",
      "  7.53313581e-01 1.30584419e-01]\n",
      " [2.89222176e-02 9.68806649e-01 5.00000127e-01 2.86582868e-01\n",
      "  4.65625892e-01 1.95844996e-01 5.33006414e-01 7.54672876e-01\n",
      "  1.62768790e-01 2.46377899e-04]\n",
      " [3.01383615e-01 2.29167686e-01 6.77555160e-01 3.67263954e-01\n",
      "  7.61012756e-01 5.04697817e-01 4.74563718e-02 7.99399789e-01\n",
      "  9.25208187e-01 8.28155978e-01]\n",
      " [4.86215214e-01 2.37709908e-01 9.93270642e-01 5.50359029e-01\n",
      "  6.74258662e-01 9.06532067e-01 9.12456015e-01 7.82723656e-01\n",
      "  9.44057613e-01 8.14320333e-01]\n",
      " [2.84457063e-01 1.85586863e-01 1.87737182e-01 8.59480382e-01\n",
      "  4.68947139e-01 3.39802065e-01 9.70697931e-01 9.86061716e-01\n",
      "  3.64408581e-01 3.17544538e-01]\n",
      " [2.32112103e-01 2.83922201e-01 5.69045366e-01 4.17784271e-01\n",
      "  7.70043702e-01 1.47389955e-01 3.61491179e-01 8.29721747e-01\n",
      "  1.84232069e-01 7.09706311e-01]\n",
      " [1.88592965e-01 2.56160876e-02 9.37976438e-01 7.66881613e-01\n",
      "  4.15001156e-01 4.95298490e-01 7.80384261e-01 4.82290966e-01\n",
      "  6.27960499e-01 9.91745385e-01]\n",
      " [4.56375976e-01 4.10722847e-01 4.48933254e-01 1.15901293e-01\n",
      "  9.09838227e-01 4.82133005e-01 4.53422432e-01 1.50833209e-02\n",
      "  1.20045835e-02 3.11912956e-01]\n",
      " [4.58410200e-01 7.50733507e-01 4.73173988e-02 2.42682295e-01\n",
      "  2.40584025e-01 3.58672038e-01 8.81024191e-01 4.89495559e-01\n",
      "  3.42473406e-01 7.01697811e-01]\n",
      " [4.63639065e-01 1.75011553e-02 1.08240906e-01 1.30899014e-01\n",
      "  6.64136172e-01 4.81065736e-01 4.44838089e-01 1.05953466e-01\n",
      "  4.01355993e-01 1.94214486e-01]\n",
      " [6.78653014e-01 9.23168146e-01 3.19777320e-01 8.18735250e-02\n",
      "  1.72886098e-01 7.62682723e-01 7.47305225e-01 3.03001761e-01\n",
      "  3.54220288e-01 5.64028109e-01]\n",
      " [8.45147992e-02 1.32757378e-02 5.82570943e-02 7.14909898e-01\n",
      "  1.56445933e-01 3.13935018e-02 9.29703301e-01 3.90980097e-01\n",
      "  1.83230569e-01 5.50840665e-01]\n",
      " [5.10416708e-01 1.88289329e-01 5.26155281e-01 9.96187431e-01\n",
      "  7.23013813e-02 5.81851165e-01 4.27652837e-01 1.09734765e-01\n",
      "  8.50254474e-01 4.78093740e-01]\n",
      " [6.45695627e-01 7.62832237e-01 8.70994993e-01 9.12960178e-01\n",
      "  5.40830011e-01 2.40193519e-01 2.02577868e-01 8.97515821e-02\n",
      "  5.55002798e-01 9.28354540e-02]\n",
      " [7.26867564e-01 9.60892708e-01 2.32598592e-02 5.91018088e-01\n",
      "  7.50526172e-01 6.50056250e-03 9.53843351e-01 1.48837131e-01\n",
      "  5.59942166e-01 3.47500905e-01]\n",
      " [9.46137070e-01 7.45475989e-01 9.01125208e-01 9.94669929e-01\n",
      "  4.06273630e-01 2.84641251e-01 3.43033311e-01 2.51667562e-01\n",
      "  4.84476928e-01 8.39489124e-01]\n",
      " [5.37716512e-01 9.61271116e-01 4.53213245e-01 5.35609545e-01\n",
      "  3.39948743e-01 3.45788172e-01 8.54297928e-03 2.68267556e-01\n",
      "  1.86989628e-01 3.92441811e-01]\n",
      " [2.05850969e-01 7.26969850e-01 4.86150871e-01 3.31704589e-01\n",
      "  9.48926617e-01 2.72049138e-01 1.60225859e-01 7.91815178e-01\n",
      "  3.29524861e-01 6.36185146e-01]\n",
      " [4.72682723e-01 7.06134055e-01 6.53975666e-01 8.81076709e-01\n",
      "  6.04044986e-01 6.56950385e-01 5.23643911e-01 1.37296569e-01\n",
      "  8.64486897e-01 5.60012141e-01]\n",
      " [6.38497059e-01 4.34786751e-02 6.43404652e-01 9.37350814e-01\n",
      "  6.61972440e-01 9.40456678e-01 9.67297014e-01 3.42666032e-01\n",
      "  2.00542288e-01 1.85105690e-01]\n",
      " [7.52276880e-01 7.65253224e-01 3.75803603e-01 8.50565220e-01\n",
      "  9.04392301e-01 3.86472592e-01 4.17696798e-01 6.26475908e-01\n",
      "  5.89218098e-01 9.55132309e-01]\n",
      " [9.98043159e-01 1.71069855e-01 5.59986309e-01 4.08804851e-01\n",
      "  9.86696369e-01 7.69838274e-01 7.88936240e-01 3.06472131e-01\n",
      "  5.03801370e-01 5.17653149e-01]\n",
      " [1.80077165e-01 9.62771870e-01 7.45487119e-02 5.74448489e-01\n",
      "  9.73607294e-02 1.11170975e-01 4.61308078e-01 8.80517653e-01\n",
      "  1.94838644e-01 7.34245488e-01]\n",
      " [9.03287785e-01 3.91170071e-01 2.65840632e-02 9.60740184e-01\n",
      "  2.57649335e-01 7.50259286e-02 1.22251610e-01 5.97193299e-01\n",
      "  7.14093056e-01 2.57874268e-02]\n",
      " [5.66911541e-01 5.68824996e-01 9.50650039e-01 9.97528921e-01\n",
      "  8.07051717e-01 3.35425363e-01 7.86325693e-01 4.81290382e-01\n",
      "  2.10459033e-01 4.25012363e-01]\n",
      " [7.84752803e-01 5.30695594e-01 3.33990957e-02 8.01774329e-01\n",
      "  8.81402716e-02 1.32146453e-01 8.90260126e-01 2.34268951e-01\n",
      "  4.53032842e-01 3.63957664e-01]\n",
      " [9.19572215e-01 3.04504343e-02 2.17049256e-01 6.85302272e-01\n",
      "  9.05147012e-01 1.87629647e-01 1.51754394e-01 5.66604180e-01\n",
      "  2.20631351e-01 9.26300167e-01]\n",
      " [8.30712864e-01 3.72890433e-01 6.40970773e-01 3.55753594e-01\n",
      "  9.31353420e-01 9.66778540e-01 6.31498070e-01 8.34881808e-01\n",
      "  3.10122868e-01 2.83698466e-01]\n",
      " [2.52671932e-01 9.05065886e-01 1.89777164e-01 7.46235630e-01\n",
      "  2.99532127e-01 6.09350816e-01 2.15039713e-01 5.26267813e-01\n",
      "  6.90365985e-01 2.53846033e-01]\n",
      " [5.69544280e-01 3.06034258e-01 3.54052715e-01 1.30170031e-01\n",
      "  2.53570429e-01 1.47102319e-01 4.79406885e-01 7.20828261e-01\n",
      "  8.10037673e-01 6.31365535e-03]\n",
      " [9.37893407e-01 2.08274452e-01 4.13091910e-01 5.54358118e-01\n",
      "  5.55855607e-01 1.87963014e-01 3.77638511e-01 9.84909437e-02\n",
      "  8.31682641e-01 4.50028668e-01]\n",
      " [9.84554322e-01 3.00462919e-01 2.48035113e-01 1.06303433e-01\n",
      "  1.40017082e-01 8.13479804e-01 5.66380013e-01 2.18303234e-01\n",
      "  9.84241276e-01 2.98893516e-01]\n",
      " [1.73732386e-01 1.60458987e-02 9.22781488e-02 6.32114697e-01\n",
      "  4.06167868e-02 1.63264683e-01 2.14500088e-01 1.44573407e-01\n",
      "  6.73699840e-01 8.81727369e-01]\n",
      " [6.39982072e-01 9.83178557e-01 9.11737135e-01 8.78970727e-01\n",
      "  4.02144119e-02 6.63809712e-01 3.83065121e-01 6.17589634e-02\n",
      "  2.73328423e-01 5.05243290e-01]\n",
      " [1.80839244e-01 7.49998473e-01 8.84384423e-01 8.92068522e-01\n",
      "  1.20669101e-02 3.13716277e-01 1.88663873e-01 7.70111749e-01\n",
      "  5.74806730e-01 3.22102791e-01]\n",
      " [2.56150339e-01 2.02566404e-01 3.67274508e-01 3.04790850e-01\n",
      "  7.55645938e-01 1.95543124e-01 2.28220395e-02 6.15328886e-01\n",
      "  7.72414864e-01 8.65712051e-01]\n",
      " [7.07385895e-01 9.94347725e-01 9.01079960e-01 6.17649074e-01\n",
      "  8.77404488e-01 8.88247160e-01 6.05729293e-01 8.66413205e-01\n",
      "  4.64695747e-01 3.88187502e-01]\n",
      " [5.71899402e-01 5.29618253e-01 5.22485773e-01 2.76391063e-01\n",
      "  7.02677177e-01 1.22371848e-01 1.13104155e-01 3.53608346e-01\n",
      "  9.34301155e-02 9.10859175e-01]\n",
      " [4.85576894e-01 6.92162294e-01 3.24068933e-01 8.71264685e-01\n",
      "  8.44389932e-01 2.40447482e-01 3.16996335e-01 5.54400453e-01\n",
      "  7.52378477e-01 2.58626829e-01]\n",
      " [2.47901508e-01 5.03360653e-01 5.65531081e-01 2.34776545e-01\n",
      "  6.15783695e-01 3.25226520e-01 1.15490092e-02 9.11200682e-02\n",
      "  3.14478535e-01 7.57059304e-01]\n",
      " [9.65687821e-01 7.70662694e-01 8.81498279e-01 2.64666035e-01\n",
      "  4.18023520e-01 3.35782232e-01 7.01366780e-01 2.36670688e-01\n",
      "  3.44848980e-01 3.52967812e-01]\n",
      " [3.05542796e-01 3.47256980e-01 1.72910983e-01 1.20265014e-01\n",
      "  9.90373209e-01 7.21145482e-01 8.48018256e-01 7.49581460e-01\n",
      "  8.96864167e-01 4.12964116e-01]\n",
      " [6.21339194e-01 2.25027198e-01 4.05276827e-01 5.99307010e-01\n",
      "  3.60647363e-01 4.35297228e-01 1.21721549e-01 1.07442133e-01\n",
      "  3.32586468e-01 8.91474009e-01]\n",
      " [7.80011183e-01 5.95490007e-01 2.79222852e-01 9.07764588e-02\n",
      "  1.72429082e-02 4.67478999e-01 3.64057710e-01 7.30869899e-01\n",
      "  3.63417448e-01 3.72129122e-01]\n",
      " [8.11445247e-01 6.21519165e-01 5.92272846e-01 4.09016339e-01\n",
      "  5.93490437e-01 7.19333637e-01 1.20215299e-01 4.85058468e-01\n",
      "  5.44708143e-01 8.73946912e-01]\n",
      " [2.71096897e-01 7.43442385e-01 6.36903991e-01 2.48183513e-01\n",
      "  2.88249974e-01 9.79864272e-02 6.42439892e-01 1.71754454e-01\n",
      "  9.69268414e-01 8.26942864e-01]\n",
      " [8.13630716e-01 2.94911219e-01 7.84352100e-01 7.82000650e-01\n",
      "  4.45775555e-01 4.10209587e-02 3.96746438e-01 7.52537629e-01\n",
      "  3.65127083e-01 1.23293071e-02]\n",
      " [8.01323417e-01 3.76102423e-01 5.91546683e-01 9.68003591e-01\n",
      "  2.08202555e-01 1.20461415e-01 3.24479158e-01 2.93021589e-01\n",
      "  2.05542363e-01 7.24409278e-01]\n",
      " [2.92237058e-01 1.07668800e-01 4.10438502e-01 6.40150804e-01\n",
      "  3.01293135e-01 9.91752748e-01 7.33888044e-01 4.84257643e-01\n",
      "  9.18393990e-01 6.86105607e-01]\n",
      " [6.12538646e-02 2.15410871e-01 6.01374548e-01 7.63726983e-01\n",
      "  5.45435622e-01 2.89339132e-01 6.96591494e-01 1.43841634e-02\n",
      "  7.17877061e-01 6.26242633e-01]\n",
      " [5.78591786e-01 5.82661003e-01 4.02218580e-02 9.28505003e-01\n",
      "  2.49879208e-01 6.59061411e-01 7.50431041e-01 5.43118998e-01\n",
      "  1.82911052e-01 3.68283822e-01]\n",
      " [3.66696705e-01 1.15168951e-01 9.70001184e-02 5.31532357e-01\n",
      "  9.67925389e-01 3.25615211e-01 3.05092166e-01 3.49501280e-01\n",
      "  2.07696474e-01 3.02235176e-01]\n",
      " [9.42341581e-01 4.91479005e-01 8.41351337e-01 5.42520046e-01\n",
      "  4.81245340e-01 3.20661666e-01 4.81138032e-01 8.47252960e-01\n",
      "  4.48927527e-02 8.51323364e-02]\n",
      " [5.05585539e-01 3.97772377e-01 4.89704681e-01 6.51250072e-01\n",
      "  2.60446208e-01 8.21339939e-01 3.79366979e-01 3.48424098e-01\n",
      "  4.77920862e-01 3.58657243e-02]\n",
      " [8.34097409e-01 7.53766664e-01 6.00481580e-01 1.78335192e-01\n",
      "  7.00545072e-01 9.01782291e-02 2.63708020e-01 3.90740489e-01\n",
      "  4.94517475e-02 6.41046937e-01]\n",
      " [2.16690258e-01 9.45398742e-01 2.19271104e-02 6.87441721e-01\n",
      "  3.38578955e-01 7.94662533e-02 4.60318708e-02 5.75830203e-01\n",
      "  5.30321612e-01 4.99338984e-01]\n",
      " [4.96800207e-01 6.48708466e-02 8.32560473e-01 9.98693420e-01\n",
      "  6.10268478e-01 3.98761687e-02 5.09298700e-01 2.50268205e-01\n",
      "  3.63322467e-03 7.02036740e-01]\n",
      " [5.28596756e-02 1.81574349e-01 4.51837062e-01 7.33015181e-01\n",
      "  4.94377500e-01 4.59110121e-01 3.30100284e-01 1.85995339e-01\n",
      "  5.14477506e-01 5.37140416e-01]\n",
      " [3.61172865e-01 4.69422059e-01 9.52148569e-01 3.67049840e-01\n",
      "  5.85597284e-01 3.89844231e-01 8.16156048e-01 3.24094781e-02\n",
      "  8.56434341e-01 5.04670889e-01]\n",
      " [2.70654082e-01 8.17606154e-01 4.66471688e-01 8.76605263e-02\n",
      "  4.11883272e-01 8.87072198e-01 8.73199089e-01 1.13262327e-02\n",
      "  1.73533244e-01 5.62057166e-01]\n",
      " [7.64733188e-01 1.51610798e-01 5.44024370e-01 8.25513625e-01\n",
      "  3.16621702e-01 7.96602005e-01 7.22048935e-01 6.95836491e-01\n",
      "  9.35065774e-01 8.79760922e-01]\n",
      " [5.12026121e-01 3.37800325e-01 6.91430246e-01 6.41679733e-01\n",
      "  3.21211701e-01 6.49261942e-01 6.24605811e-01 3.93545078e-01\n",
      "  9.88109573e-01 5.59907252e-01]\n",
      " [9.07332123e-01 2.99257392e-01 8.34247532e-01 1.66803819e-01\n",
      "  4.39555429e-01 4.18679836e-01 1.58226576e-01 8.36816391e-01\n",
      "  2.24953126e-01 8.72841891e-02]\n",
      " [1.19024071e-01 4.23466378e-01 4.34992661e-01 8.51410691e-01\n",
      "  4.50482862e-01 1.54590961e-01 3.34557922e-01 8.24122184e-01\n",
      "  5.65140127e-01 8.46363978e-01]\n",
      " [6.69030224e-01 2.83110403e-01 7.60267875e-01 6.21965965e-01\n",
      "  1.18505043e-01 9.98301125e-01 8.34483693e-01 9.27776527e-03\n",
      "  7.93802995e-01 8.59560550e-02]\n",
      " [9.73331085e-02 9.30890274e-01 8.20603943e-01 8.25740104e-01\n",
      "  9.41994162e-01 1.85719447e-01 7.01571604e-02 7.32918974e-01\n",
      "  5.05678038e-01 3.89752658e-01]\n",
      " [3.91038352e-01 3.49814770e-01 6.95908892e-01 9.03499010e-02\n",
      "  2.54391843e-01 7.05580498e-01 6.95794796e-01 5.61620940e-02\n",
      "  3.99448924e-03 7.69558727e-01]\n",
      " [1.30698737e-01 7.80770984e-01 6.43865271e-01 4.51790633e-01\n",
      "  3.75874843e-01 2.69164017e-01 1.93278271e-01 4.91314705e-02\n",
      "  1.46866710e-01 6.53981847e-01]\n",
      " [4.59748556e-01 1.17580150e-01 4.39914629e-01 9.74526844e-01\n",
      "  7.28501096e-01 8.89184288e-02 1.33578130e-01 3.15769436e-01\n",
      "  8.44868578e-01 3.23717232e-01]\n",
      " [4.27774314e-01 4.34464845e-01 6.94968813e-01 4.67936940e-01\n",
      "  6.38509472e-01 8.15728839e-01 6.28038394e-01 1.93550058e-01\n",
      "  8.84275307e-01 1.33758287e-01]\n",
      " [3.15483476e-01 3.96659161e-01 4.54298434e-01 7.20174974e-01\n",
      "  1.12956154e-01 9.35713322e-01 3.98412408e-01 4.51982651e-01\n",
      "  5.55140963e-01 1.30280508e-01]\n",
      " [2.58596643e-01 5.60199441e-01 9.16337945e-01 6.25592070e-01\n",
      "  6.09738027e-01 1.61053745e-01 7.84491537e-01 8.65559023e-01\n",
      "  6.01196365e-01 5.17365344e-01]\n",
      " [6.31919386e-01 8.84398211e-01 2.09471089e-01 9.81922404e-01\n",
      "  2.59155731e-01 7.38585915e-01 9.17329752e-03 8.20432113e-01\n",
      "  1.17125389e-01 1.09279179e-01]\n",
      " [9.56552692e-01 9.59593836e-01 6.90612422e-01 6.06454222e-01\n",
      "  3.63191925e-02 9.77329470e-01 1.99898041e-01 9.62380565e-01\n",
      "  1.35905874e-01 7.92199923e-01]\n",
      " [3.71230725e-01 7.08872821e-01 2.36372923e-01 8.94646729e-02\n",
      "  5.58252454e-02 4.22684963e-01 9.62202082e-01 1.83158466e-01\n",
      "  5.72648050e-04 8.85252807e-01]\n",
      " [1.62224675e-01 7.06078171e-01 8.28744139e-01 3.09892775e-03\n",
      "  4.68103362e-01 1.95802628e-02 8.27531844e-01 7.03598553e-02\n",
      "  9.69193944e-01 1.86703581e-01]\n",
      " [5.53301148e-01 9.47934622e-01 5.41755741e-02 4.34384531e-01\n",
      "  6.39552917e-01 5.89933740e-01 5.31355540e-01 4.91154701e-01\n",
      "  3.68315715e-01 4.61774225e-01]\n",
      " [7.88961046e-01 7.05980366e-01 5.75088220e-01 2.17664447e-01\n",
      "  6.45848027e-01 8.72881722e-01 6.00011714e-01 6.12702325e-01\n",
      "  3.61756521e-01 4.42189563e-01]\n",
      " [7.40229219e-01 4.46707630e-01 4.55905191e-02 4.93907109e-02\n",
      "  2.09782711e-01 9.49577532e-01 4.78425236e-01 7.85313742e-01\n",
      "  1.85700233e-01 3.63672482e-01]\n",
      " [8.50263050e-01 4.32157315e-01 5.27286334e-01 4.73277237e-01\n",
      "  3.28185116e-01 1.09017335e-01 4.91835754e-01 7.57903331e-01\n",
      "  6.54591131e-02 6.66116162e-01]\n",
      " [2.86705384e-01 8.84182316e-01 5.71755669e-01 3.79673091e-01\n",
      "  9.07807887e-01 1.35907391e-01 7.28497683e-01 9.00926129e-01\n",
      "  5.66117220e-01 1.69330974e-01]\n",
      " [7.65996657e-02 1.94496535e-01 6.80535451e-01 1.45917507e-01\n",
      "  8.01933327e-01 3.64486542e-01 1.74586207e-01 2.13628132e-01\n",
      "  8.25455298e-01 8.76322264e-01]\n",
      " [2.36984384e-02 8.48356396e-01 4.86614791e-01 1.03641907e-01\n",
      "  6.20370734e-01 8.44725214e-01 4.94716254e-01 6.44417219e-01\n",
      "  5.23393683e-01 6.84321554e-02]\n",
      " [7.72123873e-01 7.16458483e-01 9.50824427e-01 9.90896058e-01\n",
      "  4.19063236e-01 7.91537340e-01 6.47676122e-01 8.92295360e-01\n",
      "  3.55481175e-01 7.82357965e-02]\n",
      " [7.42606583e-01 4.52109402e-01 6.03221428e-01 8.30277301e-01\n",
      "  4.45407995e-01 6.21472981e-01 9.89701168e-01 2.53272867e-01\n",
      "  3.30616521e-01 6.40177567e-01]\n",
      " [2.47882118e-02 9.57766151e-01 3.25313465e-01 5.16697755e-01\n",
      "  2.74582793e-01 1.90556145e-01 7.22116594e-01 5.08882619e-01\n",
      "  8.26124112e-01 6.86823592e-01]\n",
      " [7.45086036e-01 5.06009302e-01 6.11879953e-01 4.93747557e-03\n",
      "  2.13843310e-01 9.20104835e-01 9.44534802e-01 3.13428047e-01\n",
      "  5.78355055e-01 5.81296664e-01]\n",
      " [4.23395785e-01 5.09610067e-01 1.00306747e-01 9.93946452e-01\n",
      "  5.10464333e-01 5.78305544e-01 9.45939161e-01 6.62765380e-01\n",
      "  9.94877813e-01 3.80984392e-01]\n",
      " [5.30749813e-01 9.52636566e-01 4.06335273e-01 9.00346288e-02\n",
      "  4.51478793e-01 4.66392693e-01 3.26906382e-01 5.55489335e-01\n",
      "  3.74927341e-01 2.34488431e-01]\n",
      " [6.75898122e-02 7.59363940e-01 2.61695563e-02 1.51841557e-01\n",
      "  2.95478890e-01 3.71257661e-01 4.77321776e-01 2.31895016e-01\n",
      "  7.79574416e-01 9.39204351e-01]]\n",
      "[[4.21468485e-08 1.13835847e+00 1.29019309e+00 ... 1.02031737e+00\n",
      "  1.30214906e+00 1.36581565e+00]\n",
      " [1.13835847e+00 0.00000000e+00 1.51734006e+00 ... 1.15174104e+00\n",
      "  1.16398070e+00 1.45752360e+00]\n",
      " [1.29019309e+00 1.51734006e+00 0.00000000e+00 ... 1.40034726e+00\n",
      "  1.02414709e+00 1.34275427e+00]\n",
      " ...\n",
      " [1.02031737e+00 1.15174104e+00 1.40034726e+00 ... 0.00000000e+00\n",
      "  1.39105017e+00 1.32510982e+00]\n",
      " [1.30214906e+00 1.16398070e+00 1.02414709e+00 ... 1.39105017e+00\n",
      "  2.98023224e-08 1.10512717e+00]\n",
      " [1.36581565e+00 1.45752360e+00 1.34275427e+00 ... 1.32510982e+00\n",
      "  1.10512717e+00 0.00000000e+00]]\n"
     ]
    },
    {
     "name": "stderr",
     "output_type": "stream",
     "text": [
      "C:\\Users\\Dawid\\anaconda3\\lib\\site-packages\\ipykernel_launcher.py:7: RuntimeWarning: invalid value encountered in sqrt\n",
      "  import sys\n"
     ]
    }
   ],
   "source": [
    "import numpy as np\n",
    "\n",
    "A = np.random.rand(100,10)\n",
    "print(A)\n",
    "\n",
    "def dist(A):\n",
    "    return np.sqrt(np.sum(A**2, axis=1)+np.sum(A**2, axis=1)[np.newaxis].T-2*np.dot(A,A.T))\n",
    "\n",
    "#print(np.sum(A**2, axis=1)+np.sum(A**2, axis=1)[np.newaxis].T-2*np.dot(A,A.T))\n",
    "print(dist(A))"
   ]
  },
  {
   "cell_type": "markdown",
   "metadata": {},
   "source": [
    "# Zadanie 2\n",
    "\n",
    "Wygeneruj losową tablicę z wielowymiarowego rozkładu normalnego (procedura random.multivariate_normal), która będzie reprezentować 100 punktów w 5 wymiarowej przestrzeni. Napisz funkcję do \"wybielania\" zbioru punktów (zrób to w jednej linijce, bez użycia pętli):\n",
    "\n",
    "$$\n",
    "x_{ij} = \\frac{x_{ij}-\\mu_j}{\\sigma_j},\n",
    "$$\n",
    "\n",
    "gdzie  $μ_j$  to średnia, a  $σ_j$  to odchylenie standardowe po  $j$-tej kolumnie, zaś  $x_{ij}$  to  $j$-ta współrzędna  $i$ -tego wektora.\n",
    "\n",
    "Policz średnią i macierz kowariancji tak przekształconych danych. Co zaobserwowałeś/zaobserwowałaś?"
   ]
  },
  {
   "cell_type": "code",
   "execution_count": null,
   "metadata": {},
   "outputs": [],
   "source": []
  },
  {
   "cell_type": "markdown",
   "metadata": {},
   "source": [
    "# Zadanie 3\n",
    "\n",
    "Wypełni 100-elementową tablicę liczbami losowymi naturalnymi z zakresu  $[5,15]$  i policz liczbę wystąpień tych liczb. Która z tych liczb najczęściej występuje w tak wygenerowanej tablicy?\n",
    "Wskazówka: zobacz funkcje: bincount, argmax."
   ]
  },
  {
   "cell_type": "code",
   "execution_count": 29,
   "metadata": {},
   "outputs": [
    {
     "name": "stdout",
     "output_type": "stream",
     "text": [
      "[ 5 10  5 11 11  9 10  7 13 11  5  5 13  7 13 10  6  7 14 15 12  6  9  6\n",
      " 12 11 10  7  6 10 12 11 11  5  7 10  5 13 12  5  5 13 14 12  7 12 14 15\n",
      "  6 10 10  6 14 12 15 15 11  5 10 10 13  9 10 14 10 14  5 12  6  8 13  5\n",
      "  9 13 10 13  9  5  8 13  6 12 10 15  8 10 10 11  7 11  6  6  5  9  6  7\n",
      "  5  6  6 11]\n",
      "[ 0  0  0  0  0 14 13  8  3  6 16 10  9 10  6  5]\n",
      "10\n"
     ]
    }
   ],
   "source": [
    "import numpy as np\n",
    "\n",
    "x = np.random.randint(5,16, size=(1,100))\n",
    "x = x.reshape(-1)\n",
    "print(x, end='\\n')\n",
    "\n",
    "n = np.bincount(x)\n",
    "print(n, end='\\n')\n",
    "\n",
    "k = np.argmax(n)\n",
    "print(k)"
   ]
  },
  {
   "cell_type": "markdown",
   "metadata": {},
   "source": [
    "# Zadanie 4\n",
    "\n",
    "Korzystając z poniższego kodu zaimportuj dane **breast cancer** (z bilboteki **sklearn.datasets**), który składa się z 2 elementów: macierzy  $X$  o wymiarach 569 x 30 oraz wektora  $y$ o długości 569. Macierz  $X$  opisuje badania 683 pacjentów, a wektor  $y$  ich diagnozy."
   ]
  },
  {
   "cell_type": "code",
   "execution_count": 30,
   "metadata": {},
   "outputs": [
    {
     "name": "stdout",
     "output_type": "stream",
     "text": [
      "(569, 30)\n",
      "(569,)\n"
     ]
    }
   ],
   "source": [
    "from sklearn.datasets import load_breast_cancer\n",
    "X, y  = load_breast_cancer(return_X_y=True)\n",
    "print(X.shape)\n",
    "print(y.shape)"
   ]
  },
  {
   "cell_type": "markdown",
   "metadata": {},
   "source": [
    "Za pomocą biblioteki **numpy** przenumeruj wektor  $y$ zamieniając wartości $0$ i $1$ na $-1$ i $+1$. Przeskaluj macierz  $X$ , tak żeby wartości w każdej kolumnie mieściły się w zakresie  $[0,1]$ , innymi słowy przeskaluj niezależnie każdą kolumnę  $X_i$  według poniższej procedury: \n",
    "\n",
    "$$\n",
    "X_i=\\frac{X_i-min(X_i)}{max(X_i)-min(X_i)}.\n",
    "$$"
   ]
  },
  {
   "cell_type": "code",
   "execution_count": 31,
   "metadata": {},
   "outputs": [
    {
     "name": "stdout",
     "output_type": "stream",
     "text": [
      "[[8.90731162e-03 5.13810739e-03 6.08193084e-02 ... 1.28384247e-04\n",
      "  2.24818421e-04 5.58233510e-05]\n",
      " [1.05145732e-02 9.08307775e-03 6.79431022e-02 ... 9.32864670e-05\n",
      "  1.38787572e-04 4.37056004e-05]\n",
      " [1.15187137e-02 1.24315306e-02 7.60654047e-02 ... 1.39514124e-04\n",
      "  2.08736076e-04 4.85718093e-05]\n",
      " ...\n",
      " [1.66000000e+01 2.80800000e+01 1.08300000e+02 ... 1.41800000e-01\n",
      "  2.21800000e-01 7.82000000e-02]\n",
      " [2.06000000e+01 2.93300000e+01 1.40100000e+02 ... 2.65000000e-01\n",
      "  4.08700000e-01 1.24000000e-01]\n",
      " [7.76000000e+00 2.45400000e+01 4.79200000e+01 ... 0.00000000e+00\n",
      "  2.87100000e-01 7.03900000e-02]]\n"
     ]
    }
   ],
   "source": [
    "import numpy as np\n",
    "y = 2*y-1\n",
    "#print(y)\n",
    "\n",
    "def rescale(A):\n",
    "    for i in range(A.shape[1]):\n",
    "        A[i] = (A[i]-np.min(A[i]))/(np.max(A[i])-np.min(A[i]))\n",
    "        \n",
    "    return A\n",
    "\n",
    "X = rescale(X)\n",
    "print(X)"
   ]
  },
  {
   "cell_type": "markdown",
   "metadata": {},
   "source": [
    "# Biblioteka Pandas\n",
    "\n",
    "**Pandas** jest darmową biblioteką języka Python, która służy do analizy danych. Zawiera łatwe w użyciu struktury i narzędzia do analizy danych spotykane w języku R.\n",
    "\n",
    "Biblioteka ta pozwala między innymi na:\n",
    "  \n",
    "  * tworzenie własnych danych w odpowiednich strukturach,\n",
    "  * importowanie i eksportowanie danych do różnych plików,\n",
    "  * przygotowanie danych do analizy (pozbycie się anomalii w danych, np. brakujących wartości),\n",
    "  * analizę danych,\n",
    "  * prezentację danych.\n",
    "\n",
    "Do instalacji tej biblioteki(jeśli jest taka potrzeba) można użyć procedury **pip** albo **conda** http://pandas.pydata.org/pandas-docs/stable/install.html"
   ]
  },
  {
   "cell_type": "markdown",
   "metadata": {},
   "source": [
    "Aby skorzystać z biblioteki pandas należy ją wcześniej zaimportować, np.:"
   ]
  },
  {
   "cell_type": "code",
   "execution_count": 32,
   "metadata": {},
   "outputs": [
    {
     "name": "stdout",
     "output_type": "stream",
     "text": [
      "1.0.1\n"
     ]
    }
   ],
   "source": [
    "# import pandas\n",
    "import pandas as pd\n",
    "\n",
    "print(pd.__version__) # wersja biblioteki\n",
    "%matplotlib inline"
   ]
  },
  {
   "cell_type": "markdown",
   "metadata": {},
   "source": [
    "## Struktury danych\n",
    "\n",
    "Biblioteka pandas wprowadza dwie nowe struktury danych do Pythona: **Series** i **DataFrame**.\n",
    "\n",
    "1. **Serie**\n",
    "\n",
    "Seria to jednowymiarowy obiekt podobny do tablicy, listy, który może zawierać różnego rodzaju dane (liczby całkowite, zmiennoprzecinkowe, ciągi, obiekty Pythona, itd.). Każdy element serii ma przypisany indeks/etykietę (domyślnie od 0 do N, gdzie N jest długość serii minus 1)."
   ]
  },
  {
   "cell_type": "code",
   "execution_count": 33,
   "metadata": {},
   "outputs": [
    {
     "name": "stdout",
     "output_type": "stream",
     "text": [
      "0                7\n",
      "1       Heisenberg\n",
      "2             3.14\n",
      "3      -1789710578\n",
      "4    Happy Eating!\n",
      "dtype: object\n"
     ]
    }
   ],
   "source": [
    "from pandas import Series, DataFrame\n",
    "\n",
    "s = pd.Series([7, 'Heisenberg', 3.14, -1789710578, 'Happy Eating!'])\n",
    "print(s)"
   ]
  },
  {
   "cell_type": "markdown",
   "metadata": {},
   "source": [
    "Alternatywnie, można zdefiniować indeksy elementów serii w trakcje jej definicji:"
   ]
  },
  {
   "cell_type": "code",
   "execution_count": 34,
   "metadata": {},
   "outputs": [
    {
     "name": "stdout",
     "output_type": "stream",
     "text": [
      "a    0.195515\n",
      "b    0.127387\n",
      "c    0.171585\n",
      "i    0.541975\n",
      "e    0.397353\n",
      "dtype: float64\n"
     ]
    }
   ],
   "source": [
    "import numpy as np\n",
    "\n",
    "# Series(dane, index=indeks)\n",
    "s = Series(np.random.randn(5), index=['a', 'b', 'c', 'i', 'e'])\n",
    "print(s)\n",
    "\n"
   ]
  },
  {
   "cell_type": "markdown",
   "metadata": {},
   "source": [
    "Konstruktor **Series** może przetwarzać słowniki Pythona:"
   ]
  },
  {
   "cell_type": "code",
   "execution_count": 35,
   "metadata": {},
   "outputs": [
    {
     "name": "stdout",
     "output_type": "stream",
     "text": [
      "a    0.0\n",
      "b    1.0\n",
      "d    2.0\n",
      "dtype: float64\n"
     ]
    }
   ],
   "source": [
    "d = {'a' : 0., 'b' : 1., 'd' : 2.}\n",
    "print(Series(d))"
   ]
  },
  {
   "cell_type": "code",
   "execution_count": 36,
   "metadata": {},
   "outputs": [
    {
     "name": "stdout",
     "output_type": "stream",
     "text": [
      "b    1.0\n",
      "c    NaN\n",
      "d    2.0\n",
      "a    0.0\n",
      "dtype: float64\n"
     ]
    }
   ],
   "source": [
    "print(Series(d, index=['b', 'c', 'd', 'a']))"
   ]
  },
  {
   "cell_type": "code",
   "execution_count": 37,
   "metadata": {},
   "outputs": [
    {
     "name": "stdout",
     "output_type": "stream",
     "text": [
      "a    1\n",
      "b    1\n",
      "c    1\n",
      "d    1\n",
      "e    1\n",
      "dtype: int64 \n",
      "\n",
      "a    1.0\n",
      "b    1.0\n",
      "c    1.0\n",
      "d    1.0\n",
      "e    1.0\n",
      "dtype: float64\n"
     ]
    }
   ],
   "source": [
    "print(Series(1, index=['a', 'b', 'c', 'd', 'e']), '\\n')\n",
    "print(Series(1., index=['a', 'b', 'c', 'd', 'e']))"
   ]
  },
  {
   "cell_type": "markdown",
   "metadata": {},
   "source": [
    "## 1.1 Odwoływanie się do elementów serii\n",
    "\n",
    "Struktura Series działa jak tablica. Można odwołać się do poszczególnego elementu serii za pomocą indeksu, używać logicznego indeksowania, itd.:"
   ]
  },
  {
   "cell_type": "code",
   "execution_count": 38,
   "metadata": {},
   "outputs": [
    {
     "name": "stdout",
     "output_type": "stream",
     "text": [
      "a   -0.613529\n",
      "b   -0.164809\n",
      "c    1.587241\n",
      "i    0.311596\n",
      "e    0.149845\n",
      "dtype: float64 \n",
      "\n",
      "-0.6135286662830914 0.3115957640090581\n",
      "0.3115957640090581\n",
      "0.3115957640090581\n"
     ]
    }
   ],
   "source": [
    "s = Series(np.random.randn(5), index=['a', 'b', 'c', 'i', 'e'])\n",
    "print(s, '\\n')\n",
    "\n",
    "print(s[0], s[3])\n",
    "print(s.i) #można również użyć etykiety\n",
    "print(s['i'])# lub"
   ]
  },
  {
   "cell_type": "code",
   "execution_count": 39,
   "metadata": {},
   "outputs": [
    {
     "name": "stdout",
     "output_type": "stream",
     "text": [
      "c    1.587241\n",
      "dtype: float64 \n",
      "\n",
      "c    1.587241\n",
      "i    0.311596\n",
      "dtype: float64\n"
     ]
    }
   ],
   "source": [
    "print(s[s > 0.5], '\\n')\n",
    "print(s[s > s.mean()])"
   ]
  },
  {
   "cell_type": "markdown",
   "metadata": {},
   "source": [
    "## 1.2 Zmiana wartości wybranych elementów"
   ]
  },
  {
   "cell_type": "code",
   "execution_count": 40,
   "metadata": {},
   "outputs": [
    {
     "name": "stdout",
     "output_type": "stream",
     "text": [
      "a    0.431338\n",
      "b    0.794483\n",
      "c    0.684265\n",
      "i    0.763116\n",
      "e   -0.382689\n",
      "dtype: float64 \n",
      "\n",
      "stara wartosc: 0.4313375022965443\n",
      "nowa wartosc: 10.0 \n",
      "\n",
      "stara wartosc: 0.7944833473640441\n",
      "nowa wartosc: 15.0\n"
     ]
    }
   ],
   "source": [
    "s = Series(np.random.randn(5), index=['a', 'b', 'c', 'i', 'e'])\n",
    "print(s, '\\n')\n",
    "print(\"stara wartosc:\",  s[0])\n",
    "s[0] = 10. \n",
    "print(\"nowa wartosc:\",  s[0], '\\n')\n",
    "\n",
    "print(\"stara wartosc:\",  s['b'])\n",
    "s['b'] = 15. \n",
    "print(\"nowa wartosc:\",  s['b'])"
   ]
  },
  {
   "cell_type": "code",
   "execution_count": 41,
   "metadata": {},
   "outputs": [
    {
     "name": "stdout",
     "output_type": "stream",
     "text": [
      "stare:\n",
      " a   -0.159225\n",
      "b    0.779033\n",
      "c    0.191872\n",
      "i   -1.604458\n",
      "e   -1.043916\n",
      "dtype: float64 \n",
      "\n",
      "nowe:\n",
      " a   -0.159225\n",
      "b    0.779033\n",
      "c    0.191872\n",
      "i    1.000000\n",
      "e    1.000000\n",
      "dtype: float64\n"
     ]
    }
   ],
   "source": [
    "s = Series(np.random.randn(5), index=['a', 'b', 'c', 'i', 'e'])\n",
    "print(\"stare:\\n\",  s, '\\n')\n",
    "s[s < s.mean()] = 1\n",
    "print(\"nowe:\\n\",  s)"
   ]
  },
  {
   "cell_type": "markdown",
   "metadata": {},
   "source": [
    "## 1.5 Niezdefiniowane wartości, obiekty"
   ]
  },
  {
   "cell_type": "code",
   "execution_count": 42,
   "metadata": {},
   "outputs": [
    {
     "name": "stdout",
     "output_type": "stream",
     "text": [
      "Chicago          1000.0\n",
      "New York         1300.0\n",
      "Portland          900.0\n",
      "San Francisco    1100.0\n",
      "Austin            450.0\n",
      "Boston              NaN\n",
      "dtype: float64 \n",
      "\n",
      "False\n",
      "True\n"
     ]
    }
   ],
   "source": [
    "cities = Series({'Chicago': 1000, 'New York': 1300, 'Portland': 900,\n",
    "                 'San Francisco': 1100, 'Austin': 450, 'Boston': None})\n",
    "print(cities, '\\n')\n",
    "\n",
    "print('Seattle' in cities)\n",
    "print('San Francisco' in cities)"
   ]
  },
  {
   "cell_type": "code",
   "execution_count": 43,
   "metadata": {},
   "outputs": [
    {
     "name": "stdout",
     "output_type": "stream",
     "text": [
      "Chicago          1000.0\n",
      "New York         1300.0\n",
      "Portland          900.0\n",
      "San Francisco    1100.0\n",
      "Austin            450.0\n",
      "Boston              NaN\n",
      "dtype: float64 \n",
      "\n",
      "Chicago           True\n",
      "New York          True\n",
      "Portland          True\n",
      "San Francisco     True\n",
      "Austin            True\n",
      "Boston           False\n",
      "dtype: bool\n"
     ]
    }
   ],
   "source": [
    "print(cities, '\\n')\n",
    "print(cities.notnull()) # które są zdefiniowane"
   ]
  },
  {
   "cell_type": "code",
   "execution_count": 44,
   "metadata": {},
   "outputs": [
    {
     "name": "stdout",
     "output_type": "stream",
     "text": [
      "Chicago          False\n",
      "New York         False\n",
      "Portland         False\n",
      "San Francisco    False\n",
      "Austin           False\n",
      "Boston            True\n",
      "dtype: bool\n"
     ]
    }
   ],
   "source": [
    "print(cities.isnull()) # które nie są zdefiniowane"
   ]
  },
  {
   "cell_type": "code",
   "execution_count": 45,
   "metadata": {},
   "outputs": [
    {
     "name": "stdout",
     "output_type": "stream",
     "text": [
      "Boston   NaN\n",
      "dtype: float64\n",
      "\n",
      "Chicago          False\n",
      "New York         False\n",
      "Portland         False\n",
      "San Francisco    False\n",
      "Austin           False\n",
      "Boston           False\n",
      "dtype: bool\n",
      "\n",
      "Chicago          1000.0\n",
      "New York         1300.0\n",
      "Portland          900.0\n",
      "San Francisco    1100.0\n",
      "Austin            450.0\n",
      "Boston              1.0\n",
      "dtype: float64\n"
     ]
    }
   ],
   "source": [
    "print(cities[cities.isnull()]) # tylko te które nie są zdefiniowane \n",
    "cities[cities.isnull()] = 1\n",
    "print() \n",
    "print(cities.isnull())\n",
    "print()\n",
    "print(cities)"
   ]
  },
  {
   "cell_type": "markdown",
   "metadata": {},
   "source": [
    "# 2. DataFrame\n",
    "\n",
    "<i>DataFrame</i> to struktura danych składa się z wierszy i kolumn, podobna do arkusza kalkulacyjnego, baz danych, tabeli 2-wymiarowej lub data.frame obiektu z języka R.\n",
    "\n",
    "Poniżej przedstawiam kilka sposobów definiowania struktury DataFrame:\n",
    "\n",
    "  * ze słownika list/tablic"
   ]
  },
  {
   "cell_type": "code",
   "execution_count": 46,
   "metadata": {},
   "outputs": [
    {
     "name": "stdout",
     "output_type": "stream",
     "text": [
      "   one  two\n",
      "0  1.0  4.0\n",
      "1  2.0  3.0\n",
      "2  3.0  2.0\n",
      "3  4.0  1.0\n"
     ]
    },
    {
     "data": {
      "text/html": [
       "<div>\n",
       "<style scoped>\n",
       "    .dataframe tbody tr th:only-of-type {\n",
       "        vertical-align: middle;\n",
       "    }\n",
       "\n",
       "    .dataframe tbody tr th {\n",
       "        vertical-align: top;\n",
       "    }\n",
       "\n",
       "    .dataframe thead th {\n",
       "        text-align: right;\n",
       "    }\n",
       "</style>\n",
       "<table border=\"1\" class=\"dataframe\">\n",
       "  <thead>\n",
       "    <tr style=\"text-align: right;\">\n",
       "      <th></th>\n",
       "      <th>one</th>\n",
       "      <th>two</th>\n",
       "    </tr>\n",
       "  </thead>\n",
       "  <tbody>\n",
       "    <tr>\n",
       "      <th>0</th>\n",
       "      <td>1.0</td>\n",
       "      <td>4.0</td>\n",
       "    </tr>\n",
       "    <tr>\n",
       "      <th>1</th>\n",
       "      <td>2.0</td>\n",
       "      <td>3.0</td>\n",
       "    </tr>\n",
       "    <tr>\n",
       "      <th>2</th>\n",
       "      <td>3.0</td>\n",
       "      <td>2.0</td>\n",
       "    </tr>\n",
       "    <tr>\n",
       "      <th>3</th>\n",
       "      <td>4.0</td>\n",
       "      <td>1.0</td>\n",
       "    </tr>\n",
       "  </tbody>\n",
       "</table>\n",
       "</div>"
      ],
      "text/plain": [
       "   one  two\n",
       "0  1.0  4.0\n",
       "1  2.0  3.0\n",
       "2  3.0  2.0\n",
       "3  4.0  1.0"
      ]
     },
     "execution_count": 46,
     "metadata": {},
     "output_type": "execute_result"
    }
   ],
   "source": [
    "d = {'one' : [1., 2., 3., 4.],\n",
    "     'two' : [4., 3., 2., 1.]}\n",
    "print(DataFrame(d))\n",
    "DataFrame(d)"
   ]
  },
  {
   "cell_type": "code",
   "execution_count": 47,
   "metadata": {},
   "outputs": [
    {
     "data": {
      "text/html": [
       "<div>\n",
       "<style scoped>\n",
       "    .dataframe tbody tr th:only-of-type {\n",
       "        vertical-align: middle;\n",
       "    }\n",
       "\n",
       "    .dataframe tbody tr th {\n",
       "        vertical-align: top;\n",
       "    }\n",
       "\n",
       "    .dataframe thead th {\n",
       "        text-align: right;\n",
       "    }\n",
       "</style>\n",
       "<table border=\"1\" class=\"dataframe\">\n",
       "  <thead>\n",
       "    <tr style=\"text-align: right;\">\n",
       "      <th></th>\n",
       "      <th>year</th>\n",
       "      <th>team</th>\n",
       "      <th>wins</th>\n",
       "      <th>losses</th>\n",
       "    </tr>\n",
       "  </thead>\n",
       "  <tbody>\n",
       "    <tr>\n",
       "      <th>0</th>\n",
       "      <td>2010</td>\n",
       "      <td>Bears</td>\n",
       "      <td>11</td>\n",
       "      <td>5</td>\n",
       "    </tr>\n",
       "    <tr>\n",
       "      <th>1</th>\n",
       "      <td>2011</td>\n",
       "      <td>Bears</td>\n",
       "      <td>8</td>\n",
       "      <td>8</td>\n",
       "    </tr>\n",
       "    <tr>\n",
       "      <th>2</th>\n",
       "      <td>2012</td>\n",
       "      <td>Bears</td>\n",
       "      <td>10</td>\n",
       "      <td>6</td>\n",
       "    </tr>\n",
       "    <tr>\n",
       "      <th>3</th>\n",
       "      <td>2011</td>\n",
       "      <td>Packers</td>\n",
       "      <td>15</td>\n",
       "      <td>1</td>\n",
       "    </tr>\n",
       "    <tr>\n",
       "      <th>4</th>\n",
       "      <td>2012</td>\n",
       "      <td>Packers</td>\n",
       "      <td>11</td>\n",
       "      <td>5</td>\n",
       "    </tr>\n",
       "    <tr>\n",
       "      <th>5</th>\n",
       "      <td>2010</td>\n",
       "      <td>Lions</td>\n",
       "      <td>6</td>\n",
       "      <td>10</td>\n",
       "    </tr>\n",
       "    <tr>\n",
       "      <th>6</th>\n",
       "      <td>2011</td>\n",
       "      <td>Lions</td>\n",
       "      <td>10</td>\n",
       "      <td>6</td>\n",
       "    </tr>\n",
       "    <tr>\n",
       "      <th>7</th>\n",
       "      <td>2012</td>\n",
       "      <td>Lions</td>\n",
       "      <td>4</td>\n",
       "      <td>12</td>\n",
       "    </tr>\n",
       "  </tbody>\n",
       "</table>\n",
       "</div>"
      ],
      "text/plain": [
       "   year     team  wins  losses\n",
       "0  2010    Bears    11       5\n",
       "1  2011    Bears     8       8\n",
       "2  2012    Bears    10       6\n",
       "3  2011  Packers    15       1\n",
       "4  2012  Packers    11       5\n",
       "5  2010    Lions     6      10\n",
       "6  2011    Lions    10       6\n",
       "7  2012    Lions     4      12"
      ]
     },
     "execution_count": 47,
     "metadata": {},
     "output_type": "execute_result"
    }
   ],
   "source": [
    "data = {'year': [2010, 2011, 2012, 2011, 2012, 2010, 2011, 2012],\n",
    "        'team': ['Bears', 'Bears', 'Bears', 'Packers', 'Packers', 'Lions', 'Lions', 'Lions'],\n",
    "        'wins': [11, 8, 10, 15, 11, 6, 10, 4],\n",
    "        'losses': [5, 8, 6, 1, 5, 10, 6, 12]}\n",
    "football = pd.DataFrame(data, columns=['year', 'team', 'wins', 'losses'])\n",
    "football = pd.DataFrame(data) #lub\n",
    "football\n"
   ]
  },
  {
   "cell_type": "markdown",
   "metadata": {},
   "source": [
    "## 2.1 Podstawowe informacje\n",
    "Biblioteka pandas ma wiele funkcji, które dostarczają nam podstawowej informacji na DataFrame. Jedną z takich funkcji jest metoda **info**."
   ]
  },
  {
   "cell_type": "code",
   "execution_count": 48,
   "metadata": {},
   "outputs": [
    {
     "name": "stdout",
     "output_type": "stream",
     "text": [
      "<class 'pandas.core.frame.DataFrame'>\n",
      "RangeIndex: 2 entries, 0 to 1\n",
      "Data columns (total 3 columns):\n",
      " #   Column  Non-Null Count  Dtype  \n",
      "---  ------  --------------  -----  \n",
      " 0   a       2 non-null      int64  \n",
      " 1   b       2 non-null      int64  \n",
      " 2   c       1 non-null      float64\n",
      "dtypes: float64(1), int64(2)\n",
      "memory usage: 176.0 bytes\n"
     ]
    }
   ],
   "source": [
    "data = [{'a': 1, 'b': 2}, \n",
    "         {'a': 5, 'b': 10, 'c': 20}]\n",
    "df = DataFrame(data)\n",
    "df.info()"
   ]
  },
  {
   "cell_type": "markdown",
   "metadata": {},
   "source": [
    "## 2.2 Wybieranie rekordów, kolumn, elementów\n",
    "\n",
    "Jak już wspomniałem strukturę DataFrame możemy traktować jako grupę/tablicę serii, które dzielą indeks (w tym przypadku nagłówki kolumn). Dzięki temu możemy w łatwy sposób wybrać konkretne rekordy."
   ]
  },
  {
   "cell_type": "code",
   "execution_count": 49,
   "metadata": {},
   "outputs": [
    {
     "name": "stdout",
     "output_type": "stream",
     "text": [
      "   year     team  wins  losses\n",
      "0  2010    Bears    11       5\n",
      "1  2011    Bears     8       8\n",
      "2  2012    Bears    10       6\n",
      "3  2011  Packers    15       1\n",
      "4  2012  Packers    11       5\n",
      "5  2010    Lions     6      10\n",
      "6  2011    Lions    10       6\n",
      "7  2012    Lions     4      12\n"
     ]
    },
    {
     "data": {
      "text/html": [
       "<div>\n",
       "<style scoped>\n",
       "    .dataframe tbody tr th:only-of-type {\n",
       "        vertical-align: middle;\n",
       "    }\n",
       "\n",
       "    .dataframe tbody tr th {\n",
       "        vertical-align: top;\n",
       "    }\n",
       "\n",
       "    .dataframe thead th {\n",
       "        text-align: right;\n",
       "    }\n",
       "</style>\n",
       "<table border=\"1\" class=\"dataframe\">\n",
       "  <thead>\n",
       "    <tr style=\"text-align: right;\">\n",
       "      <th></th>\n",
       "      <th>year</th>\n",
       "      <th>team</th>\n",
       "      <th>wins</th>\n",
       "      <th>losses</th>\n",
       "    </tr>\n",
       "  </thead>\n",
       "  <tbody>\n",
       "    <tr>\n",
       "      <th>0</th>\n",
       "      <td>2010</td>\n",
       "      <td>Bears</td>\n",
       "      <td>11</td>\n",
       "      <td>5</td>\n",
       "    </tr>\n",
       "    <tr>\n",
       "      <th>1</th>\n",
       "      <td>2011</td>\n",
       "      <td>Bears</td>\n",
       "      <td>8</td>\n",
       "      <td>8</td>\n",
       "    </tr>\n",
       "    <tr>\n",
       "      <th>2</th>\n",
       "      <td>2012</td>\n",
       "      <td>Bears</td>\n",
       "      <td>10</td>\n",
       "      <td>6</td>\n",
       "    </tr>\n",
       "  </tbody>\n",
       "</table>\n",
       "</div>"
      ],
      "text/plain": [
       "   year   team  wins  losses\n",
       "0  2010  Bears    11       5\n",
       "1  2011  Bears     8       8\n",
       "2  2012  Bears    10       6"
      ]
     },
     "execution_count": 49,
     "metadata": {},
     "output_type": "execute_result"
    }
   ],
   "source": [
    "data = {'year': [2010, 2011, 2012, 2011, 2012, 2010, 2011, 2012],\n",
    "        'team': ['Bears', 'Bears', 'Bears', 'Packers', 'Packers', 'Lions', 'Lions', 'Lions'],\n",
    "        'wins': [11, 8, 10, 15, 11, 6, 10, 4],\n",
    "        'losses': [5, 8, 6, 1, 5, 10, 6, 12]}\n",
    "football = pd.DataFrame(data, columns=['year', 'team', 'wins', 'losses'])\n",
    "print (football)\n",
    "\n",
    "football.head(3)"
   ]
  },
  {
   "cell_type": "code",
   "execution_count": 50,
   "metadata": {},
   "outputs": [
    {
     "data": {
      "text/plain": [
       "0    2010\n",
       "1    2011\n",
       "2    2012\n",
       "3    2011\n",
       "Name: year, dtype: int64"
      ]
     },
     "execution_count": 50,
     "metadata": {},
     "output_type": "execute_result"
    }
   ],
   "source": [
    "football['year'].head(4)"
   ]
  },
  {
   "cell_type": "code",
   "execution_count": 51,
   "metadata": {},
   "outputs": [
    {
     "data": {
      "text/html": [
       "<div>\n",
       "<style scoped>\n",
       "    .dataframe tbody tr th:only-of-type {\n",
       "        vertical-align: middle;\n",
       "    }\n",
       "\n",
       "    .dataframe tbody tr th {\n",
       "        vertical-align: top;\n",
       "    }\n",
       "\n",
       "    .dataframe thead th {\n",
       "        text-align: right;\n",
       "    }\n",
       "</style>\n",
       "<table border=\"1\" class=\"dataframe\">\n",
       "  <thead>\n",
       "    <tr style=\"text-align: right;\">\n",
       "      <th></th>\n",
       "      <th>year</th>\n",
       "      <th>team</th>\n",
       "      <th>wins</th>\n",
       "      <th>losses</th>\n",
       "    </tr>\n",
       "  </thead>\n",
       "  <tbody>\n",
       "    <tr>\n",
       "      <th>5</th>\n",
       "      <td>2010</td>\n",
       "      <td>Lions</td>\n",
       "      <td>6</td>\n",
       "      <td>10</td>\n",
       "    </tr>\n",
       "    <tr>\n",
       "      <th>6</th>\n",
       "      <td>2011</td>\n",
       "      <td>Lions</td>\n",
       "      <td>10</td>\n",
       "      <td>6</td>\n",
       "    </tr>\n",
       "    <tr>\n",
       "      <th>7</th>\n",
       "      <td>2012</td>\n",
       "      <td>Lions</td>\n",
       "      <td>4</td>\n",
       "      <td>12</td>\n",
       "    </tr>\n",
       "  </tbody>\n",
       "</table>\n",
       "</div>"
      ],
      "text/plain": [
       "   year   team  wins  losses\n",
       "5  2010  Lions     6      10\n",
       "6  2011  Lions    10       6\n",
       "7  2012  Lions     4      12"
      ]
     },
     "execution_count": 51,
     "metadata": {},
     "output_type": "execute_result"
    }
   ],
   "source": [
    "football.tail(3)"
   ]
  },
  {
   "cell_type": "markdown",
   "metadata": {},
   "source": [
    "Możemy też modyfikować DataFrame na podstawie wybranej kolumny."
   ]
  },
  {
   "cell_type": "code",
   "execution_count": 52,
   "metadata": {},
   "outputs": [
    {
     "data": {
      "text/html": [
       "<div>\n",
       "<style scoped>\n",
       "    .dataframe tbody tr th:only-of-type {\n",
       "        vertical-align: middle;\n",
       "    }\n",
       "\n",
       "    .dataframe tbody tr th {\n",
       "        vertical-align: top;\n",
       "    }\n",
       "\n",
       "    .dataframe thead th {\n",
       "        text-align: right;\n",
       "    }\n",
       "</style>\n",
       "<table border=\"1\" class=\"dataframe\">\n",
       "  <thead>\n",
       "    <tr style=\"text-align: right;\">\n",
       "      <th></th>\n",
       "      <th>year</th>\n",
       "      <th>wins</th>\n",
       "      <th>losses</th>\n",
       "    </tr>\n",
       "    <tr>\n",
       "      <th>team</th>\n",
       "      <th></th>\n",
       "      <th></th>\n",
       "      <th></th>\n",
       "    </tr>\n",
       "  </thead>\n",
       "  <tbody>\n",
       "    <tr>\n",
       "      <th>Bears</th>\n",
       "      <td>2010</td>\n",
       "      <td>11</td>\n",
       "      <td>5</td>\n",
       "    </tr>\n",
       "    <tr>\n",
       "      <th>Bears</th>\n",
       "      <td>2011</td>\n",
       "      <td>8</td>\n",
       "      <td>8</td>\n",
       "    </tr>\n",
       "    <tr>\n",
       "      <th>Bears</th>\n",
       "      <td>2012</td>\n",
       "      <td>10</td>\n",
       "      <td>6</td>\n",
       "    </tr>\n",
       "    <tr>\n",
       "      <th>Packers</th>\n",
       "      <td>2011</td>\n",
       "      <td>15</td>\n",
       "      <td>1</td>\n",
       "    </tr>\n",
       "    <tr>\n",
       "      <th>Packers</th>\n",
       "      <td>2012</td>\n",
       "      <td>11</td>\n",
       "      <td>5</td>\n",
       "    </tr>\n",
       "    <tr>\n",
       "      <th>Lions</th>\n",
       "      <td>2010</td>\n",
       "      <td>6</td>\n",
       "      <td>10</td>\n",
       "    </tr>\n",
       "    <tr>\n",
       "      <th>Lions</th>\n",
       "      <td>2011</td>\n",
       "      <td>10</td>\n",
       "      <td>6</td>\n",
       "    </tr>\n",
       "    <tr>\n",
       "      <th>Lions</th>\n",
       "      <td>2012</td>\n",
       "      <td>4</td>\n",
       "      <td>12</td>\n",
       "    </tr>\n",
       "  </tbody>\n",
       "</table>\n",
       "</div>"
      ],
      "text/plain": [
       "         year  wins  losses\n",
       "team                       \n",
       "Bears    2010    11       5\n",
       "Bears    2011     8       8\n",
       "Bears    2012    10       6\n",
       "Packers  2011    15       1\n",
       "Packers  2012    11       5\n",
       "Lions    2010     6      10\n",
       "Lions    2011    10       6\n",
       "Lions    2012     4      12"
      ]
     },
     "execution_count": 52,
     "metadata": {},
     "output_type": "execute_result"
    }
   ],
   "source": [
    "football.set_index('team')"
   ]
  },
  {
   "cell_type": "markdown",
   "metadata": {},
   "source": [
    "Aby wybrać którąś z kolumn należy użyć jej nazwy:"
   ]
  },
  {
   "cell_type": "code",
   "execution_count": 53,
   "metadata": {},
   "outputs": [
    {
     "name": "stdout",
     "output_type": "stream",
     "text": [
      "   year     team  wins  losses\n",
      "0  2010    Bears    11       5\n",
      "1  2011    Bears     8       8\n",
      "2  2012    Bears    10       6\n",
      "3  2011  Packers    15       1\n",
      "4  2012  Packers    11       5\n",
      "5  2010    Lions     6      10\n",
      "6  2011    Lions    10       6\n",
      "7  2012    Lions     4      12\n"
     ]
    },
    {
     "data": {
      "text/plain": [
       "0    2010\n",
       "1    2011\n",
       "2    2012\n",
       "3    2011\n",
       "4    2012\n",
       "5    2010\n",
       "6    2011\n",
       "7    2012\n",
       "Name: year, dtype: int64"
      ]
     },
     "execution_count": 53,
     "metadata": {},
     "output_type": "execute_result"
    }
   ],
   "source": [
    "data = {'year': [2010, 2011, 2012, 2011, 2012, 2010, 2011, 2012],\n",
    "        'team': ['Bears', 'Bears', 'Bears', 'Packers', 'Packers', 'Lions', 'Lions', 'Lions'],\n",
    "        'wins': [11, 8, 10, 15, 11, 6, 10, 4],\n",
    "        'losses': [5, 8, 6, 1, 5, 10, 6, 12]}\n",
    "football = pd.DataFrame(data, columns=['year', 'team', 'wins', 'losses'])\n",
    "print(football)\n",
    "\n",
    "football['year'] # wybieramy kolumnę 'year'"
   ]
  },
  {
   "cell_type": "code",
   "execution_count": 54,
   "metadata": {},
   "outputs": [
    {
     "data": {
      "text/plain": [
       "0    2010\n",
       "1    2011\n",
       "2    2012\n",
       "3    2011\n",
       "4    2012\n",
       "5    2010\n",
       "6    2011\n",
       "7    2012\n",
       "Name: year, dtype: int64"
      ]
     },
     "execution_count": 54,
     "metadata": {},
     "output_type": "execute_result"
    }
   ],
   "source": [
    "football.year"
   ]
  },
  {
   "cell_type": "code",
   "execution_count": 55,
   "metadata": {},
   "outputs": [
    {
     "data": {
      "text/html": [
       "<div>\n",
       "<style scoped>\n",
       "    .dataframe tbody tr th:only-of-type {\n",
       "        vertical-align: middle;\n",
       "    }\n",
       "\n",
       "    .dataframe tbody tr th {\n",
       "        vertical-align: top;\n",
       "    }\n",
       "\n",
       "    .dataframe thead th {\n",
       "        text-align: right;\n",
       "    }\n",
       "</style>\n",
       "<table border=\"1\" class=\"dataframe\">\n",
       "  <thead>\n",
       "    <tr style=\"text-align: right;\">\n",
       "      <th></th>\n",
       "      <th>year</th>\n",
       "      <th>wins</th>\n",
       "    </tr>\n",
       "  </thead>\n",
       "  <tbody>\n",
       "    <tr>\n",
       "      <th>0</th>\n",
       "      <td>2010</td>\n",
       "      <td>11</td>\n",
       "    </tr>\n",
       "    <tr>\n",
       "      <th>1</th>\n",
       "      <td>2011</td>\n",
       "      <td>8</td>\n",
       "    </tr>\n",
       "    <tr>\n",
       "      <th>2</th>\n",
       "      <td>2012</td>\n",
       "      <td>10</td>\n",
       "    </tr>\n",
       "    <tr>\n",
       "      <th>3</th>\n",
       "      <td>2011</td>\n",
       "      <td>15</td>\n",
       "    </tr>\n",
       "    <tr>\n",
       "      <th>4</th>\n",
       "      <td>2012</td>\n",
       "      <td>11</td>\n",
       "    </tr>\n",
       "    <tr>\n",
       "      <th>5</th>\n",
       "      <td>2010</td>\n",
       "      <td>6</td>\n",
       "    </tr>\n",
       "    <tr>\n",
       "      <th>6</th>\n",
       "      <td>2011</td>\n",
       "      <td>10</td>\n",
       "    </tr>\n",
       "    <tr>\n",
       "      <th>7</th>\n",
       "      <td>2012</td>\n",
       "      <td>4</td>\n",
       "    </tr>\n",
       "  </tbody>\n",
       "</table>\n",
       "</div>"
      ],
      "text/plain": [
       "   year  wins\n",
       "0  2010    11\n",
       "1  2011     8\n",
       "2  2012    10\n",
       "3  2011    15\n",
       "4  2012    11\n",
       "5  2010     6\n",
       "6  2011    10\n",
       "7  2012     4"
      ]
     },
     "execution_count": 55,
     "metadata": {},
     "output_type": "execute_result"
    }
   ],
   "source": [
    "football[['year', 'wins']]"
   ]
  },
  {
   "cell_type": "markdown",
   "metadata": {},
   "source": [
    "Do wybierania wierszy/obserwacji służy funkcja **loc** (indeksowanie oparte na etykietach) lub **iloc** (indeksowanie oparte na pozycji)."
   ]
  },
  {
   "cell_type": "code",
   "execution_count": 56,
   "metadata": {},
   "outputs": [
    {
     "data": {
      "text/plain": [
       "year       2010\n",
       "team      Bears\n",
       "wins         11\n",
       "losses        5\n",
       "Name: 0, dtype: object"
      ]
     },
     "execution_count": 56,
     "metadata": {},
     "output_type": "execute_result"
    }
   ],
   "source": [
    "football.loc[0]"
   ]
  },
  {
   "cell_type": "code",
   "execution_count": 57,
   "metadata": {},
   "outputs": [
    {
     "data": {
      "text/html": [
       "<div>\n",
       "<style scoped>\n",
       "    .dataframe tbody tr th:only-of-type {\n",
       "        vertical-align: middle;\n",
       "    }\n",
       "\n",
       "    .dataframe tbody tr th {\n",
       "        vertical-align: top;\n",
       "    }\n",
       "\n",
       "    .dataframe thead th {\n",
       "        text-align: right;\n",
       "    }\n",
       "</style>\n",
       "<table border=\"1\" class=\"dataframe\">\n",
       "  <thead>\n",
       "    <tr style=\"text-align: right;\">\n",
       "      <th></th>\n",
       "      <th>year</th>\n",
       "      <th>team</th>\n",
       "      <th>wins</th>\n",
       "      <th>losses</th>\n",
       "    </tr>\n",
       "  </thead>\n",
       "  <tbody>\n",
       "    <tr>\n",
       "      <th>0</th>\n",
       "      <td>2010</td>\n",
       "      <td>Bears</td>\n",
       "      <td>11</td>\n",
       "      <td>5</td>\n",
       "    </tr>\n",
       "    <tr>\n",
       "      <th>3</th>\n",
       "      <td>2011</td>\n",
       "      <td>Packers</td>\n",
       "      <td>15</td>\n",
       "      <td>1</td>\n",
       "    </tr>\n",
       "  </tbody>\n",
       "</table>\n",
       "</div>"
      ],
      "text/plain": [
       "   year     team  wins  losses\n",
       "0  2010    Bears    11       5\n",
       "3  2011  Packers    15       1"
      ]
     },
     "execution_count": 57,
     "metadata": {},
     "output_type": "execute_result"
    }
   ],
   "source": [
    "football.loc[[0,3]]"
   ]
  },
  {
   "cell_type": "markdown",
   "metadata": {},
   "source": [
    "# 2.3 Podstawowe operacje na DataFrame"
   ]
  },
  {
   "cell_type": "code",
   "execution_count": 58,
   "metadata": {},
   "outputs": [
    {
     "data": {
      "text/html": [
       "<div>\n",
       "<style scoped>\n",
       "    .dataframe tbody tr th:only-of-type {\n",
       "        vertical-align: middle;\n",
       "    }\n",
       "\n",
       "    .dataframe tbody tr th {\n",
       "        vertical-align: top;\n",
       "    }\n",
       "\n",
       "    .dataframe thead th {\n",
       "        text-align: right;\n",
       "    }\n",
       "</style>\n",
       "<table border=\"1\" class=\"dataframe\">\n",
       "  <thead>\n",
       "    <tr style=\"text-align: right;\">\n",
       "      <th></th>\n",
       "      <th>year</th>\n",
       "      <th>team</th>\n",
       "      <th>wins</th>\n",
       "      <th>losses</th>\n",
       "    </tr>\n",
       "  </thead>\n",
       "  <tbody>\n",
       "    <tr>\n",
       "      <th>0</th>\n",
       "      <td>2010</td>\n",
       "      <td>Bears</td>\n",
       "      <td>11</td>\n",
       "      <td>5</td>\n",
       "    </tr>\n",
       "    <tr>\n",
       "      <th>3</th>\n",
       "      <td>2011</td>\n",
       "      <td>Packers</td>\n",
       "      <td>15</td>\n",
       "      <td>1</td>\n",
       "    </tr>\n",
       "    <tr>\n",
       "      <th>4</th>\n",
       "      <td>2012</td>\n",
       "      <td>Packers</td>\n",
       "      <td>11</td>\n",
       "      <td>5</td>\n",
       "    </tr>\n",
       "  </tbody>\n",
       "</table>\n",
       "</div>"
      ],
      "text/plain": [
       "   year     team  wins  losses\n",
       "0  2010    Bears    11       5\n",
       "3  2011  Packers    15       1\n",
       "4  2012  Packers    11       5"
      ]
     },
     "execution_count": 58,
     "metadata": {},
     "output_type": "execute_result"
    }
   ],
   "source": [
    "football[football.wins > 10]"
   ]
  },
  {
   "cell_type": "code",
   "execution_count": 59,
   "metadata": {},
   "outputs": [
    {
     "data": {
      "text/plain": [
       "15"
      ]
     },
     "execution_count": 59,
     "metadata": {},
     "output_type": "execute_result"
    }
   ],
   "source": [
    "football['wins'].max()\n",
    "#lub\n",
    "np.max(football['wins'])"
   ]
  },
  {
   "cell_type": "code",
   "execution_count": 60,
   "metadata": {},
   "outputs": [
    {
     "data": {
      "text/plain": [
       "wins      9.375\n",
       "losses    6.625\n",
       "dtype: float64"
      ]
     },
     "execution_count": 60,
     "metadata": {},
     "output_type": "execute_result"
    }
   ],
   "source": [
    "football[['wins', 'losses']].mean()"
   ]
  },
  {
   "cell_type": "code",
   "execution_count": 61,
   "metadata": {},
   "outputs": [
    {
     "data": {
      "text/html": [
       "<div>\n",
       "<style scoped>\n",
       "    .dataframe tbody tr th:only-of-type {\n",
       "        vertical-align: middle;\n",
       "    }\n",
       "\n",
       "    .dataframe tbody tr th {\n",
       "        vertical-align: top;\n",
       "    }\n",
       "\n",
       "    .dataframe thead th {\n",
       "        text-align: right;\n",
       "    }\n",
       "</style>\n",
       "<table border=\"1\" class=\"dataframe\">\n",
       "  <thead>\n",
       "    <tr style=\"text-align: right;\">\n",
       "      <th></th>\n",
       "      <th>year</th>\n",
       "      <th>team</th>\n",
       "      <th>wins</th>\n",
       "      <th>losses</th>\n",
       "    </tr>\n",
       "  </thead>\n",
       "  <tbody>\n",
       "    <tr>\n",
       "      <th>0</th>\n",
       "      <td>2010</td>\n",
       "      <td>Bears</td>\n",
       "      <td>0</td>\n",
       "      <td>5</td>\n",
       "    </tr>\n",
       "    <tr>\n",
       "      <th>1</th>\n",
       "      <td>2011</td>\n",
       "      <td>Bears</td>\n",
       "      <td>0</td>\n",
       "      <td>8</td>\n",
       "    </tr>\n",
       "    <tr>\n",
       "      <th>2</th>\n",
       "      <td>2012</td>\n",
       "      <td>Bears</td>\n",
       "      <td>0</td>\n",
       "      <td>6</td>\n",
       "    </tr>\n",
       "    <tr>\n",
       "      <th>3</th>\n",
       "      <td>2011</td>\n",
       "      <td>Packers</td>\n",
       "      <td>0</td>\n",
       "      <td>1</td>\n",
       "    </tr>\n",
       "    <tr>\n",
       "      <th>4</th>\n",
       "      <td>2012</td>\n",
       "      <td>Packers</td>\n",
       "      <td>0</td>\n",
       "      <td>5</td>\n",
       "    </tr>\n",
       "    <tr>\n",
       "      <th>5</th>\n",
       "      <td>2010</td>\n",
       "      <td>Lions</td>\n",
       "      <td>0</td>\n",
       "      <td>0</td>\n",
       "    </tr>\n",
       "    <tr>\n",
       "      <th>6</th>\n",
       "      <td>2011</td>\n",
       "      <td>Lions</td>\n",
       "      <td>0</td>\n",
       "      <td>6</td>\n",
       "    </tr>\n",
       "    <tr>\n",
       "      <th>7</th>\n",
       "      <td>2012</td>\n",
       "      <td>Lions</td>\n",
       "      <td>0</td>\n",
       "      <td>12</td>\n",
       "    </tr>\n",
       "  </tbody>\n",
       "</table>\n",
       "</div>"
      ],
      "text/plain": [
       "   year     team  wins  losses\n",
       "0  2010    Bears     0       5\n",
       "1  2011    Bears     0       8\n",
       "2  2012    Bears     0       6\n",
       "3  2011  Packers     0       1\n",
       "4  2012  Packers     0       5\n",
       "5  2010    Lions     0       0\n",
       "6  2011    Lions     0       6\n",
       "7  2012    Lions     0      12"
      ]
     },
     "execution_count": 61,
     "metadata": {},
     "output_type": "execute_result"
    }
   ],
   "source": [
    "football['wins'] = 0\n",
    "football.at[5, 'losses'] = 0\n",
    "football"
   ]
  },
  {
   "cell_type": "markdown",
   "metadata": {},
   "source": [
    "## 2.6 Importowanie i eksportowanie danych\n",
    "\n",
    "  * eksport to CSV:"
   ]
  },
  {
   "cell_type": "code",
   "execution_count": 62,
   "metadata": {},
   "outputs": [],
   "source": [
    "data = {'year': [2010, 2011, 2012, 2011, 2012, 2010, 2011, 2012],\n",
    "        'team': ['Bears', 'Bears', 'Bears', 'Packers', 'Packers', 'Lions', 'Lions', 'Lions'],\n",
    "        'wins': [11, 8, 10, 15, 11, 6, 10, 4],\n",
    "        'losses': [5, 8, 6, 1, 5, 10, 6, 12]}\n",
    "football = pd.DataFrame(data, columns=['year', 'team', 'wins', 'losses'])\n",
    "\n",
    "football.to_csv('dane.csv', index=False)"
   ]
  },
  {
   "cell_type": "markdown",
   "metadata": {},
   "source": [
    "  * import z CSV:"
   ]
  },
  {
   "cell_type": "code",
   "execution_count": 63,
   "metadata": {},
   "outputs": [
    {
     "data": {
      "text/html": [
       "<div>\n",
       "<style scoped>\n",
       "    .dataframe tbody tr th:only-of-type {\n",
       "        vertical-align: middle;\n",
       "    }\n",
       "\n",
       "    .dataframe tbody tr th {\n",
       "        vertical-align: top;\n",
       "    }\n",
       "\n",
       "    .dataframe thead th {\n",
       "        text-align: right;\n",
       "    }\n",
       "</style>\n",
       "<table border=\"1\" class=\"dataframe\">\n",
       "  <thead>\n",
       "    <tr style=\"text-align: right;\">\n",
       "      <th></th>\n",
       "      <th>year</th>\n",
       "      <th>team</th>\n",
       "      <th>wins</th>\n",
       "      <th>losses</th>\n",
       "    </tr>\n",
       "  </thead>\n",
       "  <tbody>\n",
       "    <tr>\n",
       "      <th>0</th>\n",
       "      <td>2010</td>\n",
       "      <td>Bears</td>\n",
       "      <td>11</td>\n",
       "      <td>5</td>\n",
       "    </tr>\n",
       "    <tr>\n",
       "      <th>1</th>\n",
       "      <td>2011</td>\n",
       "      <td>Bears</td>\n",
       "      <td>8</td>\n",
       "      <td>8</td>\n",
       "    </tr>\n",
       "    <tr>\n",
       "      <th>2</th>\n",
       "      <td>2012</td>\n",
       "      <td>Bears</td>\n",
       "      <td>10</td>\n",
       "      <td>6</td>\n",
       "    </tr>\n",
       "    <tr>\n",
       "      <th>3</th>\n",
       "      <td>2011</td>\n",
       "      <td>Packers</td>\n",
       "      <td>15</td>\n",
       "      <td>1</td>\n",
       "    </tr>\n",
       "    <tr>\n",
       "      <th>4</th>\n",
       "      <td>2012</td>\n",
       "      <td>Packers</td>\n",
       "      <td>11</td>\n",
       "      <td>5</td>\n",
       "    </tr>\n",
       "    <tr>\n",
       "      <th>5</th>\n",
       "      <td>2010</td>\n",
       "      <td>Lions</td>\n",
       "      <td>6</td>\n",
       "      <td>10</td>\n",
       "    </tr>\n",
       "    <tr>\n",
       "      <th>6</th>\n",
       "      <td>2011</td>\n",
       "      <td>Lions</td>\n",
       "      <td>10</td>\n",
       "      <td>6</td>\n",
       "    </tr>\n",
       "    <tr>\n",
       "      <th>7</th>\n",
       "      <td>2012</td>\n",
       "      <td>Lions</td>\n",
       "      <td>4</td>\n",
       "      <td>12</td>\n",
       "    </tr>\n",
       "  </tbody>\n",
       "</table>\n",
       "</div>"
      ],
      "text/plain": [
       "   year     team  wins  losses\n",
       "0  2010    Bears    11       5\n",
       "1  2011    Bears     8       8\n",
       "2  2012    Bears    10       6\n",
       "3  2011  Packers    15       1\n",
       "4  2012  Packers    11       5\n",
       "5  2010    Lions     6      10\n",
       "6  2011    Lions    10       6\n",
       "7  2012    Lions     4      12"
      ]
     },
     "execution_count": 63,
     "metadata": {},
     "output_type": "execute_result"
    }
   ],
   "source": [
    "pd.read_csv('dane.csv')"
   ]
  },
  {
   "cell_type": "markdown",
   "metadata": {},
   "source": [
    "Więcej informacji na temat biblioteki pandas można znaleźć tutaj: [http://pandas.pydata.org]"
   ]
  },
  {
   "cell_type": "markdown",
   "metadata": {},
   "source": [
    "# Zadanie 5\n",
    "\n",
    "Zaimportuj dane z pliku ,,airports.csv'' i wykonaj na nich poniższe polecenia:\n",
    "\n",
    "  * wybierz nazwy państw ostatnich 12 lotnisk w tabeli,\n",
    "  * wybierz wiersz o indeksie 1 korzystając z indeksera .loc oraz .iloc (porównaj otrzymane wyniki),\n",
    "  * wybierz wszystkie lotniska w Polsce,\n",
    "  * wybierz wszystkie lotniska, których nazwa różni się od nazwy miasta, w którym się znajdują.\n",
    "  * przelicz wartości wysokości na metry i zapisz zmodyfikowaną kolumnę w miejsce starej (w naszej tabeli wysokość jest podana w   * stopach nad poziomem morza; jedna stopa angielska równa się 30,48 cm),\n",
    "  * znajdź wszystkie państwa, w których znajduje się wyłącznie 1 lotnisko (zobacz procedurę .unique())."
   ]
  },
  {
   "cell_type": "code",
   "execution_count": 64,
   "metadata": {},
   "outputs": [
    {
     "data": {
      "text/html": [
       "<div>\n",
       "<style scoped>\n",
       "    .dataframe tbody tr th:only-of-type {\n",
       "        vertical-align: middle;\n",
       "    }\n",
       "\n",
       "    .dataframe tbody tr th {\n",
       "        vertical-align: top;\n",
       "    }\n",
       "\n",
       "    .dataframe thead th {\n",
       "        text-align: right;\n",
       "    }\n",
       "</style>\n",
       "<table border=\"1\" class=\"dataframe\">\n",
       "  <thead>\n",
       "    <tr style=\"text-align: right;\">\n",
       "      <th></th>\n",
       "      <th>0</th>\n",
       "      <th>1</th>\n",
       "      <th>2</th>\n",
       "      <th>3</th>\n",
       "      <th>4</th>\n",
       "      <th>5</th>\n",
       "      <th>6</th>\n",
       "      <th>7</th>\n",
       "      <th>8</th>\n",
       "      <th>9</th>\n",
       "      <th>10</th>\n",
       "      <th>11</th>\n",
       "    </tr>\n",
       "  </thead>\n",
       "  <tbody>\n",
       "    <tr>\n",
       "      <th>0</th>\n",
       "      <td>1</td>\n",
       "      <td>Goroka</td>\n",
       "      <td>Goroka</td>\n",
       "      <td>Papua New Guinea</td>\n",
       "      <td>GKA</td>\n",
       "      <td>AYGA</td>\n",
       "      <td>-6.081689</td>\n",
       "      <td>145.391881</td>\n",
       "      <td>5282</td>\n",
       "      <td>10.0</td>\n",
       "      <td>U</td>\n",
       "      <td>Pacific/Port_Moresby</td>\n",
       "    </tr>\n",
       "    <tr>\n",
       "      <th>1</th>\n",
       "      <td>2</td>\n",
       "      <td>Madang</td>\n",
       "      <td>Madang</td>\n",
       "      <td>Papua New Guinea</td>\n",
       "      <td>MAG</td>\n",
       "      <td>AYMD</td>\n",
       "      <td>-5.207083</td>\n",
       "      <td>145.788700</td>\n",
       "      <td>20</td>\n",
       "      <td>10.0</td>\n",
       "      <td>U</td>\n",
       "      <td>Pacific/Port_Moresby</td>\n",
       "    </tr>\n",
       "    <tr>\n",
       "      <th>2</th>\n",
       "      <td>3</td>\n",
       "      <td>Mount Hagen</td>\n",
       "      <td>Mount Hagen</td>\n",
       "      <td>Papua New Guinea</td>\n",
       "      <td>HGU</td>\n",
       "      <td>AYMH</td>\n",
       "      <td>-5.826789</td>\n",
       "      <td>144.295861</td>\n",
       "      <td>5388</td>\n",
       "      <td>10.0</td>\n",
       "      <td>U</td>\n",
       "      <td>Pacific/Port_Moresby</td>\n",
       "    </tr>\n",
       "    <tr>\n",
       "      <th>3</th>\n",
       "      <td>4</td>\n",
       "      <td>Nadzab</td>\n",
       "      <td>Nadzab</td>\n",
       "      <td>Papua New Guinea</td>\n",
       "      <td>LAE</td>\n",
       "      <td>AYNZ</td>\n",
       "      <td>-6.569828</td>\n",
       "      <td>146.726242</td>\n",
       "      <td>239</td>\n",
       "      <td>10.0</td>\n",
       "      <td>U</td>\n",
       "      <td>Pacific/Port_Moresby</td>\n",
       "    </tr>\n",
       "    <tr>\n",
       "      <th>4</th>\n",
       "      <td>5</td>\n",
       "      <td>Port Moresby Jacksons Intl</td>\n",
       "      <td>Port Moresby</td>\n",
       "      <td>Papua New Guinea</td>\n",
       "      <td>POM</td>\n",
       "      <td>AYPY</td>\n",
       "      <td>-9.443383</td>\n",
       "      <td>147.220050</td>\n",
       "      <td>146</td>\n",
       "      <td>10.0</td>\n",
       "      <td>U</td>\n",
       "      <td>Pacific/Port_Moresby</td>\n",
       "    </tr>\n",
       "  </tbody>\n",
       "</table>\n",
       "</div>"
      ],
      "text/plain": [
       "   0                           1             2                 3    4     5   \\\n",
       "0   1                      Goroka        Goroka  Papua New Guinea  GKA  AYGA   \n",
       "1   2                      Madang        Madang  Papua New Guinea  MAG  AYMD   \n",
       "2   3                 Mount Hagen   Mount Hagen  Papua New Guinea  HGU  AYMH   \n",
       "3   4                      Nadzab        Nadzab  Papua New Guinea  LAE  AYNZ   \n",
       "4   5  Port Moresby Jacksons Intl  Port Moresby  Papua New Guinea  POM  AYPY   \n",
       "\n",
       "         6           7     8     9  10                    11  \n",
       "0 -6.081689  145.391881  5282  10.0  U  Pacific/Port_Moresby  \n",
       "1 -5.207083  145.788700    20  10.0  U  Pacific/Port_Moresby  \n",
       "2 -5.826789  144.295861  5388  10.0  U  Pacific/Port_Moresby  \n",
       "3 -6.569828  146.726242   239  10.0  U  Pacific/Port_Moresby  \n",
       "4 -9.443383  147.220050   146  10.0  U  Pacific/Port_Moresby  "
      ]
     },
     "execution_count": 64,
     "metadata": {},
     "output_type": "execute_result"
    }
   ],
   "source": [
    "df=pd.read_csv('https://universality.io/uploads/part/attachment/5b104b2fa8292800d4e2083b/airports.csv', header=None)\n",
    "df.head(5)"
   ]
  },
  {
   "cell_type": "code",
   "execution_count": 65,
   "metadata": {},
   "outputs": [
    {
     "name": "stdout",
     "output_type": "stream",
     "text": [
      "        0                                  1                2              3   \\\n",
      "8094  9529                                Bus           Kampot       Cambodia   \n",
      "8095  9530                                Bus              Kep       Cambodia   \n",
      "8096  9531                       Main Station           Taipei         Taiwan   \n",
      "8097  9532                     Prominent Hill   Prominent Hill      Australia   \n",
      "8098  9533                 Chatsworth Station       Chatsworth  United States   \n",
      "8099  9534                    Algerciras Port       Algerciras          Spain   \n",
      "8100  9535             Ganges Water Aerodrome           Ganges         Canada   \n",
      "8101  9536     Pender Harbour Water Aerodrome   Pender Harbour         Canada   \n",
      "8102  9537    Mansons Landing Water Aerodrome  Mansons Landing         Canada   \n",
      "8103  9538               Port McNeill Airport     Port McNeill         Canada   \n",
      "8104  9539       Sullivan Bay Water Aerodrome     Sullivan Bay         Canada   \n",
      "8105  9540               Deer Harbor Seaplane      Deer Harbor  United States   \n",
      "8106  9541  San Diego Old Town Transit Center        San Diego  United States   \n",
      "\n",
      "       4     5          6           7    8    9  10                   11  \n",
      "8094  NaN  KMPT  10.614922  104.177724    0  7.0  N      Asia/Phnom_Penh  \n",
      "8095  NaN  KEPC  10.480174  104.294228    0  7.0  N      Asia/Phnom_Penh  \n",
      "8096  NaN  TPEI  25.046176  121.517532    0  8.0  N          Asia/Taipei  \n",
      "8097  PXH  YPMH -29.716667  135.521667  734  9.5  O   Australia/Adelaide  \n",
      "8098  CWT    \\N  34.256944 -118.598889  978 -8.0  A  America/Los_Angeles  \n",
      "8099  NaN    \\N  36.136000   -5.435000    0  1.0  E        Europe/Madrid  \n",
      "8100  YGG    \\N  48.850000 -123.500000    0 -8.0  A    America/Vancouver  \n",
      "8101  YPT    \\N  49.616667 -124.016667    0 -8.0  A    America/Vancouver  \n",
      "8102  YMU    \\N  50.066667 -124.983333    0 -8.0  A    America/Vancouver  \n",
      "8103  YMP    \\N  50.575556 -127.028611  225 -8.0  A    America/Vancouver  \n",
      "8104  YTG    \\N  50.883333 -126.833333    0 -8.0  A    America/Vancouver  \n",
      "8105  DHB    \\N  48.618397 -123.005960    0 -8.0  A  America/Los_Angeles  \n",
      "8106  OLT    \\N  32.755200 -117.199500    0 -8.0  A  America/Los_Angeles  \n",
      "\n",
      "0                        2\n",
      "1                   Madang\n",
      "2                   Madang\n",
      "3         Papua New Guinea\n",
      "4                      MAG\n",
      "5                     AYMD\n",
      "6                 -5.20708\n",
      "7                  145.789\n",
      "8                       20\n",
      "9                       10\n",
      "10                       U\n",
      "11    Pacific/Port_Moresby\n",
      "Name: 1, dtype: object\n",
      "\n",
      "0                        2\n",
      "1                   Madang\n",
      "2                   Madang\n",
      "3         Papua New Guinea\n",
      "4                      MAG\n",
      "5                     AYMD\n",
      "6                 -5.20708\n",
      "7                  145.789\n",
      "8                       20\n",
      "9                       10\n",
      "10                       U\n",
      "11    Pacific/Port_Moresby\n",
      "Name: 1, dtype: object\n",
      "\n",
      "      index                                 lotnisko          miasto    kraj  \\\n",
      "658     667                                   Babice          Warsaw  Poland   \n",
      "659     668                              Lech Walesa          Gdansk  Poland   \n",
      "660     669                                   Balice          Krakow  Poland   \n",
      "661     670                                Muchowiec        Katowice  Poland   \n",
      "662     671                                Pyrzowice        Katowice  Poland   \n",
      "663     673                                   Mielec          Mielec  Poland   \n",
      "664     674                                   Lawica          Poznan  Poland   \n",
      "665     675                                 Jasionka         Rzeszow  Poland   \n",
      "666     676                                 Goleniow        Szczecin  Poland   \n",
      "667     677                                Redzikowo          Slupsk  Poland   \n",
      "668     678                                  Swidwin         Shapaja  Poland   \n",
      "669     679                                   Okecie          Warsaw  Poland   \n",
      "670     680                              Strachowice         Wroclaw  Poland   \n",
      "671     681                                 Babimost    Zielona Gora  Poland   \n",
      "4729   5592           Łódź Władysław Reymont Airport            Lodz  Poland   \n",
      "4730   5591  Bydgoszcz Ignacy Jan Paderewski Airport       Bydgoszcz  Poland   \n",
      "5296   6425                           Szczecin-Dabie        Szczecin  Poland   \n",
      "5367   6499                           Aleksandrowice   Bielsko-Biala  Poland   \n",
      "6259   7685      Koszalin - Zegrze Pomorskie Airport        Koszalin  Poland   \n",
      "6382   7807                          Chojna Air Base          Chojna  Poland   \n",
      "6387   7812                                   Gdynia          Gdynia  Poland   \n",
      "6388   7813                                  Malbork         Malbork  Poland   \n",
      "6389   7814                                     Lask            Lask  Poland   \n",
      "6390   7815                              Miroslawiec     Miroslawiec  Poland   \n",
      "6391   7816                                 Krzesiny          Poznan  Poland   \n",
      "6602   8029                                    RADOM           RADOM  Poland   \n",
      "6985   8414                            Warsaw Modlin          Warsaw  Poland   \n",
      "7201   8633                 Inowroclaw Inowr Airport      Inowroclaw  Poland   \n",
      "7202   8634                   Pruszcz Gdansk Airport  Pruszcz Gdansk  Poland   \n",
      "7309   8741                         Gryzliny - Lansk        Gryzliny  Poland   \n",
      "7319   8751                                 Goraszka        Goraszka  Poland   \n",
      "7400   8832                                   Lublin          Lublin  Poland   \n",
      "7415   8849                                 RUDNIKI          RUDNIKI  Poland   \n",
      "7474   8908                            Krakow Glowny          Krakow  Poland   \n",
      "\n",
      "     skrot     a          b          c  wysokosc    i  j              k  \n",
      "658    NaN  EPBC  52.268494  20.911047       352  1.0  E  Europe/Warsaw  \n",
      "659    GDN  EPGD  54.377569  18.466222       489  1.0  E  Europe/Warsaw  \n",
      "660    KRK  EPKK  50.077731  19.784836       791  1.0  E  Europe/Warsaw  \n",
      "661    NaN  EPKM  50.238147  19.034181       909  1.0  E  Europe/Warsaw  \n",
      "662    KTW  EPKT  50.474253  19.080019       995  1.0  E  Europe/Warsaw  \n",
      "663    NaN  EPML  50.322275  21.462131       548  1.0  E  Europe/Warsaw  \n",
      "664    POZ  EPPO  52.421031  16.826325       308  1.0  E  Europe/Warsaw  \n",
      "665    RZE  EPRZ  50.109958  22.019000       675  1.0  E  Europe/Warsaw  \n",
      "666    SZZ  EPSC  53.584731  14.902206       154  1.0  E  Europe/Warsaw  \n",
      "667    OSP  EPSK  54.478889  17.107500       217  1.0  E  Europe/Warsaw  \n",
      "668    NaN  EPSN  53.790639  15.826250       385  1.0  E  Europe/Warsaw  \n",
      "669    WAW  EPWA  52.165750  20.967122       362  1.0  E  Europe/Warsaw  \n",
      "670    WRO  EPWR  51.102683  16.885836       404  1.0  E  Europe/Warsaw  \n",
      "671    IEG  EPZG  52.138517  15.798556       194  1.0  E  Europe/Warsaw  \n",
      "4729   LCJ  EPLL  51.721881  19.398133       604  1.0  E  Europe/Warsaw  \n",
      "4730   BZG  EPBY  53.096800  17.977700       235  1.0  E  Europe/Warsaw  \n",
      "5296   NaN  EPSD  53.471138  14.637750         3  1.0  E  Europe/Warsaw  \n",
      "5367   NaN  EPBA  49.849970  19.020193       860  1.0  E  Europe/Warsaw  \n",
      "6259   OSZ  EPKO  54.041000  16.266000       111  1.0  E  Europe/Warsaw  \n",
      "6382   NaN    \\N  52.939400  14.421700       187  1.0  E  Europe/Warsaw  \n",
      "6387   QYD  EPOK  54.579700  18.517200       144  1.0  E  Europe/Warsaw  \n",
      "6388   NaN  EPMB  54.026944  19.134167        16  1.0  E  Europe/Warsaw  \n",
      "6389   NaN  EPLK  51.551667  19.179058       633  1.0  E  Europe/Warsaw  \n",
      "6390   NaN  EPMI  53.395072  16.082814       459  1.0  E  Europe/Warsaw  \n",
      "6391   NaN  EPKS  52.331719  16.966428       265  1.0  E  Europe/Warsaw  \n",
      "6602   QXR  EPRA  51.231978  21.124183       479  1.0  E  Europe/Warsaw  \n",
      "6985   WMI  EPMO  52.451111  20.651667       341  1.0  E  Europe/Warsaw  \n",
      "7201   NaN  EPIR  52.829444  18.330556       259  1.0  E  Europe/Warsaw  \n",
      "7202   NaN  EPPR  54.248056  18.671667        21  1.0  E  Europe/Warsaw  \n",
      "7309   NaN  EPGR  53.362900  20.204000       520  1.0  E  Europe/Warsaw  \n",
      "7319   NaN  EPGO  52.110400  21.165200       110  1.0  E  Europe/Warsaw  \n",
      "7400   LUZ  EPLB  51.239333  22.714083       203  1.0  E  Europe/Warsaw  \n",
      "7415   CZW  EPRU  50.884722  19.202222       262  1.0  E  Europe/Warsaw  \n",
      "7474   NaN    \\N  50.065556  19.947222       719  1.0  E  Europe/Warsaw  \n",
      "\n",
      "      index                           lotnisko           miasto  \\\n",
      "4         5         Port Moresby Jacksons Intl     Port Moresby   \n",
      "5         6                         Wewak Intl            Wewak   \n",
      "6         7                         Narsarsuaq     Narssarssuaq   \n",
      "7         8                               Nuuk         Godthaab   \n",
      "8         9                  Sondre Stromfjord      Sondrestrom   \n",
      "...     ...                                ...              ...   \n",
      "8102   9537    Mansons Landing Water Aerodrome  Mansons Landing   \n",
      "8103   9538               Port McNeill Airport     Port McNeill   \n",
      "8104   9539       Sullivan Bay Water Aerodrome     Sullivan Bay   \n",
      "8105   9540               Deer Harbor Seaplane      Deer Harbor   \n",
      "8106   9541  San Diego Old Town Transit Center        San Diego   \n",
      "\n",
      "                  kraj skrot     a          b           c  wysokosc     i  j  \\\n",
      "4     Papua New Guinea   POM  AYPY  -9.443383  147.220050       146  10.0  U   \n",
      "5     Papua New Guinea   WWK  AYWK  -3.583828  143.669186        19  10.0  U   \n",
      "6            Greenland   UAK  BGBW  61.160517  -45.425978       112  -3.0  E   \n",
      "7            Greenland   GOH  BGGH  64.190922  -51.678064       283  -3.0  E   \n",
      "8            Greenland   SFJ  BGSF  67.016969  -50.689325       165  -3.0  E   \n",
      "...                ...   ...   ...        ...         ...       ...   ... ..   \n",
      "8102            Canada   YMU    \\N  50.066667 -124.983333         0  -8.0  A   \n",
      "8103            Canada   YMP    \\N  50.575556 -127.028611       225  -8.0  A   \n",
      "8104            Canada   YTG    \\N  50.883333 -126.833333         0  -8.0  A   \n",
      "8105     United States   DHB    \\N  48.618397 -123.005960         0  -8.0  A   \n",
      "8106     United States   OLT    \\N  32.755200 -117.199500         0  -8.0  A   \n",
      "\n",
      "                         k  \n",
      "4     Pacific/Port_Moresby  \n",
      "5     Pacific/Port_Moresby  \n",
      "6          America/Godthab  \n",
      "7          America/Godthab  \n",
      "8          America/Godthab  \n",
      "...                    ...  \n",
      "8102     America/Vancouver  \n",
      "8103     America/Vancouver  \n",
      "8104     America/Vancouver  \n",
      "8105   America/Los_Angeles  \n",
      "8106   America/Los_Angeles  \n",
      "\n",
      "[5889 rows x 12 columns]\n",
      "\n",
      "      index                      lotnisko                miasto  \\\n",
      "242     245                     Cadjehoun               Cotonou   \n",
      "495     499                        Jersey                Jersey   \n",
      "516     520                   Isle Of Man           Isle Of Man   \n",
      "621     629                    Luxembourg             Luxemburg   \n",
      "871     887                      Matsapha               Manzini   \n",
      "876     892              Ascension Aux Af            Wide Awake   \n",
      "879     895              Diego Garcia Nsf   Diego Garcia Island   \n",
      "899     915             Dzaoudzi Pamandzi              Dzaoudzi   \n",
      "1032   1050                   Banjul Intl                Banjul   \n",
      "1100   1120                Bujumbura Intl             Bujumbura   \n",
      "1168   1190                  Tirana Rinas                Tirana   \n",
      "1705   1738                     Gibraltar             Gibraltar   \n",
      "2123   2174                     Jerusalem             Jerusalem   \n",
      "2198   2253                  Midway Atoll                Midway   \n",
      "2801   2875           Grantley Adams Intl            Bridgetown   \n",
      "2820   2895            Reina Beatrix Intl            Oranjestad   \n",
      "2825   2900                     Wallblake            The Valley   \n",
      "3072   3155                          Paro               Thimphu   \n",
      "3257   3353              Christmas Island      Christmas Island   \n",
      "3263   3359           Norfolk Island Intl        Norfolk Island   \n",
      "3280   3377                Pyongyang Intl             Pyongyang   \n",
      "3863   3969            Yasser Arafat Intl                  Gaza   \n",
      "3967   4076                    Nauru Intl                 Nauru   \n",
      "3968   4077        Funafuti International              Funafuti   \n",
      "4151   4264                        Monaco                Monaco   \n",
      "4269   4382                Johnston Atoll       Johnston Island   \n",
      "4438   5884    Niue International Airport                 Alofi   \n",
      "5188   6315  Cocos Keeling Island Airport  Cocos Keeling Island   \n",
      "5445   6787                 Kalay Airport               Kalemyo   \n",
      "6248   7674              Wake Island Afld           Wake island   \n",
      "\n",
      "                                kraj skrot     a          b           c  \\\n",
      "242                            Benin   COO  DBBB   6.357228    2.384353   \n",
      "495                           Jersey   JER  EGJJ  49.207947   -2.195508   \n",
      "516                      Isle of Man   IOM  EGNS  54.083333   -4.623889   \n",
      "621                       Luxembourg   LUX  ELLX  49.626575    6.211517   \n",
      "871                        Swaziland   MTS  FDMS -26.529022   31.307519   \n",
      "876                     Saint Helena   NaN  FHAW  -7.969597  -14.393664   \n",
      "879   British Indian Ocean Territory   NaN  FJDG  -7.313267   72.411089   \n",
      "899                          Mayotte   DZA  FMCZ -12.804722   45.281113   \n",
      "1032                          Gambia   BJL  GBYD  13.337961  -16.652206   \n",
      "1100                         Burundi   BJM  HBBA  -3.324019   29.318519   \n",
      "1168                         Albania   TIA  LATI  41.414742   19.720561   \n",
      "1705                       Gibraltar   GIB  LXGB  36.151219   -5.349664   \n",
      "2123                       West Bank   NaN  OJJR  31.864722   35.219167   \n",
      "2198                  Midway Islands   MDY  PMDY  28.201725 -177.380636   \n",
      "2801                        Barbados   BGI  TBPB  13.074603  -59.492456   \n",
      "2820                           Aruba   AUA  TNCA  12.501389  -70.015221   \n",
      "2825                        Anguilla   AXA  TQPF  18.204834  -63.055084   \n",
      "3072                          Bhutan   PBH  VQPR  27.403192   89.424606   \n",
      "3257                Christmas Island   XCH  YPXM -10.450556  105.690278   \n",
      "3263                  Norfolk Island   NLK  YSNF -29.041625  167.938742   \n",
      "3280                           Korea   FNJ  ZKPY  39.224061  125.670150   \n",
      "3863                       Palestine   GZA  LVGZ  31.246389   34.276111   \n",
      "3967                           Nauru   INU  ANYN  -0.547458  166.919100   \n",
      "3968                          Tuvalu   FUN  NGFU  -8.525000  179.196389   \n",
      "4151                          Monaco   MCM    \\N  43.733333    7.416667   \n",
      "4269                  Johnston Atoll   JON  PJON  16.728600 -169.534000   \n",
      "4438                            Niue   IUE  NIUE -19.080028 -169.925639   \n",
      "5188         Cocos (Keeling) Islands   CCK  YPCC -12.188300   96.833900   \n",
      "5445                         Myanmar   KMV  VYKL  23.188811   94.051094   \n",
      "6248                     Wake Island   AWK  PWAK  19.282067  166.636444   \n",
      "\n",
      "       wysokosc     i  j                   k  \n",
      "242      5.7912   1.0  N   Africa/Porto-Novo  \n",
      "495     84.4296   0.0  E       Europe/Jersey  \n",
      "516     15.8496   0.0  E  Europe/Isle_of_Man  \n",
      "621    376.1232   1.0  E   Europe/Luxembourg  \n",
      "871    632.4600   2.0  U      Africa/Mbabane  \n",
      "876     84.7344   0.0  N  Atlantic/St_Helena  \n",
      "879      2.7432   6.0  U       Indian/Chagos  \n",
      "899      7.0104   3.0  U      Indian/Mayotte  \n",
      "1032    28.9560   0.0  N       Africa/Banjul  \n",
      "1100   786.9936   2.0  U    Africa/Bujumbura  \n",
      "1168    38.4048   1.0  E       Europe/Tirane  \n",
      "1705     4.5720   1.0  N    Europe/Gibraltar  \n",
      "2123   757.4280   2.0  U           Asia/Gaza  \n",
      "2198     3.9624 -11.0  U      Pacific/Midway  \n",
      "2801    51.5112  -4.0  U    America/Barbados  \n",
      "2820    18.2880  -4.0  U       America/Aruba  \n",
      "2825    38.7096  -4.0  U    America/Anguilla  \n",
      "3072  2234.7936   6.0  N        Asia/Thimphu  \n",
      "3257   279.1968   7.0  U    Indian/Christmas  \n",
      "3263   113.0808  11.5  U     Pacific/Norfolk  \n",
      "3280    35.6616   9.0  U      Asia/Pyongyang  \n",
      "3863    97.5360   2.0  U           Asia/Gaza  \n",
      "3967     6.7056  12.0  U       Pacific/Nauru  \n",
      "3968     2.7432  12.0  U    Pacific/Funafuti  \n",
      "4151     0.0000   1.0  E       Europe/Monaco  \n",
      "4269     2.1336 -10.0  U    Pacific/Johnston  \n",
      "4438    63.7032 -11.0  U        Pacific/Niue  \n",
      "5188     3.0480   6.5  U        Indian/Cocos  \n",
      "5445   152.0952   6.5  U        Asia/Rangoon  \n",
      "6248     4.2672  12.0  U        Pacific/Wake  \n"
     ]
    }
   ],
   "source": [
    "last_12 = df.iloc[len(df)-13:len(df)]\n",
    "print(last_12)\n",
    "print()\n",
    "\n",
    "sel = df.loc[1]\n",
    "print(sel)\n",
    "print()\n",
    "\n",
    "seli = df.iloc[1]\n",
    "print(seli)\n",
    "print()\n",
    "\n",
    "df.columns = ['index', 'lotnisko', 'miasto', 'kraj', 'skrot', 'a', 'b', 'c', 'wysokosc', 'i', 'j', 'k']\n",
    "\n",
    "inPoland = df.loc[df['kraj'] == 'Poland']\n",
    "print(inPoland)\n",
    "print()\n",
    "\n",
    "isDifferent = df.loc[df['lotnisko'] != df['miasto']]\n",
    "print(isDifferent)\n",
    "print()\n",
    "\n",
    "df['wysokosc'] = df['wysokosc']*0.3048\n",
    "\n",
    "\n",
    "only1 = df.drop_duplicates(subset = 'kraj',keep = False)\n",
    "print(only1)"
   ]
  },
  {
   "cell_type": "markdown",
   "metadata": {},
   "source": [
    "# Dane do kolejnych zadań\n",
    "Wczytanie dancyh:\n",
    "\n",
    "  * Powinieneś być w stanie zobaczyć wszystkie kolumny i 10 wierszy danych:\n",
    "  * survival – Survival (0 = No; 1 = Yes)\n",
    "  * pclass – Passenger Class (1 = 1st; 2 = 2nd; 3 = 3rd)\n",
    "  * sex – Sex\n",
    "  * age – Age\n",
    "  * sibsp – Number of Siblings/Spouses Aboard\n",
    "  * parch – Number of Parents/Children Aboard\n",
    "  * ticket – Ticket Number\n",
    "  * fare – Passenger Fare\n",
    "  * cabin – Cabin\n",
    "  * embarked – Port of Embarkation (C = Cherbourg; Q = Queenstown; S = Southampton)\n"
   ]
  },
  {
   "cell_type": "code",
   "execution_count": 66,
   "metadata": {},
   "outputs": [
    {
     "ename": "URLError",
     "evalue": "<urlopen error [Errno 11001] getaddrinfo failed>",
     "output_type": "error",
     "traceback": [
      "\u001b[1;31m---------------------------------------------------------------------------\u001b[0m",
      "\u001b[1;31mgaierror\u001b[0m                                  Traceback (most recent call last)",
      "\u001b[1;32m~\\anaconda3\\lib\\urllib\\request.py\u001b[0m in \u001b[0;36mdo_open\u001b[1;34m(self, http_class, req, **http_conn_args)\u001b[0m\n\u001b[0;32m   1318\u001b[0m                 h.request(req.get_method(), req.selector, req.data, headers,\n\u001b[1;32m-> 1319\u001b[1;33m                           encode_chunked=req.has_header('Transfer-encoding'))\n\u001b[0m\u001b[0;32m   1320\u001b[0m             \u001b[1;32mexcept\u001b[0m \u001b[0mOSError\u001b[0m \u001b[1;32mas\u001b[0m \u001b[0merr\u001b[0m\u001b[1;33m:\u001b[0m \u001b[1;31m# timeout error\u001b[0m\u001b[1;33m\u001b[0m\u001b[1;33m\u001b[0m\u001b[0m\n",
      "\u001b[1;32m~\\anaconda3\\lib\\http\\client.py\u001b[0m in \u001b[0;36mrequest\u001b[1;34m(self, method, url, body, headers, encode_chunked)\u001b[0m\n\u001b[0;32m   1251\u001b[0m         \u001b[1;34m\"\"\"Send a complete request to the server.\"\"\"\u001b[0m\u001b[1;33m\u001b[0m\u001b[1;33m\u001b[0m\u001b[0m\n\u001b[1;32m-> 1252\u001b[1;33m         \u001b[0mself\u001b[0m\u001b[1;33m.\u001b[0m\u001b[0m_send_request\u001b[0m\u001b[1;33m(\u001b[0m\u001b[0mmethod\u001b[0m\u001b[1;33m,\u001b[0m \u001b[0murl\u001b[0m\u001b[1;33m,\u001b[0m \u001b[0mbody\u001b[0m\u001b[1;33m,\u001b[0m \u001b[0mheaders\u001b[0m\u001b[1;33m,\u001b[0m \u001b[0mencode_chunked\u001b[0m\u001b[1;33m)\u001b[0m\u001b[1;33m\u001b[0m\u001b[1;33m\u001b[0m\u001b[0m\n\u001b[0m\u001b[0;32m   1253\u001b[0m \u001b[1;33m\u001b[0m\u001b[0m\n",
      "\u001b[1;32m~\\anaconda3\\lib\\http\\client.py\u001b[0m in \u001b[0;36m_send_request\u001b[1;34m(self, method, url, body, headers, encode_chunked)\u001b[0m\n\u001b[0;32m   1297\u001b[0m             \u001b[0mbody\u001b[0m \u001b[1;33m=\u001b[0m \u001b[0m_encode\u001b[0m\u001b[1;33m(\u001b[0m\u001b[0mbody\u001b[0m\u001b[1;33m,\u001b[0m \u001b[1;34m'body'\u001b[0m\u001b[1;33m)\u001b[0m\u001b[1;33m\u001b[0m\u001b[1;33m\u001b[0m\u001b[0m\n\u001b[1;32m-> 1298\u001b[1;33m         \u001b[0mself\u001b[0m\u001b[1;33m.\u001b[0m\u001b[0mendheaders\u001b[0m\u001b[1;33m(\u001b[0m\u001b[0mbody\u001b[0m\u001b[1;33m,\u001b[0m \u001b[0mencode_chunked\u001b[0m\u001b[1;33m=\u001b[0m\u001b[0mencode_chunked\u001b[0m\u001b[1;33m)\u001b[0m\u001b[1;33m\u001b[0m\u001b[1;33m\u001b[0m\u001b[0m\n\u001b[0m\u001b[0;32m   1299\u001b[0m \u001b[1;33m\u001b[0m\u001b[0m\n",
      "\u001b[1;32m~\\anaconda3\\lib\\http\\client.py\u001b[0m in \u001b[0;36mendheaders\u001b[1;34m(self, message_body, encode_chunked)\u001b[0m\n\u001b[0;32m   1246\u001b[0m             \u001b[1;32mraise\u001b[0m \u001b[0mCannotSendHeader\u001b[0m\u001b[1;33m(\u001b[0m\u001b[1;33m)\u001b[0m\u001b[1;33m\u001b[0m\u001b[1;33m\u001b[0m\u001b[0m\n\u001b[1;32m-> 1247\u001b[1;33m         \u001b[0mself\u001b[0m\u001b[1;33m.\u001b[0m\u001b[0m_send_output\u001b[0m\u001b[1;33m(\u001b[0m\u001b[0mmessage_body\u001b[0m\u001b[1;33m,\u001b[0m \u001b[0mencode_chunked\u001b[0m\u001b[1;33m=\u001b[0m\u001b[0mencode_chunked\u001b[0m\u001b[1;33m)\u001b[0m\u001b[1;33m\u001b[0m\u001b[1;33m\u001b[0m\u001b[0m\n\u001b[0m\u001b[0;32m   1248\u001b[0m \u001b[1;33m\u001b[0m\u001b[0m\n",
      "\u001b[1;32m~\\anaconda3\\lib\\http\\client.py\u001b[0m in \u001b[0;36m_send_output\u001b[1;34m(self, message_body, encode_chunked)\u001b[0m\n\u001b[0;32m   1025\u001b[0m         \u001b[1;32mdel\u001b[0m \u001b[0mself\u001b[0m\u001b[1;33m.\u001b[0m\u001b[0m_buffer\u001b[0m\u001b[1;33m[\u001b[0m\u001b[1;33m:\u001b[0m\u001b[1;33m]\u001b[0m\u001b[1;33m\u001b[0m\u001b[1;33m\u001b[0m\u001b[0m\n\u001b[1;32m-> 1026\u001b[1;33m         \u001b[0mself\u001b[0m\u001b[1;33m.\u001b[0m\u001b[0msend\u001b[0m\u001b[1;33m(\u001b[0m\u001b[0mmsg\u001b[0m\u001b[1;33m)\u001b[0m\u001b[1;33m\u001b[0m\u001b[1;33m\u001b[0m\u001b[0m\n\u001b[0m\u001b[0;32m   1027\u001b[0m \u001b[1;33m\u001b[0m\u001b[0m\n",
      "\u001b[1;32m~\\anaconda3\\lib\\http\\client.py\u001b[0m in \u001b[0;36msend\u001b[1;34m(self, data)\u001b[0m\n\u001b[0;32m    965\u001b[0m             \u001b[1;32mif\u001b[0m \u001b[0mself\u001b[0m\u001b[1;33m.\u001b[0m\u001b[0mauto_open\u001b[0m\u001b[1;33m:\u001b[0m\u001b[1;33m\u001b[0m\u001b[1;33m\u001b[0m\u001b[0m\n\u001b[1;32m--> 966\u001b[1;33m                 \u001b[0mself\u001b[0m\u001b[1;33m.\u001b[0m\u001b[0mconnect\u001b[0m\u001b[1;33m(\u001b[0m\u001b[1;33m)\u001b[0m\u001b[1;33m\u001b[0m\u001b[1;33m\u001b[0m\u001b[0m\n\u001b[0m\u001b[0;32m    967\u001b[0m             \u001b[1;32melse\u001b[0m\u001b[1;33m:\u001b[0m\u001b[1;33m\u001b[0m\u001b[1;33m\u001b[0m\u001b[0m\n",
      "\u001b[1;32m~\\anaconda3\\lib\\http\\client.py\u001b[0m in \u001b[0;36mconnect\u001b[1;34m(self)\u001b[0m\n\u001b[0;32m    937\u001b[0m         self.sock = self._create_connection(\n\u001b[1;32m--> 938\u001b[1;33m             (self.host,self.port), self.timeout, self.source_address)\n\u001b[0m\u001b[0;32m    939\u001b[0m         \u001b[0mself\u001b[0m\u001b[1;33m.\u001b[0m\u001b[0msock\u001b[0m\u001b[1;33m.\u001b[0m\u001b[0msetsockopt\u001b[0m\u001b[1;33m(\u001b[0m\u001b[0msocket\u001b[0m\u001b[1;33m.\u001b[0m\u001b[0mIPPROTO_TCP\u001b[0m\u001b[1;33m,\u001b[0m \u001b[0msocket\u001b[0m\u001b[1;33m.\u001b[0m\u001b[0mTCP_NODELAY\u001b[0m\u001b[1;33m,\u001b[0m \u001b[1;36m1\u001b[0m\u001b[1;33m)\u001b[0m\u001b[1;33m\u001b[0m\u001b[1;33m\u001b[0m\u001b[0m\n",
      "\u001b[1;32m~\\anaconda3\\lib\\socket.py\u001b[0m in \u001b[0;36mcreate_connection\u001b[1;34m(address, timeout, source_address)\u001b[0m\n\u001b[0;32m    706\u001b[0m     \u001b[0merr\u001b[0m \u001b[1;33m=\u001b[0m \u001b[1;32mNone\u001b[0m\u001b[1;33m\u001b[0m\u001b[1;33m\u001b[0m\u001b[0m\n\u001b[1;32m--> 707\u001b[1;33m     \u001b[1;32mfor\u001b[0m \u001b[0mres\u001b[0m \u001b[1;32min\u001b[0m \u001b[0mgetaddrinfo\u001b[0m\u001b[1;33m(\u001b[0m\u001b[0mhost\u001b[0m\u001b[1;33m,\u001b[0m \u001b[0mport\u001b[0m\u001b[1;33m,\u001b[0m \u001b[1;36m0\u001b[0m\u001b[1;33m,\u001b[0m \u001b[0mSOCK_STREAM\u001b[0m\u001b[1;33m)\u001b[0m\u001b[1;33m:\u001b[0m\u001b[1;33m\u001b[0m\u001b[1;33m\u001b[0m\u001b[0m\n\u001b[0m\u001b[0;32m    708\u001b[0m         \u001b[0maf\u001b[0m\u001b[1;33m,\u001b[0m \u001b[0msocktype\u001b[0m\u001b[1;33m,\u001b[0m \u001b[0mproto\u001b[0m\u001b[1;33m,\u001b[0m \u001b[0mcanonname\u001b[0m\u001b[1;33m,\u001b[0m \u001b[0msa\u001b[0m \u001b[1;33m=\u001b[0m \u001b[0mres\u001b[0m\u001b[1;33m\u001b[0m\u001b[1;33m\u001b[0m\u001b[0m\n",
      "\u001b[1;32m~\\anaconda3\\lib\\socket.py\u001b[0m in \u001b[0;36mgetaddrinfo\u001b[1;34m(host, port, family, type, proto, flags)\u001b[0m\n\u001b[0;32m    751\u001b[0m     \u001b[0maddrlist\u001b[0m \u001b[1;33m=\u001b[0m \u001b[1;33m[\u001b[0m\u001b[1;33m]\u001b[0m\u001b[1;33m\u001b[0m\u001b[1;33m\u001b[0m\u001b[0m\n\u001b[1;32m--> 752\u001b[1;33m     \u001b[1;32mfor\u001b[0m \u001b[0mres\u001b[0m \u001b[1;32min\u001b[0m \u001b[0m_socket\u001b[0m\u001b[1;33m.\u001b[0m\u001b[0mgetaddrinfo\u001b[0m\u001b[1;33m(\u001b[0m\u001b[0mhost\u001b[0m\u001b[1;33m,\u001b[0m \u001b[0mport\u001b[0m\u001b[1;33m,\u001b[0m \u001b[0mfamily\u001b[0m\u001b[1;33m,\u001b[0m \u001b[0mtype\u001b[0m\u001b[1;33m,\u001b[0m \u001b[0mproto\u001b[0m\u001b[1;33m,\u001b[0m \u001b[0mflags\u001b[0m\u001b[1;33m)\u001b[0m\u001b[1;33m:\u001b[0m\u001b[1;33m\u001b[0m\u001b[1;33m\u001b[0m\u001b[0m\n\u001b[0m\u001b[0;32m    753\u001b[0m         \u001b[0maf\u001b[0m\u001b[1;33m,\u001b[0m \u001b[0msocktype\u001b[0m\u001b[1;33m,\u001b[0m \u001b[0mproto\u001b[0m\u001b[1;33m,\u001b[0m \u001b[0mcanonname\u001b[0m\u001b[1;33m,\u001b[0m \u001b[0msa\u001b[0m \u001b[1;33m=\u001b[0m \u001b[0mres\u001b[0m\u001b[1;33m\u001b[0m\u001b[1;33m\u001b[0m\u001b[0m\n",
      "\u001b[1;31mgaierror\u001b[0m: [Errno 11001] getaddrinfo failed",
      "\nDuring handling of the above exception, another exception occurred:\n",
      "\u001b[1;31mURLError\u001b[0m                                  Traceback (most recent call last)",
      "\u001b[1;32m<ipython-input-66-84ec2bdc7676>\u001b[0m in \u001b[0;36m<module>\u001b[1;34m\u001b[0m\n\u001b[1;32m----> 1\u001b[1;33m \u001b[0mdf\u001b[0m \u001b[1;33m=\u001b[0m \u001b[0mpd\u001b[0m\u001b[1;33m.\u001b[0m\u001b[0mread_csv\u001b[0m\u001b[1;33m(\u001b[0m\u001b[1;34m'http://stamfordresearch.com/wp-content/uploads/2016/08/Titanic.csv'\u001b[0m\u001b[1;33m)\u001b[0m\u001b[1;33m\u001b[0m\u001b[1;33m\u001b[0m\u001b[0m\n\u001b[0m\u001b[0;32m      2\u001b[0m \u001b[0mprint\u001b[0m\u001b[1;33m(\u001b[0m\u001b[0mdf\u001b[0m\u001b[1;33m.\u001b[0m\u001b[0mshape\u001b[0m\u001b[1;33m)\u001b[0m\u001b[1;33m\u001b[0m\u001b[1;33m\u001b[0m\u001b[0m\n\u001b[0;32m      3\u001b[0m \u001b[0mdf\u001b[0m\u001b[1;33m.\u001b[0m\u001b[0mhead\u001b[0m\u001b[1;33m(\u001b[0m\u001b[1;33m)\u001b[0m\u001b[1;33m\u001b[0m\u001b[1;33m\u001b[0m\u001b[0m\n",
      "\u001b[1;32m~\\anaconda3\\lib\\site-packages\\pandas\\io\\parsers.py\u001b[0m in \u001b[0;36mparser_f\u001b[1;34m(filepath_or_buffer, sep, delimiter, header, names, index_col, usecols, squeeze, prefix, mangle_dupe_cols, dtype, engine, converters, true_values, false_values, skipinitialspace, skiprows, skipfooter, nrows, na_values, keep_default_na, na_filter, verbose, skip_blank_lines, parse_dates, infer_datetime_format, keep_date_col, date_parser, dayfirst, cache_dates, iterator, chunksize, compression, thousands, decimal, lineterminator, quotechar, quoting, doublequote, escapechar, comment, encoding, dialect, error_bad_lines, warn_bad_lines, delim_whitespace, low_memory, memory_map, float_precision)\u001b[0m\n\u001b[0;32m    674\u001b[0m         )\n\u001b[0;32m    675\u001b[0m \u001b[1;33m\u001b[0m\u001b[0m\n\u001b[1;32m--> 676\u001b[1;33m         \u001b[1;32mreturn\u001b[0m \u001b[0m_read\u001b[0m\u001b[1;33m(\u001b[0m\u001b[0mfilepath_or_buffer\u001b[0m\u001b[1;33m,\u001b[0m \u001b[0mkwds\u001b[0m\u001b[1;33m)\u001b[0m\u001b[1;33m\u001b[0m\u001b[1;33m\u001b[0m\u001b[0m\n\u001b[0m\u001b[0;32m    677\u001b[0m \u001b[1;33m\u001b[0m\u001b[0m\n\u001b[0;32m    678\u001b[0m     \u001b[0mparser_f\u001b[0m\u001b[1;33m.\u001b[0m\u001b[0m__name__\u001b[0m \u001b[1;33m=\u001b[0m \u001b[0mname\u001b[0m\u001b[1;33m\u001b[0m\u001b[1;33m\u001b[0m\u001b[0m\n",
      "\u001b[1;32m~\\anaconda3\\lib\\site-packages\\pandas\\io\\parsers.py\u001b[0m in \u001b[0;36m_read\u001b[1;34m(filepath_or_buffer, kwds)\u001b[0m\n\u001b[0;32m    429\u001b[0m     \u001b[1;31m# See https://github.com/python/mypy/issues/1297\u001b[0m\u001b[1;33m\u001b[0m\u001b[1;33m\u001b[0m\u001b[1;33m\u001b[0m\u001b[0m\n\u001b[0;32m    430\u001b[0m     fp_or_buf, _, compression, should_close = get_filepath_or_buffer(\n\u001b[1;32m--> 431\u001b[1;33m         \u001b[0mfilepath_or_buffer\u001b[0m\u001b[1;33m,\u001b[0m \u001b[0mencoding\u001b[0m\u001b[1;33m,\u001b[0m \u001b[0mcompression\u001b[0m\u001b[1;33m\u001b[0m\u001b[1;33m\u001b[0m\u001b[0m\n\u001b[0m\u001b[0;32m    432\u001b[0m     )\n\u001b[0;32m    433\u001b[0m     \u001b[0mkwds\u001b[0m\u001b[1;33m[\u001b[0m\u001b[1;34m\"compression\"\u001b[0m\u001b[1;33m]\u001b[0m \u001b[1;33m=\u001b[0m \u001b[0mcompression\u001b[0m\u001b[1;33m\u001b[0m\u001b[1;33m\u001b[0m\u001b[0m\n",
      "\u001b[1;32m~\\anaconda3\\lib\\site-packages\\pandas\\io\\common.py\u001b[0m in \u001b[0;36mget_filepath_or_buffer\u001b[1;34m(filepath_or_buffer, encoding, compression, mode)\u001b[0m\n\u001b[0;32m    170\u001b[0m \u001b[1;33m\u001b[0m\u001b[0m\n\u001b[0;32m    171\u001b[0m     \u001b[1;32mif\u001b[0m \u001b[0misinstance\u001b[0m\u001b[1;33m(\u001b[0m\u001b[0mfilepath_or_buffer\u001b[0m\u001b[1;33m,\u001b[0m \u001b[0mstr\u001b[0m\u001b[1;33m)\u001b[0m \u001b[1;32mand\u001b[0m \u001b[0mis_url\u001b[0m\u001b[1;33m(\u001b[0m\u001b[0mfilepath_or_buffer\u001b[0m\u001b[1;33m)\u001b[0m\u001b[1;33m:\u001b[0m\u001b[1;33m\u001b[0m\u001b[1;33m\u001b[0m\u001b[0m\n\u001b[1;32m--> 172\u001b[1;33m         \u001b[0mreq\u001b[0m \u001b[1;33m=\u001b[0m \u001b[0murlopen\u001b[0m\u001b[1;33m(\u001b[0m\u001b[0mfilepath_or_buffer\u001b[0m\u001b[1;33m)\u001b[0m\u001b[1;33m\u001b[0m\u001b[1;33m\u001b[0m\u001b[0m\n\u001b[0m\u001b[0;32m    173\u001b[0m         \u001b[0mcontent_encoding\u001b[0m \u001b[1;33m=\u001b[0m \u001b[0mreq\u001b[0m\u001b[1;33m.\u001b[0m\u001b[0mheaders\u001b[0m\u001b[1;33m.\u001b[0m\u001b[0mget\u001b[0m\u001b[1;33m(\u001b[0m\u001b[1;34m\"Content-Encoding\"\u001b[0m\u001b[1;33m,\u001b[0m \u001b[1;32mNone\u001b[0m\u001b[1;33m)\u001b[0m\u001b[1;33m\u001b[0m\u001b[1;33m\u001b[0m\u001b[0m\n\u001b[0;32m    174\u001b[0m         \u001b[1;32mif\u001b[0m \u001b[0mcontent_encoding\u001b[0m \u001b[1;33m==\u001b[0m \u001b[1;34m\"gzip\"\u001b[0m\u001b[1;33m:\u001b[0m\u001b[1;33m\u001b[0m\u001b[1;33m\u001b[0m\u001b[0m\n",
      "\u001b[1;32m~\\anaconda3\\lib\\site-packages\\pandas\\io\\common.py\u001b[0m in \u001b[0;36murlopen\u001b[1;34m(*args, **kwargs)\u001b[0m\n\u001b[0;32m    139\u001b[0m     \u001b[1;32mimport\u001b[0m \u001b[0murllib\u001b[0m\u001b[1;33m.\u001b[0m\u001b[0mrequest\u001b[0m\u001b[1;33m\u001b[0m\u001b[1;33m\u001b[0m\u001b[0m\n\u001b[0;32m    140\u001b[0m \u001b[1;33m\u001b[0m\u001b[0m\n\u001b[1;32m--> 141\u001b[1;33m     \u001b[1;32mreturn\u001b[0m \u001b[0murllib\u001b[0m\u001b[1;33m.\u001b[0m\u001b[0mrequest\u001b[0m\u001b[1;33m.\u001b[0m\u001b[0murlopen\u001b[0m\u001b[1;33m(\u001b[0m\u001b[1;33m*\u001b[0m\u001b[0margs\u001b[0m\u001b[1;33m,\u001b[0m \u001b[1;33m**\u001b[0m\u001b[0mkwargs\u001b[0m\u001b[1;33m)\u001b[0m\u001b[1;33m\u001b[0m\u001b[1;33m\u001b[0m\u001b[0m\n\u001b[0m\u001b[0;32m    142\u001b[0m \u001b[1;33m\u001b[0m\u001b[0m\n\u001b[0;32m    143\u001b[0m \u001b[1;33m\u001b[0m\u001b[0m\n",
      "\u001b[1;32m~\\anaconda3\\lib\\urllib\\request.py\u001b[0m in \u001b[0;36murlopen\u001b[1;34m(url, data, timeout, cafile, capath, cadefault, context)\u001b[0m\n\u001b[0;32m    220\u001b[0m     \u001b[1;32melse\u001b[0m\u001b[1;33m:\u001b[0m\u001b[1;33m\u001b[0m\u001b[1;33m\u001b[0m\u001b[0m\n\u001b[0;32m    221\u001b[0m         \u001b[0mopener\u001b[0m \u001b[1;33m=\u001b[0m \u001b[0m_opener\u001b[0m\u001b[1;33m\u001b[0m\u001b[1;33m\u001b[0m\u001b[0m\n\u001b[1;32m--> 222\u001b[1;33m     \u001b[1;32mreturn\u001b[0m \u001b[0mopener\u001b[0m\u001b[1;33m.\u001b[0m\u001b[0mopen\u001b[0m\u001b[1;33m(\u001b[0m\u001b[0murl\u001b[0m\u001b[1;33m,\u001b[0m \u001b[0mdata\u001b[0m\u001b[1;33m,\u001b[0m \u001b[0mtimeout\u001b[0m\u001b[1;33m)\u001b[0m\u001b[1;33m\u001b[0m\u001b[1;33m\u001b[0m\u001b[0m\n\u001b[0m\u001b[0;32m    223\u001b[0m \u001b[1;33m\u001b[0m\u001b[0m\n\u001b[0;32m    224\u001b[0m \u001b[1;32mdef\u001b[0m \u001b[0minstall_opener\u001b[0m\u001b[1;33m(\u001b[0m\u001b[0mopener\u001b[0m\u001b[1;33m)\u001b[0m\u001b[1;33m:\u001b[0m\u001b[1;33m\u001b[0m\u001b[1;33m\u001b[0m\u001b[0m\n",
      "\u001b[1;32m~\\anaconda3\\lib\\urllib\\request.py\u001b[0m in \u001b[0;36mopen\u001b[1;34m(self, fullurl, data, timeout)\u001b[0m\n\u001b[0;32m    523\u001b[0m             \u001b[0mreq\u001b[0m \u001b[1;33m=\u001b[0m \u001b[0mmeth\u001b[0m\u001b[1;33m(\u001b[0m\u001b[0mreq\u001b[0m\u001b[1;33m)\u001b[0m\u001b[1;33m\u001b[0m\u001b[1;33m\u001b[0m\u001b[0m\n\u001b[0;32m    524\u001b[0m \u001b[1;33m\u001b[0m\u001b[0m\n\u001b[1;32m--> 525\u001b[1;33m         \u001b[0mresponse\u001b[0m \u001b[1;33m=\u001b[0m \u001b[0mself\u001b[0m\u001b[1;33m.\u001b[0m\u001b[0m_open\u001b[0m\u001b[1;33m(\u001b[0m\u001b[0mreq\u001b[0m\u001b[1;33m,\u001b[0m \u001b[0mdata\u001b[0m\u001b[1;33m)\u001b[0m\u001b[1;33m\u001b[0m\u001b[1;33m\u001b[0m\u001b[0m\n\u001b[0m\u001b[0;32m    526\u001b[0m \u001b[1;33m\u001b[0m\u001b[0m\n\u001b[0;32m    527\u001b[0m         \u001b[1;31m# post-process response\u001b[0m\u001b[1;33m\u001b[0m\u001b[1;33m\u001b[0m\u001b[1;33m\u001b[0m\u001b[0m\n",
      "\u001b[1;32m~\\anaconda3\\lib\\urllib\\request.py\u001b[0m in \u001b[0;36m_open\u001b[1;34m(self, req, data)\u001b[0m\n\u001b[0;32m    541\u001b[0m         \u001b[0mprotocol\u001b[0m \u001b[1;33m=\u001b[0m \u001b[0mreq\u001b[0m\u001b[1;33m.\u001b[0m\u001b[0mtype\u001b[0m\u001b[1;33m\u001b[0m\u001b[1;33m\u001b[0m\u001b[0m\n\u001b[0;32m    542\u001b[0m         result = self._call_chain(self.handle_open, protocol, protocol +\n\u001b[1;32m--> 543\u001b[1;33m                                   '_open', req)\n\u001b[0m\u001b[0;32m    544\u001b[0m         \u001b[1;32mif\u001b[0m \u001b[0mresult\u001b[0m\u001b[1;33m:\u001b[0m\u001b[1;33m\u001b[0m\u001b[1;33m\u001b[0m\u001b[0m\n\u001b[0;32m    545\u001b[0m             \u001b[1;32mreturn\u001b[0m \u001b[0mresult\u001b[0m\u001b[1;33m\u001b[0m\u001b[1;33m\u001b[0m\u001b[0m\n",
      "\u001b[1;32m~\\anaconda3\\lib\\urllib\\request.py\u001b[0m in \u001b[0;36m_call_chain\u001b[1;34m(self, chain, kind, meth_name, *args)\u001b[0m\n\u001b[0;32m    501\u001b[0m         \u001b[1;32mfor\u001b[0m \u001b[0mhandler\u001b[0m \u001b[1;32min\u001b[0m \u001b[0mhandlers\u001b[0m\u001b[1;33m:\u001b[0m\u001b[1;33m\u001b[0m\u001b[1;33m\u001b[0m\u001b[0m\n\u001b[0;32m    502\u001b[0m             \u001b[0mfunc\u001b[0m \u001b[1;33m=\u001b[0m \u001b[0mgetattr\u001b[0m\u001b[1;33m(\u001b[0m\u001b[0mhandler\u001b[0m\u001b[1;33m,\u001b[0m \u001b[0mmeth_name\u001b[0m\u001b[1;33m)\u001b[0m\u001b[1;33m\u001b[0m\u001b[1;33m\u001b[0m\u001b[0m\n\u001b[1;32m--> 503\u001b[1;33m             \u001b[0mresult\u001b[0m \u001b[1;33m=\u001b[0m \u001b[0mfunc\u001b[0m\u001b[1;33m(\u001b[0m\u001b[1;33m*\u001b[0m\u001b[0margs\u001b[0m\u001b[1;33m)\u001b[0m\u001b[1;33m\u001b[0m\u001b[1;33m\u001b[0m\u001b[0m\n\u001b[0m\u001b[0;32m    504\u001b[0m             \u001b[1;32mif\u001b[0m \u001b[0mresult\u001b[0m \u001b[1;32mis\u001b[0m \u001b[1;32mnot\u001b[0m \u001b[1;32mNone\u001b[0m\u001b[1;33m:\u001b[0m\u001b[1;33m\u001b[0m\u001b[1;33m\u001b[0m\u001b[0m\n\u001b[0;32m    505\u001b[0m                 \u001b[1;32mreturn\u001b[0m \u001b[0mresult\u001b[0m\u001b[1;33m\u001b[0m\u001b[1;33m\u001b[0m\u001b[0m\n",
      "\u001b[1;32m~\\anaconda3\\lib\\urllib\\request.py\u001b[0m in \u001b[0;36mhttp_open\u001b[1;34m(self, req)\u001b[0m\n\u001b[0;32m   1345\u001b[0m \u001b[1;33m\u001b[0m\u001b[0m\n\u001b[0;32m   1346\u001b[0m     \u001b[1;32mdef\u001b[0m \u001b[0mhttp_open\u001b[0m\u001b[1;33m(\u001b[0m\u001b[0mself\u001b[0m\u001b[1;33m,\u001b[0m \u001b[0mreq\u001b[0m\u001b[1;33m)\u001b[0m\u001b[1;33m:\u001b[0m\u001b[1;33m\u001b[0m\u001b[1;33m\u001b[0m\u001b[0m\n\u001b[1;32m-> 1347\u001b[1;33m         \u001b[1;32mreturn\u001b[0m \u001b[0mself\u001b[0m\u001b[1;33m.\u001b[0m\u001b[0mdo_open\u001b[0m\u001b[1;33m(\u001b[0m\u001b[0mhttp\u001b[0m\u001b[1;33m.\u001b[0m\u001b[0mclient\u001b[0m\u001b[1;33m.\u001b[0m\u001b[0mHTTPConnection\u001b[0m\u001b[1;33m,\u001b[0m \u001b[0mreq\u001b[0m\u001b[1;33m)\u001b[0m\u001b[1;33m\u001b[0m\u001b[1;33m\u001b[0m\u001b[0m\n\u001b[0m\u001b[0;32m   1348\u001b[0m \u001b[1;33m\u001b[0m\u001b[0m\n\u001b[0;32m   1349\u001b[0m     \u001b[0mhttp_request\u001b[0m \u001b[1;33m=\u001b[0m \u001b[0mAbstractHTTPHandler\u001b[0m\u001b[1;33m.\u001b[0m\u001b[0mdo_request_\u001b[0m\u001b[1;33m\u001b[0m\u001b[1;33m\u001b[0m\u001b[0m\n",
      "\u001b[1;32m~\\anaconda3\\lib\\urllib\\request.py\u001b[0m in \u001b[0;36mdo_open\u001b[1;34m(self, http_class, req, **http_conn_args)\u001b[0m\n\u001b[0;32m   1319\u001b[0m                           encode_chunked=req.has_header('Transfer-encoding'))\n\u001b[0;32m   1320\u001b[0m             \u001b[1;32mexcept\u001b[0m \u001b[0mOSError\u001b[0m \u001b[1;32mas\u001b[0m \u001b[0merr\u001b[0m\u001b[1;33m:\u001b[0m \u001b[1;31m# timeout error\u001b[0m\u001b[1;33m\u001b[0m\u001b[1;33m\u001b[0m\u001b[0m\n\u001b[1;32m-> 1321\u001b[1;33m                 \u001b[1;32mraise\u001b[0m \u001b[0mURLError\u001b[0m\u001b[1;33m(\u001b[0m\u001b[0merr\u001b[0m\u001b[1;33m)\u001b[0m\u001b[1;33m\u001b[0m\u001b[1;33m\u001b[0m\u001b[0m\n\u001b[0m\u001b[0;32m   1322\u001b[0m             \u001b[0mr\u001b[0m \u001b[1;33m=\u001b[0m \u001b[0mh\u001b[0m\u001b[1;33m.\u001b[0m\u001b[0mgetresponse\u001b[0m\u001b[1;33m(\u001b[0m\u001b[1;33m)\u001b[0m\u001b[1;33m\u001b[0m\u001b[1;33m\u001b[0m\u001b[0m\n\u001b[0;32m   1323\u001b[0m         \u001b[1;32mexcept\u001b[0m\u001b[1;33m:\u001b[0m\u001b[1;33m\u001b[0m\u001b[1;33m\u001b[0m\u001b[0m\n",
      "\u001b[1;31mURLError\u001b[0m: <urlopen error [Errno 11001] getaddrinfo failed>"
     ]
    }
   ],
   "source": [
    "df = pd.read_csv('http://stamfordresearch.com/wp-content/uploads/2016/08/Titanic.csv') \n",
    "print(df.shape)\n",
    "df.head()"
   ]
  },
  {
   "cell_type": "code",
   "execution_count": null,
   "metadata": {},
   "outputs": [],
   "source": [
    "df.columns"
   ]
  },
  {
   "cell_type": "markdown",
   "metadata": {},
   "source": [
    "# Zadanie 6\n",
    "\n",
    "Usuń kolumny: \"PassengerId\", \"Name\" i \"Ticket\".\n",
    "\n",
    "Powody:\n",
    "\n",
    "  * PassengerId - jest to unikalny numer\n",
    "  * Imię - nie ma wpływu na predykcje\n",
    "  * Bilet - wygląda niechlujnie i jest losowe"
   ]
  },
  {
   "cell_type": "code",
   "execution_count": null,
   "metadata": {},
   "outputs": [],
   "source": [
    "del df['PassengerId']\n",
    "del df['Name']\n",
    "del df ['Ticket']\n",
    "\n",
    "df.head()"
   ]
  },
  {
   "cell_type": "markdown",
   "metadata": {},
   "source": [
    "# Następnie musimy spojrzeć na kolumnę Cabin.\n",
    "\n",
    "Następnie musimy spojrzeć na kolumnę Cabin. Będziemy leniwi i zmienimy wartości na Tak lub Nie (w zależności czy posiadał kabinę). Lepszym sposobem na to może być podzielenie opisu tak aby uzyskać pierwszą literę, ponieważ zwykle oznacza ona, na którym pokładzie znajdowała się kabina. Może to być użyteczne przy predykcji (ale my na razie jej nie wykonujemy)."
   ]
  },
  {
   "cell_type": "code",
   "execution_count": null,
   "metadata": {},
   "outputs": [],
   "source": [
    "df.loc[df.Cabin.isnull()]"
   ]
  },
  {
   "cell_type": "markdown",
   "metadata": {},
   "source": [
    "# Zadanie 7\n",
    "Utwórz nową kolumną o nazwie HasCabin, która zawiera 1 jeżeli ktoś miał swoją kabinę i 0 jeśli nie."
   ]
  },
  {
   "cell_type": "code",
   "execution_count": null,
   "metadata": {},
   "outputs": [],
   "source": [
    "df['HasCabin'] = 0\n",
    "for i in range(len(df.index)):\n",
    "    if pd.isna(df.at[i, 'Cabin']) == 0:\n",
    "        df.at[i, 'HasCabin'] = 1\n",
    "        \n",
    "df.head()"
   ]
  },
  {
   "cell_type": "markdown",
   "metadata": {},
   "source": [
    "# Zadanie 8\n",
    "Usuń brakujące wartości"
   ]
  },
  {
   "cell_type": "code",
   "execution_count": null,
   "metadata": {},
   "outputs": [],
   "source": [
    "df = df.dropna()\n",
    "df.head()"
   ]
  },
  {
   "cell_type": "markdown",
   "metadata": {},
   "source": [
    "# Matplotlib - rysowanie wykresów w Pythonie\n",
    "\n",
    "**Matplotlib** jest biblioteką do tworzenia wysokiej jakości wykresów dla języka Python i jego rozszerzenia numerycznego NumPy. Umożliwia prezentację danych w różnych formatach (np. PNG, PDF, XLS). Zapewnia kontrolę nad wyglądem, stylami i właściwościami wykresów, pracę w środowisku interaktywnym, jak i możliwość osadzania wyników w aplikacjach destkopowych czy webowych.\n",
    "\n",
    "Funkcje i narzędzia tej biblioteki są napisane w taki sposób aby jak najbardziej odzwierciedlały metody rysowania wykresów z języka MatLab, dzięki czemu użytkownicy Matlaba w łatwy sposób mogą przenieść się do języka Python.\n",
    "Niektóre zalety korzystania z Pythona, NumPy i matplotlib nad MatLabem:\n",
    "  \n",
    "  * nowoczesny język programowania w pełni funkcjonalny obiektowo, odpowiedni do tworzenia oprogramowania na dużą skalę,\n",
    "  * darmowy (open source),\n",
    "  * wsparcie SVG.\n",
    "\n",
    "Aby skorzystać z biblioteki matplotlib należy ją wcześniej zaimportować, np.:"
   ]
  },
  {
   "cell_type": "code",
   "execution_count": 78,
   "metadata": {},
   "outputs": [],
   "source": [
    "import matplotlib.pyplot as plt\n",
    "# from matplotlib import pyplot as plt\n",
    "\n",
    "%matplotlib inline"
   ]
  },
  {
   "cell_type": "markdown",
   "metadata": {},
   "source": [
    "# Pierwszy wykres"
   ]
  },
  {
   "cell_type": "code",
   "execution_count": 79,
   "metadata": {},
   "outputs": [
    {
     "data": {
      "image/png": "[encoded data removed]",
      "text/plain": [
       "<Figure size 432x288 with 1 Axes>"
      ]
     },
     "metadata": {
      "needs_background": "light"
     },
     "output_type": "display_data"
    }
   ],
   "source": [
    "plt.plot([1, 5, 2, 7, 4, 1]) # wartości funkcji\n",
    "plt.show()"
   ]
  },
  {
   "cell_type": "code",
   "execution_count": 80,
   "metadata": {},
   "outputs": [
    {
     "data": {
      "image/png": "[encoded data removed]",
      "text/plain": [
       "<Figure size 432x288 with 1 Axes>"
      ]
     },
     "metadata": {
      "needs_background": "light"
     },
     "output_type": "display_data"
    }
   ],
   "source": [
    "plt.plot([1, 2, 4, 7], [-1, 3, -2, 10])\n",
    "plt.show()"
   ]
  },
  {
   "cell_type": "markdown",
   "metadata": {},
   "source": [
    "Własności wykresów\n",
    "Za pomocą specjalnych poleceń można też zmieniać właściwości wykresów, takie jak np.: rodzaj linii, kolor, czy też symbole punktów.\n",
    "Rodzaje linii:\n",
    "  \n",
    "  * **\\-** - ciągła,\n",
    "  * **:** - punktowa,\n",
    "  * **-.** - kropka-kreska,\n",
    "  * **--** - kreskowana.\n",
    "\n",
    "Kolory:\n",
    "\n",
    "  * **y** - yellow,\n",
    "  * **m** - magenta,\n",
    "  * **c** - cyan,\n",
    "  * **r** - red,\n",
    "  * **g** - green,\n",
    "  * **b** - blue,\n",
    "  * **w** - white,\n",
    "  * **k** - black.\n",
    "\n",
    "Symbole:\n",
    "\n",
    "  * **.** - punkt,\n",
    "  * **o** - kółko,\n",
    "  * **x** - x,\n",
    "  * **\\+** - plus,\n",
    "  * ** \\* ** - gwiazdka,\n",
    "  * **s** - kwadraty,\n",
    "  * **d** - romb,\n",
    "  * **v** - trójkąt w dół,\n",
    "  * **^** - trójkąt w górę,\n",
    "  * **<** - trójkąt w lewo,\n",
    "  * **\\>** - trójkąt w prawo,\n",
    "  * **p** - pięciokąt,\n",
    "  * **h** - sześciokąt."
   ]
  },
  {
   "cell_type": "code",
   "execution_count": 70,
   "metadata": {},
   "outputs": [
    {
     "data": {
      "image/png": "[encoded data removed]",
      "text/plain": [
       "<Figure size 432x288 with 1 Axes>"
      ]
     },
     "metadata": {
      "needs_background": "light"
     },
     "output_type": "display_data"
    }
   ],
   "source": [
    "import numpy as np\n",
    "\n",
    "x = np.arange(0., 5., 0.2)\n",
    "\n",
    "plt.plot(x, x, 'r--', x, x**2, 'bs', x, x**3, 'g^')\n",
    "plt.show()"
   ]
  },
  {
   "cell_type": "code",
   "execution_count": 71,
   "metadata": {},
   "outputs": [
    {
     "data": {
      "image/png": "[encoded data removed]",
      "text/plain": [
       "<Figure size 432x288 with 1 Axes>"
      ]
     },
     "metadata": {
      "needs_background": "light"
     },
     "output_type": "display_data"
    }
   ],
   "source": [
    "x = [1,2,3,4]\n",
    "y = [20, 21, 20.5, 20.8]\n",
    "\n",
    "plt.plot(x, y, linestyle=\"dashed\", marker=\"o\", color=\"green\")\n",
    "\n",
    "# ustawienie granic osi X, \n",
    "plt.xlim(0.5,4.5)\n",
    "plt.ylim(19.8,21.2)\n",
    "\n",
    "plt.show()"
   ]
  },
  {
   "cell_type": "code",
   "execution_count": 72,
   "metadata": {},
   "outputs": [
    {
     "data": {
      "image/png": "[encoded data removed]",
      "text/plain": [
       "<Figure size 432x288 with 1 Axes>"
      ]
     },
     "metadata": {
      "needs_background": "light"
     },
     "output_type": "display_data"
    }
   ],
   "source": [
    "x = np.linspace(0, 20, 1000)\n",
    "y1 = np.sin(x)\n",
    "y2 = np.cos(x)\n",
    "\n",
    "# rozmiar czcionki\n",
    "plt.rc(\"font\", size=10)\n",
    "\n",
    "# dodanie legendy\n",
    "plt.plot(x, y1, '-b', label=r'$\\sin(x)$')\n",
    "plt.plot(x, y2, '-r', label='cosine')\n",
    "plt.legend(loc='upper right') # pozycja legendy\n",
    "# plt.legend(loc='upper left', frameon=False)\n",
    "plt.ylim(-1.5, 2.0)\n",
    "\n",
    "plt.title(\"Dwa wykresy\", size=20)\n",
    "\n",
    "plt.show()"
   ]
  },
  {
   "cell_type": "code",
   "execution_count": null,
   "metadata": {},
   "outputs": [],
   "source": []
  },
  {
   "cell_type": "markdown",
   "metadata": {},
   "source": [
    "Więcej na temat wyszczególnienia obiektów na wykresie odsyłam do dokumntacji: [http://matplotlib.org/users/annotations_guide.html]\n"
   ]
  },
  {
   "cell_type": "markdown",
   "metadata": {},
   "source": [
    "#  Statystyka\n",
    "\n",
    "  * histogram:"
   ]
  },
  {
   "cell_type": "code",
   "execution_count": 73,
   "metadata": {},
   "outputs": [
    {
     "data": {
      "image/png": "[encoded data removed]",
      "text/plain": [
       "<Figure size 432x288 with 1 Axes>"
      ]
     },
     "metadata": {
      "needs_background": "light"
     },
     "output_type": "display_data"
    }
   ],
   "source": [
    "x = np.random.normal(size=200)\n",
    "plt.hist(x,bins=10)\n",
    "plt.show()"
   ]
  },
  {
   "cell_type": "code",
   "execution_count": 74,
   "metadata": {},
   "outputs": [
    {
     "name": "stderr",
     "output_type": "stream",
     "text": [
      "C:\\Users\\Dawid\\anaconda3\\lib\\site-packages\\ipykernel_launcher.py:10: MatplotlibDeprecationWarning: \n",
      "The 'normed' kwarg was deprecated in Matplotlib 2.1 and will be removed in 3.1. Use 'density' instead.\n",
      "  # Remove the CWD from sys.path while we load stuff.\n"
     ]
    },
    {
     "ename": "AttributeError",
     "evalue": "module 'matplotlib.mlab' has no attribute 'normpdf'",
     "output_type": "error",
     "traceback": [
      "\u001b[1;31m---------------------------------------------------------------------------\u001b[0m",
      "\u001b[1;31mAttributeError\u001b[0m                            Traceback (most recent call last)",
      "\u001b[1;32m<ipython-input-74-a4971d204800>\u001b[0m in \u001b[0;36m<module>\u001b[1;34m\u001b[0m\n\u001b[0;32m     11\u001b[0m \u001b[1;33m\u001b[0m\u001b[0m\n\u001b[0;32m     12\u001b[0m \u001b[1;31m# dorysowanie wykresy gęstości na podstawie histogramu i rozkładu\u001b[0m\u001b[1;33m\u001b[0m\u001b[1;33m\u001b[0m\u001b[1;33m\u001b[0m\u001b[0m\n\u001b[1;32m---> 13\u001b[1;33m \u001b[0my\u001b[0m \u001b[1;33m=\u001b[0m \u001b[0mmlab\u001b[0m\u001b[1;33m.\u001b[0m\u001b[0mnormpdf\u001b[0m\u001b[1;33m(\u001b[0m\u001b[0mbins\u001b[0m\u001b[1;33m,\u001b[0m \u001b[0mmu\u001b[0m\u001b[1;33m,\u001b[0m \u001b[0msigma\u001b[0m\u001b[1;33m)\u001b[0m\u001b[1;33m\u001b[0m\u001b[1;33m\u001b[0m\u001b[0m\n\u001b[0m\u001b[0;32m     14\u001b[0m \u001b[0mplt\u001b[0m\u001b[1;33m.\u001b[0m\u001b[0mplot\u001b[0m\u001b[1;33m(\u001b[0m\u001b[0mbins\u001b[0m\u001b[1;33m,\u001b[0m \u001b[0my\u001b[0m\u001b[1;33m,\u001b[0m \u001b[1;34m'r--'\u001b[0m\u001b[1;33m,\u001b[0m \u001b[0mlinewidth\u001b[0m\u001b[1;33m=\u001b[0m\u001b[1;36m2\u001b[0m\u001b[1;33m)\u001b[0m\u001b[1;33m\u001b[0m\u001b[1;33m\u001b[0m\u001b[0m\n\u001b[0;32m     15\u001b[0m \u001b[0mplt\u001b[0m\u001b[1;33m.\u001b[0m\u001b[0mylabel\u001b[0m\u001b[1;33m(\u001b[0m\u001b[1;34m'Prawdopodobienstwo'\u001b[0m\u001b[1;33m)\u001b[0m\u001b[1;33m\u001b[0m\u001b[1;33m\u001b[0m\u001b[0m\n",
      "\u001b[1;31mAttributeError\u001b[0m: module 'matplotlib.mlab' has no attribute 'normpdf'"
     ]
    },
    {
     "data": {
      "image/png": "[encoded data removed]",
      "text/plain": [
       "<Figure size 432x288 with 1 Axes>"
      ]
     },
     "metadata": {
      "needs_background": "light"
     },
     "output_type": "display_data"
    }
   ],
   "source": [
    "import matplotlib.mlab as mlab\n",
    "\n",
    "mu = 10  \n",
    "sigma = 15 \n",
    "x = mu + sigma * np.random.randn(10000)\n",
    "\n",
    "num_bins = 30\n",
    "\n",
    "# alpha - określa przeźroczystość w skali od 0 do 1\n",
    "n, bins, patches = plt.hist(x, num_bins, normed=True, facecolor='blue', alpha=0.5)\n",
    "\n",
    "# dorysowanie wykresy gęstości na podstawie histogramu i rozkładu\n",
    "y = mlab.normpdf(bins, mu, sigma)\n",
    "plt.plot(bins, y, 'r--', linewidth=2)\n",
    "plt.ylabel('Prawdopodobienstwo')\n",
    "plt.title(r'Histogram: $\\mu=10$, $\\sigma=15$')\n",
    "\n",
    "plt.show()"
   ]
  },
  {
   "cell_type": "markdown",
   "metadata": {},
   "source": [
    "  * wykresy słupkowe"
   ]
  },
  {
   "cell_type": "code",
   "execution_count": null,
   "metadata": {},
   "outputs": [],
   "source": [
    "x = [5,8,10]\n",
    "y = [12,16,6]\n",
    "\n",
    "x2 = [6,9,11]\n",
    "y2 = [6,15,7]\n",
    "\n",
    "\n",
    "plt.bar(x, y, align='center')\n",
    "\n",
    "plt.bar(x2, y2, color='r', align='edge')\n",
    "\n",
    "plt.xlabel('X')\n",
    "plt.ylabel('Y')\n",
    "\n",
    "plt.show()"
   ]
  },
  {
   "cell_type": "markdown",
   "metadata": {},
   "source": [
    "  * wykresy punktowe:"
   ]
  },
  {
   "cell_type": "code",
   "execution_count": null,
   "metadata": {},
   "outputs": [],
   "source": [
    "n = 1000\n",
    "X = np.random.normal(0,1,n)\n",
    "Y = np.random.normal(0,1,n)\n",
    "\n",
    "plt.scatter(X,Y)\n",
    "plt.show()"
   ]
  },
  {
   "cell_type": "markdown",
   "metadata": {},
   "source": [
    "# Wykresy izoliniowe"
   ]
  },
  {
   "cell_type": "code",
   "execution_count": null,
   "metadata": {},
   "outputs": [],
   "source": [
    "plt.close('all')\n",
    "import matplotlib.mlab as mlab\n",
    "\n",
    "delta = 0.025\n",
    "x = np.arange(-3.0, 3.0, delta)\n",
    "y = np.arange(-2.0, 2.0, delta)\n",
    "X, Y = np.meshgrid(x, y)\n",
    "\n",
    "Z1 = mlab.bivariate_normal(X, Y, 1.0, 1.0, 0.0, 0.0)\n",
    "Z2 = mlab.bivariate_normal(X, Y, 1.5, 0.5, 1, 1)\n",
    "Z = 10.0 * (Z2 - Z1)\n",
    "\n",
    "CS = plt.contour(X, Y, Z)\n",
    "plt.clabel(CS, inline=1, fontsize=10)\n",
    "\n",
    "plt.show()"
   ]
  },
  {
   "cell_type": "markdown",
   "metadata": {},
   "source": [
    "# Zadanie 9\n",
    "\n",
    "\n",
    "## Reguła Trzech Sigm\n",
    "Reguła Trzech Sigm dla danego rozkładu normalnego $N(mean,\\sigma)$ oznacza, że w przedziale $[mean-3\\sigma,mean+3\\sigma]$ znajduje się 99.7\\% wszystkich obserwacji.\n",
    "\n",
    "Napisz program, który:\n",
    "\n",
    "  * rysuje gęstość rozkładu normalnego o zadanych parametrach $mean$ i $\\sigma$,\n",
    "  * wylicza pole pod krzywą\n",
    "  * zaznacza obszar po krzywą\n",
    "\n",
    "Policz prawdopodobieństwa:\n",
    "\n",
    "  * $P(X \\in [mean-\\sigma,mean+\\sigma])$\n",
    "  * $P(X \\in [mean-2\\sigma,mean+2\\sigma])$\n",
    "  * $P(X \\in [mean-3\\sigma,mean+3\\sigma])$\n",
    "\n"
   ]
  },
  {
   "cell_type": "code",
   "execution_count": 75,
   "metadata": {},
   "outputs": [
    {
     "data": {
      "image/png": "[encoded data removed]",
      "text/plain": [
       "<Figure size 432x288 with 1 Axes>"
      ]
     },
     "metadata": {
      "needs_background": "light"
     },
     "output_type": "display_data"
    },
    {
     "name": "stdout",
     "output_type": "stream",
     "text": [
      "1.0000000000000004\n"
     ]
    }
   ],
   "source": [
    "import numpy as np\n",
    "import matplotlib.pyplot as plt\n",
    "import scipy.stats as stats\n",
    "import math\n",
    "\n",
    "def drawN(mean, sigma, w):\n",
    "    x = np.linspace(mean - w, mean + w, 100)\n",
    "    plt.fill(x,stats.norm.pdf(x, mean, sigma))\n",
    "    plt.plot(x, stats.norm.pdf(x, mean, sigma))\n",
    "    plt.show()\n",
    "    \n",
    "def integrate(mean, sigma, a, b):\n",
    "    x = a\n",
    "    dx = 0.01\n",
    "    I = 0\n",
    "    while x<b:\n",
    "        I += stats.norm.pdf(x, mean, sigma)*dx\n",
    "        x += dx\n",
    "    return I\n",
    "\n",
    "drawN(0,2,10)\n",
    "\n",
    "print(integrate(0,1, -50., 50.))"
   ]
  },
  {
   "cell_type": "code",
   "execution_count": 81,
   "metadata": {},
   "outputs": [
    {
     "name": "stdout",
     "output_type": "stream",
     "text": [
      "0.6826854592782338 0.9544979364077563 0.9973443008306536\n"
     ]
    }
   ],
   "source": [
    "def prob(mean, sigma, n):\n",
    "    return integrate(mean, sigma, mean-n*sigma, mean+n*sigma)\n",
    "\n",
    "print(prob(0,1,1), prob(0,1,2), prob(0,1,3))"
   ]
  },
  {
   "cell_type": "code",
   "execution_count": null,
   "metadata": {},
   "outputs": [],
   "source": []
  }
 ],
 "metadata": {
  "kernelspec": {
   "display_name": "Python 3",
   "language": "python",
   "name": "python3"
  },
  "language_info": {
   "codemirror_mode": {
    "name": "ipython",
    "version": 3
   },
   "file_extension": ".py",
   "mimetype": "text/x-python",
   "name": "python",
   "nbconvert_exporter": "python",
   "pygments_lexer": "ipython3",
   "version": "3.7.6"
  }
 },
 "nbformat": 4,
 "nbformat_minor": 2
}
