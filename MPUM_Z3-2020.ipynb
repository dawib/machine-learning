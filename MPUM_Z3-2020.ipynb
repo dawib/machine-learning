{
 "cells": [
  {
   "cell_type": "markdown",
   "metadata": {},
   "source": [
    "\n",
    "\n",
    "\n",
    "\n",
    "\n",
    "\n",
    "\n",
    "\n",
    "\n",
    "\n",
    "\n",
    "\n",
    "\n",
    "\n",
    "\n",
    "\n",
    "\n",
    "\n",
    "\n",
    "\n",
    "\n",
    "\n",
    "\n",
    "\n",
    "\n",
    "\n",
    "\n",
    "\n",
    "\n",
    "\n",
    "\n",
    "\n",
    "\n",
    "\n",
    "\n",
    "\n",
    "\n",
    "\n",
    "\n",
    "\n",
    "\n",
    "\n",
    "\n",
    "\n",
    "\n",
    "\n",
    "\n",
    "\n",
    "\n",
    "\n",
    "\n",
    "\n",
    "\n",
    "\n",
    "\n",
    "\n",
    "\n",
    "\n",
    "# Zadanie 1"
   ]
  },
  {
   "cell_type": "markdown",
   "metadata": {
    "collapsed": true
   },
   "source": [
    "Wczytaj dane z pliku dab.csv oraz wyznacz równanie regresji obajśniającej wiek drzewa. Znajdź współczynniki regresji rozwiązując równanie normalne  $X^TX=X^Ty$ (np. funkcją solve z numpy.linalg) . Wcześniej odpowiednio przygotuj dane do pracy. Wyniki zilustruj odpowiednim rysunkiem.\n",
    "\n"
   ]
  },
  {
   "cell_type": "code",
   "execution_count": 20,
   "metadata": {},
   "outputs": [],
   "source": [
    "import numpy as np\n",
    "import pandas as pd\n",
    "\n",
    "data = pd.read_csv(\"dab.csv\", delimiter=',')\n",
    "#data.head()"
   ]
  },
  {
   "cell_type": "code",
   "execution_count": 21,
   "metadata": {},
   "outputs": [],
   "source": [
    "data = data.dropna(axis = 0)\n",
    "\n",
    "y = data['wiek'].values.astype(float)[np.newaxis].T\n",
    "\n",
    "X = data['srednica'].values.astype(float)[np.newaxis].T\n",
    "\n",
    "one = np.ones((12,1))\n",
    "X = np.concatenate((one,X), axis=1)\n",
    "X = X.astype(float)\n",
    "#print(X)\n",
    "#print(y)"
   ]
  },
  {
   "cell_type": "code",
   "execution_count": 22,
   "metadata": {},
   "outputs": [
    {
     "name": "stdout",
     "output_type": "stream",
     "text": [
      "[12.72494172  0.88951049]\n"
     ]
    }
   ],
   "source": [
    "A = np.dot(X.T,X)\n",
    "B = np.dot(X.T,y)\n",
    "#print(A)\n",
    "#print(B)\n",
    "\n",
    "beta = np.linalg.solve(A,B).flatten()\n",
    "print(beta)"
   ]
  },
  {
   "cell_type": "code",
   "execution_count": 23,
   "metadata": {},
   "outputs": [],
   "source": [
    "import matplotlib.pyplot as plt\n",
    "%matplotlib inline"
   ]
  },
  {
   "cell_type": "code",
   "execution_count": 24,
   "metadata": {},
   "outputs": [
    {
     "data": {
      "image/png": "[encoded data removed]",
      "text/plain": [
       "<Figure size 432x288 with 1 Axes>"
      ]
     },
     "metadata": {
      "needs_background": "light"
     },
     "output_type": "display_data"
    }
   ],
   "source": [
    "x_val = data['srednica'].values\n",
    "y_val = data['wiek'].values\n",
    "y_pred0 = beta[0]+beta[1]*x_val\n",
    "plt.plot(x_val, y_val, 'gs')\n",
    "\n",
    "X_val = np.linspace(0,150,100)\n",
    "Y_val = beta[0] + beta[1]*X_val\n",
    "plt.plot(X_val,Y_val, '-r')\n",
    "\n",
    "plt.show()"
   ]
  },
  {
   "cell_type": "markdown",
   "metadata": {},
   "source": [
    "Wiele modeli uczenia maszynowego można znaleźć w bibliotece $\\verb+sklearn+ $.\n",
    "W szczeolności regresję liniową można trenować przy użyciu funkcji $\\texttt{LinearRegression()}$ z podbiblioteki $\\verb+sklearn.linear_model+$."
   ]
  },
  {
   "cell_type": "code",
   "execution_count": 25,
   "metadata": {},
   "outputs": [],
   "source": [
    "from sklearn.linear_model import LinearRegression\n",
    "#model = LinearRegression()\n",
    "#model.fit(X_train,y_train)\n",
    "#y_pred = model.predict(X_test)"
   ]
  },
  {
   "cell_type": "markdown",
   "metadata": {},
   "source": [
    "# Zadanie 2"
   ]
  },
  {
   "cell_type": "markdown",
   "metadata": {},
   "source": [
    "Proszę wprowadzić sztuczne dane ($x_i,y_i$, dla $n=1000$) będące zaburzeniem losowym funkcji $x^2$ na odcinku $[-1,1]$ (czyli $y_i-x_i^2$ są próbą losową o średniej $0$). \n",
    "Następnie proszę podzielić zbiór danych na pół zgodnie z porządkiem ($x_i$; może być też względem $0$) oraz wytrenować regresję liniową (bez transformacjizmiennych) używając pierwszej części danych. \n",
    "Proszę podać współczynniki modelu.\n",
    "Proszę obliczyć średni błąd ($\\frac{\\sum_{i=1}^{n/2}(\\hat{y_i}-y_i)^2}{n/2}$) wartości dopasowanych dla danych treningowych (pierwszej części) oraz testowych (druga część).\n"
   ]
  },
  {
   "cell_type": "code",
   "execution_count": 26,
   "metadata": {},
   "outputs": [
    {
     "data": {
      "image/png": "[encoded data removed]",
      "text/plain": [
       "<Figure size 432x288 with 1 Axes>"
      ]
     },
     "metadata": {
      "needs_background": "light"
     },
     "output_type": "display_data"
    }
   ],
   "source": [
    "N = 1000\n",
    "\n",
    "X = np.sort(2*np.random.rand(N)-1)\n",
    "#print(X)\n",
    "\n",
    "sigma = 0.2\n",
    "y = sigma*np.random.randn(N)+X**2\n",
    "#print(Y)\n",
    "\n",
    "plt.plot(X,y, 'r+')\n",
    "plt.show()"
   ]
  },
  {
   "cell_type": "code",
   "execution_count": 27,
   "metadata": {},
   "outputs": [
    {
     "name": "stdout",
     "output_type": "stream",
     "text": [
      "[[-1.09498424]]\n",
      "[-0.20757415]\n"
     ]
    }
   ],
   "source": [
    "from sklearn.linear_model import LinearRegression\n",
    "\n",
    "X_train1, y_train1 = X[:int(N/2)][np.newaxis].T, y[:int(N/2)][np.newaxis].T\n",
    "X_test1, y_test1 = X[int(N/2):][np.newaxis].T, y[int(N/2):][np.newaxis].T\n",
    "\n",
    "model = LinearRegression()\n",
    "model.fit(X_train1,y_train1)\n",
    "\n",
    "print(model.coef_)\n",
    "print(model.intercept_)"
   ]
  },
  {
   "cell_type": "code",
   "execution_count": 28,
   "metadata": {},
   "outputs": [
    {
     "name": "stdout",
     "output_type": "stream",
     "text": [
      "[[1.45050928]]\n"
     ]
    }
   ],
   "source": [
    "y_pred1 = model.predict(X_test1)\n",
    "\n",
    "err = np.dot((y_test1-y_pred1).T,(y_test1-y_pred1))/(N/2)\n",
    "print(err)"
   ]
  },
  {
   "cell_type": "markdown",
   "metadata": {},
   "source": [
    "Biblioteka $\\texttt{sklearn}$ zapewnia również funkcję do automatycznego dzielenia zbioru dancyh train_test_split.\n",
    "Natomiast funkcja $\\texttt{r2_score}$ ($\\texttt{sklearn.metrics}$) zapewnia możliwość obliczenia $R^2$. "
   ]
  },
  {
   "cell_type": "markdown",
   "metadata": {},
   "source": [
    "# Zadanie 3"
   ]
  },
  {
   "cell_type": "markdown",
   "metadata": {},
   "source": [
    "Proszę użyć powyższej funkcji i przy jej pomocy dokonać podziału zbiorów danych z Zadania 2 oraz (powtórzyć resztę zadania).\n",
    "Oblicz $R^2$ dla dopasowania modelu w tym zadaniu oraz w poprzednim."
   ]
  },
  {
   "cell_type": "code",
   "execution_count": 29,
   "metadata": {},
   "outputs": [
    {
     "name": "stdout",
     "output_type": "stream",
     "text": [
      "[[-0.08445294]]\n",
      "[0.32469119]\n",
      "error:  [[0.13990035]]\n"
     ]
    },
    {
     "data": {
      "image/png": "[encoded data removed]",
      "text/plain": [
       "<Figure size 432x288 with 1 Axes>"
      ]
     },
     "metadata": {
      "needs_background": "light"
     },
     "output_type": "display_data"
    }
   ],
   "source": [
    "from sklearn.model_selection import train_test_split\n",
    "\n",
    "X_train2, X_test2, y_train2, y_test2 = train_test_split(X[np.newaxis].T,y[np.newaxis].T, test_size=0.5)\n",
    "\n",
    "model2 = LinearRegression()\n",
    "model2.fit(X_train2,y_train2)\n",
    "\n",
    "print(model2.coef_)\n",
    "print(model2.intercept_)\n",
    "\n",
    "y_pred2 = model2.predict(X_test2)\n",
    "\n",
    "err = np.dot((y_test2-y_pred2).T,(y_test2-y_pred2))/(N/2)\n",
    "print(\"error: \",err)\n",
    "\n",
    "plt.plot(X,y, 'r+')\n",
    "plt.plot(X_test1, y_pred1)\n",
    "plt.plot(X_test2, y_pred2)\n",
    "plt.show()"
   ]
  },
  {
   "cell_type": "code",
   "execution_count": 30,
   "metadata": {},
   "outputs": [
    {
     "name": "stdout",
     "output_type": "stream",
     "text": [
      "-10.55173641613867\n",
      "-0.006491917625067289\n"
     ]
    }
   ],
   "source": [
    "from sklearn import metrics\n",
    "\n",
    "print(metrics.r2_score(y_test1,y_pred1))\n",
    "print(metrics.r2_score(y_test2,y_pred2))"
   ]
  },
  {
   "cell_type": "markdown",
   "metadata": {},
   "source": [
    "# Zadanie 4"
   ]
  },
  {
   "cell_type": "code",
   "execution_count": 31,
   "metadata": {},
   "outputs": [
    {
     "ename": "SyntaxError",
     "evalue": "invalid syntax (<ipython-input-31-84712bfb5b83>, line 1)",
     "output_type": "error",
     "traceback": [
      "\u001b[1;36m  File \u001b[1;32m\"<ipython-input-31-84712bfb5b83>\"\u001b[1;36m, line \u001b[1;32m1\u001b[0m\n\u001b[1;33m    Dla modeli z zadania 1 i 2 oblicz średni błąd kwadratowy (mean_squared_error) oraz średni błąd bezwzględny (mean_absolute_error).\u001b[0m\n\u001b[1;37m             ^\u001b[0m\n\u001b[1;31mSyntaxError\u001b[0m\u001b[1;31m:\u001b[0m invalid syntax\n"
     ]
    }
   ],
   "source": [
    "Dla modeli z zadania 1 i 2 oblicz średni błąd kwadratowy (mean_squared_error) oraz średni błąd bezwzględny (mean_absolute_error).\n",
    "Następnie narysuj histogram błędów.\n"
   ]
  },
  {
   "cell_type": "code",
   "execution_count": 32,
   "metadata": {},
   "outputs": [
    {
     "name": "stdout",
     "output_type": "stream",
     "text": [
      "5.84110334110333\n",
      "1.77156177156177\n",
      "1.4505092841087361\n",
      "1.0232637081163374\n"
     ]
    }
   ],
   "source": [
    "print(metrics.mean_squared_error(y_val, y_pred0))\n",
    "print(metrics.mean_absolute_error(y_val, y_pred0))\n",
    "\n",
    "print(metrics.mean_squared_error(y_test1, y_pred1))\n",
    "print(metrics.mean_absolute_error(y_test1, y_pred1))\n"
   ]
  },
  {
   "cell_type": "code",
   "execution_count": 33,
   "metadata": {},
   "outputs": [],
   "source": [
    "# Zadanie 5\n",
    "\n"
   ]
  },
  {
   "cell_type": "markdown",
   "metadata": {},
   "source": [
    "Do danych z zadania 2, dopasuj lepszy model (użyj transformacji zmiennych np. $\\texttt{PolynomialFeatures}$, zrób to ponownie dzieląc zbiór danych na dwie części). \n",
    "Następnie wypisz współczynniki, oblicz $R^2$ oraz średni błąd kwadratowy na obydwy częściach."
   ]
  },
  {
   "cell_type": "code",
   "execution_count": 34,
   "metadata": {},
   "outputs": [],
   "source": [
    "X = X[np.newaxis].T"
   ]
  },
  {
   "cell_type": "code",
   "execution_count": 35,
   "metadata": {},
   "outputs": [],
   "source": [
    "from sklearn.preprocessing import PolynomialFeatures\n",
    "\n",
    "#print(X)\n",
    "poly = PolynomialFeatures(2)\n",
    "X2 = poly.fit_transform(X)\n",
    "#print(X2)\n"
   ]
  },
  {
   "cell_type": "code",
   "execution_count": 36,
   "metadata": {},
   "outputs": [
    {
     "name": "stdout",
     "output_type": "stream",
     "text": [
      "[[ 0.         -0.02136049  0.98891612]]\n",
      "0.7292911028946661\n",
      "0.03859089431192489\n",
      "0.6645208577762651\n",
      "0.042444378785297346\n"
     ]
    }
   ],
   "source": [
    "\n",
    "X_train3, X_test3, y_train3, y_test3 = train_test_split(X2, y[np.newaxis].T, test_size=0.5)\n",
    "\n",
    "model3 = LinearRegression()\n",
    "\n",
    "model3.fit(X_train3,y_train3)\n",
    "print(model3.coef_)\n",
    "\n",
    "y_pred3 = model3.predict(X_test3)\n",
    "print(metrics.r2_score(y_test3, y_pred3))\n",
    "print(metrics.mean_squared_error(y_test3,y_pred3))\n",
    "\n",
    "y_pred3b = model3.predict(X_train3)\n",
    "print(metrics.r2_score(y_train3, y_pred3b))\n",
    "print(metrics.mean_squared_error(y_train3,y_pred3b))\n",
    "\n",
    "#print(y_pred3)"
   ]
  },
  {
   "cell_type": "markdown",
   "metadata": {},
   "source": [
    "# Testowanie krzyżowe"
   ]
  },
  {
   "cell_type": "code",
   "execution_count": 37,
   "metadata": {},
   "outputs": [],
   "source": [
    "from sklearn.model_selection import cross_val_score"
   ]
  },
  {
   "cell_type": "markdown",
   "metadata": {},
   "source": [
    "# Zadanie 6"
   ]
  },
  {
   "cell_type": "markdown",
   "metadata": {},
   "source": [
    "Wykonaj testowanie krzyżowe $\\texttt{cross_val_score}$ dla modeli z zadania 2 oraz 5."
   ]
  },
  {
   "cell_type": "code",
   "execution_count": 39,
   "metadata": {},
   "outputs": [
    {
     "name": "stdout",
     "output_type": "stream",
     "text": [
      "[-0.49817597  0.16962177 -0.23580717  0.04477498 -1.42822014]\n",
      "[0.67706771 0.62054517 0.66791034 0.70283281 0.60300159]\n"
     ]
    }
   ],
   "source": [
    "print(cross_val_score(model, X_train1, y_train1))\n",
    "print(cross_val_score(model3, X_train3, y_train3))"
   ]
  },
  {
   "cell_type": "code",
   "execution_count": null,
   "metadata": {},
   "outputs": [],
   "source": []
  }
 ],
 "metadata": {
  "kernelspec": {
   "display_name": "Python 3",
   "language": "python",
   "name": "python3"
  },
  "language_info": {
   "codemirror_mode": {
    "name": "ipython",
    "version": 3
   },
   "file_extension": ".py",
   "mimetype": "text/x-python",
   "name": "python",
   "nbconvert_exporter": "python",
   "pygments_lexer": "ipython3",
   "version": "3.7.6"
  }
 },
 "nbformat": 4,
 "nbformat_minor": 2
}
